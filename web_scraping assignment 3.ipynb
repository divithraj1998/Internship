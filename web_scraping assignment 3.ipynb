{
 "cells": [
  {
   "cell_type": "code",
   "execution_count": 3,
   "id": "07def712",
   "metadata": {},
   "outputs": [
    {
     "name": "stdout",
     "output_type": "stream",
     "text": [
      "Requirement already satisfied: selenium in c:\\users\\divith raj\\anaconda3\\lib\\site-packages (4.16.0)\n",
      "Requirement already satisfied: urllib3[socks]<3,>=1.26 in c:\\users\\divith raj\\anaconda3\\lib\\site-packages (from selenium) (1.26.16)\n",
      "Requirement already satisfied: trio~=0.17 in c:\\users\\divith raj\\anaconda3\\lib\\site-packages (from selenium) (0.24.0)\n",
      "Requirement already satisfied: trio-websocket~=0.9 in c:\\users\\divith raj\\anaconda3\\lib\\site-packages (from selenium) (0.11.1)\n",
      "Requirement already satisfied: certifi>=2021.10.8 in c:\\users\\divith raj\\anaconda3\\lib\\site-packages (from selenium) (2023.7.22)\n",
      "Requirement already satisfied: attrs>=20.1.0 in c:\\users\\divith raj\\anaconda3\\lib\\site-packages (from trio~=0.17->selenium) (22.1.0)\n",
      "Requirement already satisfied: sortedcontainers in c:\\users\\divith raj\\anaconda3\\lib\\site-packages (from trio~=0.17->selenium) (2.4.0)\n",
      "Requirement already satisfied: idna in c:\\users\\divith raj\\anaconda3\\lib\\site-packages (from trio~=0.17->selenium) (3.4)\n",
      "Requirement already satisfied: outcome in c:\\users\\divith raj\\anaconda3\\lib\\site-packages (from trio~=0.17->selenium) (1.3.0.post0)\n",
      "Requirement already satisfied: sniffio>=1.3.0 in c:\\users\\divith raj\\anaconda3\\lib\\site-packages (from trio~=0.17->selenium) (1.3.0)\n",
      "Requirement already satisfied: cffi>=1.14 in c:\\users\\divith raj\\anaconda3\\lib\\site-packages (from trio~=0.17->selenium) (1.15.1)\n",
      "Requirement already satisfied: wsproto>=0.14 in c:\\users\\divith raj\\anaconda3\\lib\\site-packages (from trio-websocket~=0.9->selenium) (1.2.0)\n",
      "Requirement already satisfied: PySocks!=1.5.7,<2.0,>=1.5.6 in c:\\users\\divith raj\\anaconda3\\lib\\site-packages (from urllib3[socks]<3,>=1.26->selenium) (1.7.1)\n",
      "Requirement already satisfied: pycparser in c:\\users\\divith raj\\anaconda3\\lib\\site-packages (from cffi>=1.14->trio~=0.17->selenium) (2.21)\n",
      "Requirement already satisfied: h11<1,>=0.9.0 in c:\\users\\divith raj\\anaconda3\\lib\\site-packages (from wsproto>=0.14->trio-websocket~=0.9->selenium) (0.14.0)\n"
     ]
    }
   ],
   "source": [
    "!pip install selenium"
   ]
  },
  {
   "cell_type": "code",
   "execution_count": 4,
   "id": "db854ae5",
   "metadata": {},
   "outputs": [],
   "source": [
    "import selenium\n",
    "from selenium import webdriver\n",
    "from selenium.webdriver.common.by import By\n",
    "import pandas as pd\n",
    "import time\n",
    "\n",
    "from selenium.common.exceptions import NoSuchElementException\n",
    "from selenium.common.exceptions import ElementClickInterceptedException\n",
    "from selenium.webdriver.support.ui import WebDriverWait\n",
    "from selenium.webdriver.support import expected_conditions as EC\n",
    "\n",
    "from selenium.webdriver.common.keys import Keys\n"
   ]
  },
  {
   "cell_type": "markdown",
   "id": "5ad2f1ef",
   "metadata": {},
   "source": [
    "# 1 and 2"
   ]
  },
  {
   "cell_type": "raw",
   "id": "c8ae38cb",
   "metadata": {},
   "source": [
    "1. Write a python program which searches all the product under a particular product from www.amazon.in. The \n",
    "product to be searched will be taken as input from user. For e.g. If user input is ‘guitar’. Then search for \n",
    "guitars. \n",
    "2. In the above question, now scrape the following details of each product listed in first 3 pages of your search \n",
    "results and save it in a data frame and csv. In case if any product has less than 3 pages in search results then \n",
    "scrape all the products available under that product name. Details to be scraped are: \"Brand \n",
    "Name\", \"Name of the Product\", \"Price\", \"Return/Exchange\", \"Expected Delivery\", \"Availability\" and \n",
    "“Product URL”. In case, if any of the details are missing for any of the product then replace it by “-“. "
   ]
  },
  {
   "cell_type": "code",
   "execution_count": 119,
   "id": "51ed6350",
   "metadata": {},
   "outputs": [],
   "source": [
    "def extract(num,item):\n",
    "    \n",
    "    driver=webdriver.Chrome()\n",
    "    \n",
    "    driver.get(\"https://www.amazon.in/?tag=msndeskabkin-21&ref=pd_sl_5szpgfto9j_e&adgrpid=1320515071595367&hvadid=82532458765178&hvnetw=o&hvqmt=e&hvbmt=be&hvdev=c&hvlocint=&hvlocphy=116074&hvtargid=kwd-82533067351416:loc-90&hydadcr=14452_2334185\")\n",
    "    \n",
    "    type=driver.find_element(By.XPATH,\"/html/body/div[1]/header/div/div[1]/div[2]/div/form/div[2]/div[1]/input\")\n",
    "    type.send_keys(item)\n",
    "    \n",
    "    search=driver.find_element(By.XPATH,\"/html/body/div[1]/header/div/div[1]/div[2]/div/form/div[3]/div/span/input\")\n",
    "    search.click()\n",
    "    \n",
    "    links=[]\n",
    "    \n",
    "    brand_name=[]  \n",
    "    name_of_product=[] \n",
    "    price=[] \n",
    "    r_o=[]   \n",
    "    exe_del=[]  \n",
    "    avai=[] \n",
    "    url=[] \n",
    "    \n",
    "    for y in range(num):\n",
    "        \n",
    "        print(\"page no. \",y+1 )\n",
    "        \n",
    "        elements=driver.find_elements(By.XPATH,'//a[@class=\"a-link-normal s-underline-text s-underline-link-text s-link-style a-text-normal\"]')\n",
    "        \n",
    "        for i in elements:\n",
    "            links.append(i.get_attribute('href'))\n",
    "        \n",
    "        try:\n",
    "            next=driver.find_element(By.XPATH,'//a[@class=\"s-pagination-item s-pagination-next s-pagination-button s-pagination-separator\"]')\n",
    "            next.click()\n",
    "            \n",
    "            time.sleep(6)\n",
    "            \n",
    "        except NoSuchElementException as e:\n",
    "            print(\"Exception raised \", e)\n",
    "            break;\n",
    "        \n",
    "    print(\"The total number of products :\",len(links))\n",
    "    \n",
    "    for x in range(len(links)):\n",
    "    \n",
    "        driver.get(links[x])\n",
    "    \n",
    "        delay=10\n",
    "        WebDriverWait(driver,delay).until(EC.presence_of_element_located((By.XPATH,'//h1[@id=\"title\"]')))\n",
    "    \n",
    "\n",
    "        try:\n",
    "            b_name=driver.find_element(By.XPATH,'//tr[@class=\"a-spacing-small po-brand\"]/td[2]/span')\n",
    "            if b_name.text==None:\n",
    "                brand_name.append(\"NA\")\n",
    "            else:\n",
    "                brand_name.append(b_name.text)\n",
    "        except NoSuchElementException as e:\n",
    "                brand_name.append(\"NA\")\n",
    "    \n",
    "        try:\n",
    "            name_of_p=driver.find_element(By.XPATH,'//h1[@id=\"title\"]')\n",
    "            if name_of_p.text==None:\n",
    "                name_of_product.append(\"NA\")\n",
    "            else:\n",
    "                name_of_product.append(name_of_p.text)\n",
    "        except NoSuchElementException as e:\n",
    "                name_of_product.append(\"NA\")\n",
    "            \n",
    "        try:\n",
    "            ro=driver.find_element(By.XPATH,'//div[@id=\"maxBuyBackDiscountSection\"]')\n",
    "            if ro.text==None:\n",
    "                r_o.append(\"NA\")\n",
    "            else:\n",
    "                r_o.append(ro.text)\n",
    "        except NoSuchElementException as e:\n",
    "                r_o.append(\"NA\")\n",
    "    \n",
    "        try:\n",
    "            pri=driver.find_element(By.XPATH,'//span[@class=\"a-price aok-align-center reinventPricePriceToPayMargin priceToPay\"]')\n",
    "            if pri.text==None:\n",
    "                price.append(\"NA\")\n",
    "            else:\n",
    "                price.append(pri.text)\n",
    "        except NoSuchElementException as e:\n",
    "                price.append(\"NA\")\n",
    "            \n",
    "        try:\n",
    "            e_d=driver.find_element(By.XPATH,'//div[@id=\"mir-layout-DELIVERY_BLOCK-slot-PRIMARY_DELIVERY_MESSAGE_LARGE\"]/span/span[1]')\n",
    "            if e_d.text==None:\n",
    "                exe_del.append(\"NA\")\n",
    "            else:\n",
    "                exe_del.append(e_d.text)\n",
    "        except NoSuchElementException as e:\n",
    "                exe_del.append(\"NA\")\n",
    "            \n",
    "        try:\n",
    "            av=driver.find_element(By.XPATH,'//div[@id=\"availability\"]')\n",
    "            if av.text==None:\n",
    "                avai.append(\"NA\")\n",
    "            else:\n",
    "                avai.append(av.text)\n",
    "        except NoSuchElementException as e:\n",
    "                avai.append(\"NA\")\n",
    "    \n",
    "        print(f'{x+1}st product data extracted')\n",
    "        \n",
    "    df=pd.DataFrame({'brand_name':brand_name,'name_of_product':name_of_product,'price':price,'r_o':r_o,'exe_del':exe_del,'avai':avai,'links':links})\n",
    "    return(df)\n",
    "        \n",
    "        \n",
    "            \n",
    "        "
   ]
  },
  {
   "cell_type": "code",
   "execution_count": 120,
   "id": "a7dc1445",
   "metadata": {},
   "outputs": [
    {
     "name": "stdout",
     "output_type": "stream",
     "text": [
      "page no.  1\n",
      "page no.  2\n",
      "page no.  3\n",
      "The total number of products : 68\n",
      "1st product data extracted\n",
      "2st product data extracted\n",
      "3st product data extracted\n",
      "4st product data extracted\n",
      "5st product data extracted\n",
      "6st product data extracted\n",
      "7st product data extracted\n",
      "8st product data extracted\n",
      "9st product data extracted\n",
      "10st product data extracted\n",
      "11st product data extracted\n",
      "12st product data extracted\n",
      "13st product data extracted\n",
      "14st product data extracted\n",
      "15st product data extracted\n",
      "16st product data extracted\n",
      "17st product data extracted\n",
      "18st product data extracted\n",
      "19st product data extracted\n",
      "20st product data extracted\n",
      "21st product data extracted\n",
      "22st product data extracted\n",
      "23st product data extracted\n",
      "24st product data extracted\n",
      "25st product data extracted\n",
      "26st product data extracted\n",
      "27st product data extracted\n",
      "28st product data extracted\n",
      "29st product data extracted\n",
      "30st product data extracted\n",
      "31st product data extracted\n",
      "32st product data extracted\n",
      "33st product data extracted\n",
      "34st product data extracted\n",
      "35st product data extracted\n",
      "36st product data extracted\n",
      "37st product data extracted\n",
      "38st product data extracted\n",
      "39st product data extracted\n",
      "40st product data extracted\n",
      "41st product data extracted\n",
      "42st product data extracted\n",
      "43st product data extracted\n",
      "44st product data extracted\n",
      "45st product data extracted\n",
      "46st product data extracted\n",
      "47st product data extracted\n",
      "48st product data extracted\n",
      "49st product data extracted\n",
      "50st product data extracted\n",
      "51st product data extracted\n",
      "52st product data extracted\n",
      "53st product data extracted\n",
      "54st product data extracted\n",
      "55st product data extracted\n",
      "56st product data extracted\n",
      "57st product data extracted\n",
      "58st product data extracted\n",
      "59st product data extracted\n",
      "60st product data extracted\n",
      "61st product data extracted\n",
      "62st product data extracted\n",
      "63st product data extracted\n",
      "64st product data extracted\n",
      "65st product data extracted\n",
      "66st product data extracted\n",
      "67st product data extracted\n",
      "68st product data extracted\n",
      "   brand_name                                    name_of_product  \\\n",
      "0        Acer  Acer One 14 Business Laptop AMD Ryzen 3 3250U ...   \n",
      "1        Dell  Dell 15 Laptop, Intel Core i3-1115G4 Processor...   \n",
      "2        ASUS  ASUS Vivobook 15 OLED (2023), Intel Core i5-13...   \n",
      "3       Chuwi  Chuwi HeroBook Pro 14.1'' Laptop, 8GB RAM 256G...   \n",
      "4        ASUS  ASUS BR1100 Laptop, 11.6\" (29.46cm) HD Anti-Gl...   \n",
      "..        ...                                                ...   \n",
      "63       ASUS  ASUS TUF Gaming F15, 15.6\"(39.62 cms) FHD 144H...   \n",
      "64       ASUS  ASUS Vivobook 14, IntelCore i3-1215U 12th Gen,...   \n",
      "65    Samsung  Samsung Galaxy Book3 360 Intel 13th Gen i5 Evo...   \n",
      "66         HP  HP Laptop 15s, 12th Gen Intel Core i3-1215U, 1...   \n",
      "67   YOGADESK  YOGADESK Sheesham Ergonomic iPad Tablet Stand ...   \n",
      "\n",
      "            price                     r_o                exe_del      avai  \n",
      "0         ₹26,990  Up to    11,950.00 off  Saturday, 10 February  In stock  \n",
      "1         ₹36,990  Up to    11,950.00 off    Sunday, 11 February  In stock  \n",
      "2         ₹67,990  Up to    11,950.00 off  Saturday, 10 February  In stock  \n",
      "3         ₹17,990  Up to    11,950.00 off  Saturday, 10 February  In stock  \n",
      "4         ₹16,490  Up to    11,950.00 off  Saturday, 10 February  In stock  \n",
      "..            ...                     ...                    ...       ...  \n",
      "63        ₹68,990  Up to    11,950.00 off  Saturday, 10 February  In stock  \n",
      "64        ₹37,990  Up to    11,950.00 off  Saturday, 10 February  In stock  \n",
      "65  ₹1,07,989\\n99  Up to    11,950.00 off    Sunday, 11 February  In stock  \n",
      "66        ₹43,990  Up to    11,950.00 off   Tuesday, 13 February  In stock  \n",
      "67         ₹1,699                      NA   Tuesday, 13 February  In stock  \n",
      "\n",
      "[68 rows x 6 columns]\n"
     ]
    }
   ],
   "source": [
    "dataframe=extract(3,\"laptop\")\n",
    "dataframe.to_csv('laptop.csv',sep=',')\n",
    "print(dataframe)"
   ]
  },
  {
   "cell_type": "markdown",
   "id": "0ecf2781",
   "metadata": {},
   "source": [
    "# 3"
   ]
  },
  {
   "cell_type": "raw",
   "id": "67219538",
   "metadata": {},
   "source": [
    "Write a python program to access the search bar and search button on images.google.com and scrape 10 \n",
    "images each for keywords ‘fruits’, ‘cars’ and ‘Machine Learning’, ‘Guitar’, ‘Cakes’. "
   ]
  },
  {
   "cell_type": "code",
   "execution_count": 95,
   "id": "b67b524b",
   "metadata": {},
   "outputs": [],
   "source": [
    "def images(item):\n",
    "    images=webdriver.Chrome()\n",
    "    \n",
    "    images.get(\"https://images.google.com/\")\n",
    "    \n",
    "    images.maximize_window()\n",
    "    \n",
    "    type=images.find_element(By.XPATH,\"/html/body/div[1]/div[3]/form/div[1]/div[1]/div[1]/div/div[2]/textarea\")\n",
    "    type.send_keys(item)\n",
    "        \n",
    "    search=images.find_element(By.XPATH,\"/html/body/div[1]/div[3]/form/div[1]/div[1]/div[1]/button\")\n",
    "    search.click()\n",
    "\n",
    "    elements=images.find_elements(By.XPATH,'//img[@class=\"rg_i Q4LuWd\"]')\n",
    "    \n",
    "    urls=[]\n",
    "    \n",
    "    for i in elements:\n",
    "        urls.append(i.get_attribute('src'))\n",
    "        \n",
    "    urls=urls[0:10]\n",
    "    \n",
    "    return urls\n"
   ]
  },
  {
   "cell_type": "code",
   "execution_count": 99,
   "id": "760177ee",
   "metadata": {},
   "outputs": [],
   "source": [
    "images(\"fruit\")"
   ]
  },
  {
   "cell_type": "markdown",
   "id": "743a0358",
   "metadata": {},
   "source": [
    "# 4"
   ]
  },
  {
   "cell_type": "raw",
   "id": "45eef63c",
   "metadata": {},
   "source": [
    "Write a python program to search for a smartphone(e.g.: Oneplus Nord, pixel 4A, etc.) on www.flipkart.com\n",
    "and scrape following details for all the search results displayed on 1st page. Details to be scraped: “Brand \n",
    "Name”, “Smartphone name”, “Colour”, “RAM”, “Storage(ROM)”, “Primary Camera”, \n",
    "“Secondary Camera”, “Display Size”, “Battery Capacity”, “Price”, “Product URL”. Incase if any of the \n",
    "details is missing then replace it by “- “. Save your results in a dataframe and CSV. "
   ]
  },
  {
   "cell_type": "code",
   "execution_count": 35,
   "id": "2260ec5e",
   "metadata": {},
   "outputs": [],
   "source": [
    "flipkart=webdriver.Chrome()"
   ]
  },
  {
   "cell_type": "code",
   "execution_count": 36,
   "id": "2f6b506b",
   "metadata": {},
   "outputs": [],
   "source": [
    "flipkart.get(\"https://www.flipkart.com/\")"
   ]
  },
  {
   "cell_type": "code",
   "execution_count": 37,
   "id": "db08f5f0",
   "metadata": {},
   "outputs": [],
   "source": [
    "name=[] #/html/body/div[1]/div/div[3]/div[1]/div[2]/div[2]/div/div[1]/h1/span\n",
    "\n",
    "colour=[] #/html/body/div[1]/div/div[3]/div[1]/div[2]/div[8]/div[4]/div/div[2]/div/div[1]/table/tbody/tr[4]/td[2]/ul/li\n",
    "\n",
    "RAM=[]   #/html/body/div[1]/div/div[3]/div[1]/div[2]/div[7]/div[1]/div/div[2]/ul/li[1]\n",
    "\n",
    "cam=[]  #/html/body/div[1]/div/div[3]/div[1]/div[2]/div[7]/div[1]/div/div[2]/ul/li[3]\n",
    "\n",
    "disp=[] #/html/body/div[1]/div/div[3]/div[1]/div[2]/div[7]/div[1]/div/div[2]/ul/li[2]\n",
    "\n",
    "capacity=[] #/html/body/div[1]/div/div[3]/div[1]/div[2]/div[7]/div[1]/div/div[2]/ul/li[4]\n",
    "\n",
    "price=[]  #//div[@class=\"_30jeq3 _16Jk6d\"]\n",
    "\n",
    "url=[]"
   ]
  },
  {
   "cell_type": "code",
   "execution_count": 38,
   "id": "c0d40fea",
   "metadata": {},
   "outputs": [],
   "source": [
    "phone=flipkart.find_element(By.XPATH,\"/html/body/div[1]/div/div[1]/div/div/div/div/div[1]/div/div/div/div[2]/div[1]/div/div[1]/div/div/div/div/div[1]/a[2]/div/div/div/div/img\")\n",
    "phone.click()"
   ]
  },
  {
   "cell_type": "code",
   "execution_count": 39,
   "id": "5829b77b",
   "metadata": {},
   "outputs": [],
   "source": [
    "\n",
    "type=flipkart.find_element(By.XPATH,\"/html/body/div/div/div[1]/div[1]/div[2]/div[2]/form/div/div/input\")\n",
    "type.send_keys(\"oneplus nord\")\n",
    "    \n"
   ]
  },
  {
   "cell_type": "code",
   "execution_count": 40,
   "id": "f74e3e46",
   "metadata": {},
   "outputs": [],
   "source": [
    "search=flipkart.find_element(By.XPATH,\"/html/body/div/div/div[1]/div[1]/div[2]/div[2]/form/div/button\")\n",
    "search.click()"
   ]
  },
  {
   "cell_type": "code",
   "execution_count": 41,
   "id": "1d325892",
   "metadata": {},
   "outputs": [],
   "source": [
    "elements=flipkart.find_elements(By.XPATH,'//a[@class=\"_1fQZEK\"]')\n",
    "        \n",
    "for i in elements:\n",
    "    url.append(i.get_attribute('href'))"
   ]
  },
  {
   "cell_type": "code",
   "execution_count": 42,
   "id": "48fb0972",
   "metadata": {},
   "outputs": [
    {
     "data": {
      "text/plain": [
       "24"
      ]
     },
     "execution_count": 42,
     "metadata": {},
     "output_type": "execute_result"
    }
   ],
   "source": [
    "len(url)"
   ]
  },
  {
   "cell_type": "code",
   "execution_count": 45,
   "id": "0b2a7dee",
   "metadata": {},
   "outputs": [
    {
     "name": "stdout",
     "output_type": "stream",
     "text": [
      "1st product data extracted\n",
      "2st product data extracted\n",
      "3st product data extracted\n",
      "4st product data extracted\n",
      "5st product data extracted\n",
      "6st product data extracted\n",
      "7st product data extracted\n",
      "8st product data extracted\n",
      "9st product data extracted\n",
      "10st product data extracted\n",
      "11st product data extracted\n",
      "12st product data extracted\n",
      "13st product data extracted\n",
      "14st product data extracted\n",
      "15st product data extracted\n",
      "16st product data extracted\n",
      "17st product data extracted\n",
      "18st product data extracted\n",
      "19st product data extracted\n",
      "20st product data extracted\n",
      "21st product data extracted\n",
      "22st product data extracted\n",
      "23st product data extracted\n",
      "24st product data extracted\n"
     ]
    }
   ],
   "source": [
    "for x in range(len(url)):\n",
    "    \n",
    "        flipkart.get(url[x])\n",
    "    \n",
    "        delay=10\n",
    "        WebDriverWait(flipkart,delay).until(EC.presence_of_element_located((By.XPATH,'/html/body/div[1]/div/div[3]/div[1]/div[2]/div[2]/div/div[1]/h1/span')))\n",
    "    \n",
    "\n",
    "        try:\n",
    "            b_name=flipkart.find_element(By.XPATH,'/html/body/div[1]/div/div[3]/div[1]/div[2]/div[2]/div/div[1]/h1/span')\n",
    "            if b_name.text==None:\n",
    "                name.append(\"NA\")\n",
    "            else:\n",
    "                name.append(b_name.text)\n",
    "        except NoSuchElementException as e:\n",
    "                name.append(\"NA\")\n",
    "    \n",
    "        try:\n",
    "            col=flipkart.find_element(By.XPATH,'/html/body/div[1]/div/div[3]/div[1]/div[2]/div[8]/div[4]/div/div[2]/div/div[1]/table/tbody/tr[4]/td[2]/ul/li')\n",
    "            if col.text==None:\n",
    "                colour.append(\"NA\")\n",
    "            else:\n",
    "                colour.append(col.text)\n",
    "        except NoSuchElementException as e:\n",
    "                colour.append(\"NA\")\n",
    "            \n",
    "        try:\n",
    "            ro=flipkart.find_element(By.XPATH,'/html/body/div[1]/div/div[3]/div[1]/div[2]/div[7]/div[1]/div/div[2]/ul/li[1]')\n",
    "            if ro.text==None:\n",
    "                RAM.append(\"NA\")\n",
    "            else:\n",
    "                RAM.append(ro.text)\n",
    "        except NoSuchElementException as e:\n",
    "                RAM.append(\"NA\")\n",
    "        \n",
    "\n",
    "        try:\n",
    "            pri=flipkart.find_element(By.XPATH,'/html/body/div[1]/div/div[3]/div[1]/div[2]/div[7]/div[1]/div/div[2]/ul/li[3]')\n",
    "            if pri.text==None:\n",
    "                cam.append(\"NA\")\n",
    "            else:\n",
    "                cam.append(pri.text)\n",
    "        except NoSuchElementException as e:\n",
    "                cam.append(\"NA\")\n",
    "            \n",
    "        try:\n",
    "            dis=flipkart.find_element(By.XPATH,'/html/body/div[1]/div/div[3]/div[1]/div[2]/div[7]/div[1]/div/div[2]/ul/li[2]')\n",
    "            if dis.text==None:\n",
    "                disp.append(\"NA\")\n",
    "            else:\n",
    "                disp.append(dis.text)\n",
    "        except NoSuchElementException as e:\n",
    "                disp.append(\"NA\")\n",
    "            \n",
    "        try:\n",
    "            cap=flipkart.find_element(By.XPATH,'/html/body/div[1]/div/div[3]/div[1]/div[2]/div[7]/div[1]/div/div[2]/ul/li[4]')\n",
    "            if cap.text==None:\n",
    "                capacity.append(\"NA\")\n",
    "            else:\n",
    "                capacity.append(cap.text)\n",
    "        except NoSuchElementException as e:\n",
    "                capacity.append(\"NA\")\n",
    "        \n",
    "        try:\n",
    "            mon=flipkart.find_element(By.XPATH,'//div[@class=\"_30jeq3 _16Jk6d\"]')\n",
    "            if mon.text==None:\n",
    "                price.append(\"NA\")\n",
    "            else:\n",
    "                price.append(mon.text)\n",
    "        except NoSuchElementException as e:\n",
    "                price.append(\"NA\")\n",
    "                \n",
    "        print(f'{x+1}st product data extracted')"
   ]
  },
  {
   "cell_type": "code",
   "execution_count": 56,
   "id": "ff8b3e69",
   "metadata": {},
   "outputs": [],
   "source": [
    "df=pd.DataFrame({'NAME':name,'COLOUR':colour,'RAM & ROM':RAM,'CAMERA':cam,'DISPLAY':disp,'BATTERY':capacity,'PRICE':price,'LINKS':url})"
   ]
  },
  {
   "cell_type": "code",
   "execution_count": 57,
   "id": "bee691bf",
   "metadata": {},
   "outputs": [
    {
     "data": {
      "text/html": [
       "<div>\n",
       "<style scoped>\n",
       "    .dataframe tbody tr th:only-of-type {\n",
       "        vertical-align: middle;\n",
       "    }\n",
       "\n",
       "    .dataframe tbody tr th {\n",
       "        vertical-align: top;\n",
       "    }\n",
       "\n",
       "    .dataframe thead th {\n",
       "        text-align: right;\n",
       "    }\n",
       "</style>\n",
       "<table border=\"1\" class=\"dataframe\">\n",
       "  <thead>\n",
       "    <tr style=\"text-align: right;\">\n",
       "      <th></th>\n",
       "      <th>NAME</th>\n",
       "      <th>COLOUR</th>\n",
       "      <th>RAM &amp; ROM</th>\n",
       "      <th>CAMERA</th>\n",
       "      <th>DISPLAY</th>\n",
       "      <th>BATTERY</th>\n",
       "      <th>PRICE</th>\n",
       "      <th>LINKS</th>\n",
       "    </tr>\n",
       "  </thead>\n",
       "  <tbody>\n",
       "    <tr>\n",
       "      <th>0</th>\n",
       "      <td>OnePlus Nord CE 3 Lite 5G (Pastel Lime, 256 GB...</td>\n",
       "      <td>Pastel Lime</td>\n",
       "      <td>8 GB RAM | 256 GB ROM</td>\n",
       "      <td>108MP Rear Camera</td>\n",
       "      <td>17.07 cm (6.72 inch) Display</td>\n",
       "      <td>5000 mAh Battery</td>\n",
       "      <td>₹20,899</td>\n",
       "      <td>https://www.flipkart.com/oneplus-nord-ce-3-lit...</td>\n",
       "    </tr>\n",
       "    <tr>\n",
       "      <th>1</th>\n",
       "      <td>OnePlus Nord CE 3 Lite 5G (Chromatic Gray, 128...</td>\n",
       "      <td>Chromatic Gray</td>\n",
       "      <td>8 GB RAM | 128 GB ROM</td>\n",
       "      <td>108MP Rear Camera</td>\n",
       "      <td>17.07 cm (6.72 inch) Display</td>\n",
       "      <td>5000 mAh Battery</td>\n",
       "      <td>₹19,425</td>\n",
       "      <td>https://www.flipkart.com/oneplus-nord-ce-3-lit...</td>\n",
       "    </tr>\n",
       "    <tr>\n",
       "      <th>2</th>\n",
       "      <td>OnePlus Nord CE 3 Lite 5G (Pastel Lime, 128 GB...</td>\n",
       "      <td>Pastel Lime</td>\n",
       "      <td>8 GB RAM | 128 GB ROM</td>\n",
       "      <td>108MP Rear Camera</td>\n",
       "      <td>17.07 cm (6.72 inch) Display</td>\n",
       "      <td>5000 mAh Battery</td>\n",
       "      <td>₹19,299</td>\n",
       "      <td>https://www.flipkart.com/oneplus-nord-ce-3-lit...</td>\n",
       "    </tr>\n",
       "    <tr>\n",
       "      <th>3</th>\n",
       "      <td>OnePlus Nord CE 3 Lite 5G (Chromatic Gray, 256...</td>\n",
       "      <td>Chromatic Gray</td>\n",
       "      <td>8 GB RAM | 256 GB ROM</td>\n",
       "      <td>108MP Rear Camera</td>\n",
       "      <td>17.07 cm (6.72 inch) Display</td>\n",
       "      <td>5000 mAh Battery</td>\n",
       "      <td>₹20,845</td>\n",
       "      <td>https://www.flipkart.com/oneplus-nord-ce-3-lit...</td>\n",
       "    </tr>\n",
       "    <tr>\n",
       "      <th>4</th>\n",
       "      <td>OnePlus Nord CE 2 Lite 5G (Blue Tide, 128 GB) ...</td>\n",
       "      <td>Blue Tide</td>\n",
       "      <td>6 GB RAM | 128 GB ROM</td>\n",
       "      <td>64MP Rear Camera | 16MP Front Camera</td>\n",
       "      <td>16.74 cm (6.59 inch) Display</td>\n",
       "      <td>5000 mAh Battery</td>\n",
       "      <td>₹18,198</td>\n",
       "      <td>https://www.flipkart.com/oneplus-nord-ce-2-lit...</td>\n",
       "    </tr>\n",
       "    <tr>\n",
       "      <th>5</th>\n",
       "      <td>OnePlus Nord CE 3 Lite 5G (Chromatic Gray, 256...</td>\n",
       "      <td>Chromatic Gray</td>\n",
       "      <td>8 GB RAM | 256 GB ROM</td>\n",
       "      <td>108MP Rear Camera</td>\n",
       "      <td>17.07 cm (6.72 inch) Display</td>\n",
       "      <td>5000 mAh Battery</td>\n",
       "      <td>₹21,280</td>\n",
       "      <td>https://www.flipkart.com/oneplus-nord-ce-3-lit...</td>\n",
       "    </tr>\n",
       "    <tr>\n",
       "      <th>6</th>\n",
       "      <td>OnePlus Nord CE 2 Lite 5G (Black Dusk, 128 GB)...</td>\n",
       "      <td>NA</td>\n",
       "      <td>6 GB RAM | 128 GB ROM</td>\n",
       "      <td>64MP Rear Camera | 16MP Front Camera</td>\n",
       "      <td>16.74 cm (6.59 inch) Display</td>\n",
       "      <td>5000 mAh Battery</td>\n",
       "      <td>₹17,804</td>\n",
       "      <td>https://www.flipkart.com/oneplus-nord-ce-2-lit...</td>\n",
       "    </tr>\n",
       "    <tr>\n",
       "      <th>7</th>\n",
       "      <td>OnePlus Nord CE 3 Lite 5G (Pastel lime, 256 GB...</td>\n",
       "      <td>Pastel lime</td>\n",
       "      <td>8 GB RAM | 256 GB ROM</td>\n",
       "      <td>108MP Rear Camera</td>\n",
       "      <td>17.07 cm (6.72 inch) Display</td>\n",
       "      <td>5000 mAh Battery</td>\n",
       "      <td>₹21,199</td>\n",
       "      <td>https://www.flipkart.com/oneplus-nord-ce-3-lit...</td>\n",
       "    </tr>\n",
       "    <tr>\n",
       "      <th>8</th>\n",
       "      <td>OnePlus Nord CE 3 Lite 5G (Chromatic Gray, 128...</td>\n",
       "      <td>NA</td>\n",
       "      <td>NA</td>\n",
       "      <td>NA</td>\n",
       "      <td>NA</td>\n",
       "      <td>NA</td>\n",
       "      <td>₹19,903</td>\n",
       "      <td>https://www.flipkart.com/oneplus-nord-ce-3-lit...</td>\n",
       "    </tr>\n",
       "    <tr>\n",
       "      <th>9</th>\n",
       "      <td>OnePlus Nord CE 3 Lite 5G (Pastel Lime, 128 GB...</td>\n",
       "      <td>NA</td>\n",
       "      <td>NA</td>\n",
       "      <td>NA</td>\n",
       "      <td>NA</td>\n",
       "      <td>NA</td>\n",
       "      <td>₹19,400</td>\n",
       "      <td>https://www.flipkart.com/oneplus-nord-ce-3-lit...</td>\n",
       "    </tr>\n",
       "    <tr>\n",
       "      <th>10</th>\n",
       "      <td>OnePlus Nord CE3 5G (Aqua Surge, 128 GB)  (8 G...</td>\n",
       "      <td>Aqua Surge</td>\n",
       "      <td>8 GB RAM | 128 GB ROM</td>\n",
       "      <td>50MP Rear Camera | 50MP Front Camera</td>\n",
       "      <td>17.02 cm (6.7 inch) Display</td>\n",
       "      <td>5000 mAh Battery</td>\n",
       "      <td>₹24,579</td>\n",
       "      <td>https://www.flipkart.com/oneplus-nord-ce3-5g-a...</td>\n",
       "    </tr>\n",
       "    <tr>\n",
       "      <th>11</th>\n",
       "      <td>OnePlus Nord CE3 5G (Aqua Surge, 256 GB)  (12 ...</td>\n",
       "      <td>NA</td>\n",
       "      <td>12 GB RAM | 256 GB ROM</td>\n",
       "      <td>50MP Rear Camera</td>\n",
       "      <td>17.02 cm (6.7 inch) Display</td>\n",
       "      <td>5000 mAh Battery</td>\n",
       "      <td>₹28,217</td>\n",
       "      <td>https://www.flipkart.com/oneplus-nord-ce3-5g-a...</td>\n",
       "    </tr>\n",
       "    <tr>\n",
       "      <th>12</th>\n",
       "      <td>OnePlus Nord 3 5G (Misty Green, 128 GB)  (8 GB...</td>\n",
       "      <td>Misty Green</td>\n",
       "      <td>8 GB RAM | 128 GB ROM</td>\n",
       "      <td>50MP Rear Camera</td>\n",
       "      <td>17.12 cm (6.74 inch) Display</td>\n",
       "      <td>5000 mAh Battery</td>\n",
       "      <td>₹28,158</td>\n",
       "      <td>https://www.flipkart.com/oneplus-nord-3-5g-mis...</td>\n",
       "    </tr>\n",
       "    <tr>\n",
       "      <th>13</th>\n",
       "      <td>OnePlus Nord CE 3 Lite 5G (Pastel Lime, 256 GB...</td>\n",
       "      <td>NA</td>\n",
       "      <td>NA</td>\n",
       "      <td>NA</td>\n",
       "      <td>NA</td>\n",
       "      <td>NA</td>\n",
       "      <td>₹21,335</td>\n",
       "      <td>https://www.flipkart.com/oneplus-nord-ce-3-lit...</td>\n",
       "    </tr>\n",
       "    <tr>\n",
       "      <th>14</th>\n",
       "      <td>OnePlus Nord CE3 5G (Grey Shimmer, 128 GB)  (8...</td>\n",
       "      <td>Grey Shimmer</td>\n",
       "      <td>8 GB RAM | 128 GB ROM</td>\n",
       "      <td>50MP Rear Camera</td>\n",
       "      <td>17.02 cm (6.7 inch) Display</td>\n",
       "      <td>5000 mAh Battery</td>\n",
       "      <td>₹24,450</td>\n",
       "      <td>https://www.flipkart.com/oneplus-nord-ce3-5g-g...</td>\n",
       "    </tr>\n",
       "    <tr>\n",
       "      <th>15</th>\n",
       "      <td>OnePlus Nord 3 5G (Tempest Gray, 256 GB)  (16 ...</td>\n",
       "      <td>NA</td>\n",
       "      <td>16 GB RAM | 256 GB ROM</td>\n",
       "      <td>50MP Rear Camera</td>\n",
       "      <td>17.12 cm (6.74 inch) Display</td>\n",
       "      <td>5000 mAh Battery</td>\n",
       "      <td>₹36,000</td>\n",
       "      <td>https://www.flipkart.com/oneplus-nord-3-5g-tem...</td>\n",
       "    </tr>\n",
       "    <tr>\n",
       "      <th>16</th>\n",
       "      <td>OnePlus Nord CE 3 Lite 5G (Chromatic Gray, 256...</td>\n",
       "      <td>NA</td>\n",
       "      <td>NA</td>\n",
       "      <td>NA</td>\n",
       "      <td>NA</td>\n",
       "      <td>NA</td>\n",
       "      <td>₹21,490</td>\n",
       "      <td>https://www.flipkart.com/oneplus-nord-ce-3-lit...</td>\n",
       "    </tr>\n",
       "    <tr>\n",
       "      <th>17</th>\n",
       "      <td>OnePlus Nord 3 5G (Misty Green, 256 GB)  (16 G...</td>\n",
       "      <td>NA</td>\n",
       "      <td>16 GB RAM | 256 GB ROM</td>\n",
       "      <td>50MP Rear Camera</td>\n",
       "      <td>17.12 cm (6.74 inch) Display</td>\n",
       "      <td>5000 mAh Battery</td>\n",
       "      <td>₹37,630</td>\n",
       "      <td>https://www.flipkart.com/oneplus-nord-3-5g-mis...</td>\n",
       "    </tr>\n",
       "    <tr>\n",
       "      <th>18</th>\n",
       "      <td>OnePlus Nord 3 5G (Tempest Gray, 128 GB)  (8 G...</td>\n",
       "      <td>Tempest Gray</td>\n",
       "      <td>8 GB RAM | 128 GB ROM</td>\n",
       "      <td>50MP Rear Camera</td>\n",
       "      <td>17.12 cm (6.74 inch) Full HD+ Display</td>\n",
       "      <td>5000 mAh Battery</td>\n",
       "      <td>₹29,097</td>\n",
       "      <td>https://www.flipkart.com/oneplus-nord-3-5g-tem...</td>\n",
       "    </tr>\n",
       "    <tr>\n",
       "      <th>19</th>\n",
       "      <td>OnePlus Nord CE 3 Lite 5G (Chromatic Gray, 128...</td>\n",
       "      <td>NA</td>\n",
       "      <td>NA</td>\n",
       "      <td>NA</td>\n",
       "      <td>NA</td>\n",
       "      <td>NA</td>\n",
       "      <td>₹19,701</td>\n",
       "      <td>https://www.flipkart.com/oneplus-nord-ce-3-lit...</td>\n",
       "    </tr>\n",
       "    <tr>\n",
       "      <th>20</th>\n",
       "      <td>OnePlus Nord CE 2 5G (Bahama Blue, 128 GB)  (8...</td>\n",
       "      <td>NA</td>\n",
       "      <td>NA</td>\n",
       "      <td>NA</td>\n",
       "      <td>NA</td>\n",
       "      <td>NA</td>\n",
       "      <td>₹21,886</td>\n",
       "      <td>https://www.flipkart.com/oneplus-nord-ce-2-5g-...</td>\n",
       "    </tr>\n",
       "    <tr>\n",
       "      <th>21</th>\n",
       "      <td>OnePlus Nord CE 2 5G (Bahama Blue, 128 GB)  (8...</td>\n",
       "      <td>NA</td>\n",
       "      <td>NA</td>\n",
       "      <td>NA</td>\n",
       "      <td>NA</td>\n",
       "      <td>NA</td>\n",
       "      <td>₹22,995</td>\n",
       "      <td>https://www.flipkart.com/oneplus-nord-ce-2-5g-...</td>\n",
       "    </tr>\n",
       "    <tr>\n",
       "      <th>22</th>\n",
       "      <td>OnePlus Nord CE 2 5G (Bahama Blue, 128 GB)  (8...</td>\n",
       "      <td>NA</td>\n",
       "      <td>NA</td>\n",
       "      <td>NA</td>\n",
       "      <td>NA</td>\n",
       "      <td>NA</td>\n",
       "      <td>₹21,395</td>\n",
       "      <td>https://www.flipkart.com/oneplus-nord-ce-2-5g-...</td>\n",
       "    </tr>\n",
       "    <tr>\n",
       "      <th>23</th>\n",
       "      <td>OnePlus Nord 2T 5G (Jade Fog, 128 GB)  (8 GB RAM)</td>\n",
       "      <td>NA</td>\n",
       "      <td>NA</td>\n",
       "      <td>NA</td>\n",
       "      <td>NA</td>\n",
       "      <td>NA</td>\n",
       "      <td>₹28,990</td>\n",
       "      <td>https://www.flipkart.com/oneplus-nord-2t-5g-ja...</td>\n",
       "    </tr>\n",
       "  </tbody>\n",
       "</table>\n",
       "</div>"
      ],
      "text/plain": [
       "                                                 NAME          COLOUR  \\\n",
       "0   OnePlus Nord CE 3 Lite 5G (Pastel Lime, 256 GB...     Pastel Lime   \n",
       "1   OnePlus Nord CE 3 Lite 5G (Chromatic Gray, 128...  Chromatic Gray   \n",
       "2   OnePlus Nord CE 3 Lite 5G (Pastel Lime, 128 GB...     Pastel Lime   \n",
       "3   OnePlus Nord CE 3 Lite 5G (Chromatic Gray, 256...  Chromatic Gray   \n",
       "4   OnePlus Nord CE 2 Lite 5G (Blue Tide, 128 GB) ...       Blue Tide   \n",
       "5   OnePlus Nord CE 3 Lite 5G (Chromatic Gray, 256...  Chromatic Gray   \n",
       "6   OnePlus Nord CE 2 Lite 5G (Black Dusk, 128 GB)...              NA   \n",
       "7   OnePlus Nord CE 3 Lite 5G (Pastel lime, 256 GB...     Pastel lime   \n",
       "8   OnePlus Nord CE 3 Lite 5G (Chromatic Gray, 128...              NA   \n",
       "9   OnePlus Nord CE 3 Lite 5G (Pastel Lime, 128 GB...              NA   \n",
       "10  OnePlus Nord CE3 5G (Aqua Surge, 128 GB)  (8 G...      Aqua Surge   \n",
       "11  OnePlus Nord CE3 5G (Aqua Surge, 256 GB)  (12 ...              NA   \n",
       "12  OnePlus Nord 3 5G (Misty Green, 128 GB)  (8 GB...     Misty Green   \n",
       "13  OnePlus Nord CE 3 Lite 5G (Pastel Lime, 256 GB...              NA   \n",
       "14  OnePlus Nord CE3 5G (Grey Shimmer, 128 GB)  (8...    Grey Shimmer   \n",
       "15  OnePlus Nord 3 5G (Tempest Gray, 256 GB)  (16 ...              NA   \n",
       "16  OnePlus Nord CE 3 Lite 5G (Chromatic Gray, 256...              NA   \n",
       "17  OnePlus Nord 3 5G (Misty Green, 256 GB)  (16 G...              NA   \n",
       "18  OnePlus Nord 3 5G (Tempest Gray, 128 GB)  (8 G...    Tempest Gray   \n",
       "19  OnePlus Nord CE 3 Lite 5G (Chromatic Gray, 128...              NA   \n",
       "20  OnePlus Nord CE 2 5G (Bahama Blue, 128 GB)  (8...              NA   \n",
       "21  OnePlus Nord CE 2 5G (Bahama Blue, 128 GB)  (8...              NA   \n",
       "22  OnePlus Nord CE 2 5G (Bahama Blue, 128 GB)  (8...              NA   \n",
       "23  OnePlus Nord 2T 5G (Jade Fog, 128 GB)  (8 GB RAM)              NA   \n",
       "\n",
       "                 RAM & ROM                                CAMERA  \\\n",
       "0    8 GB RAM | 256 GB ROM                     108MP Rear Camera   \n",
       "1    8 GB RAM | 128 GB ROM                     108MP Rear Camera   \n",
       "2    8 GB RAM | 128 GB ROM                     108MP Rear Camera   \n",
       "3    8 GB RAM | 256 GB ROM                     108MP Rear Camera   \n",
       "4    6 GB RAM | 128 GB ROM  64MP Rear Camera | 16MP Front Camera   \n",
       "5    8 GB RAM | 256 GB ROM                     108MP Rear Camera   \n",
       "6    6 GB RAM | 128 GB ROM  64MP Rear Camera | 16MP Front Camera   \n",
       "7    8 GB RAM | 256 GB ROM                     108MP Rear Camera   \n",
       "8                       NA                                    NA   \n",
       "9                       NA                                    NA   \n",
       "10   8 GB RAM | 128 GB ROM  50MP Rear Camera | 50MP Front Camera   \n",
       "11  12 GB RAM | 256 GB ROM                      50MP Rear Camera   \n",
       "12   8 GB RAM | 128 GB ROM                      50MP Rear Camera   \n",
       "13                      NA                                    NA   \n",
       "14   8 GB RAM | 128 GB ROM                      50MP Rear Camera   \n",
       "15  16 GB RAM | 256 GB ROM                      50MP Rear Camera   \n",
       "16                      NA                                    NA   \n",
       "17  16 GB RAM | 256 GB ROM                      50MP Rear Camera   \n",
       "18   8 GB RAM | 128 GB ROM                      50MP Rear Camera   \n",
       "19                      NA                                    NA   \n",
       "20                      NA                                    NA   \n",
       "21                      NA                                    NA   \n",
       "22                      NA                                    NA   \n",
       "23                      NA                                    NA   \n",
       "\n",
       "                                  DISPLAY           BATTERY    PRICE  \\\n",
       "0            17.07 cm (6.72 inch) Display  5000 mAh Battery  ₹20,899   \n",
       "1            17.07 cm (6.72 inch) Display  5000 mAh Battery  ₹19,425   \n",
       "2            17.07 cm (6.72 inch) Display  5000 mAh Battery  ₹19,299   \n",
       "3            17.07 cm (6.72 inch) Display  5000 mAh Battery  ₹20,845   \n",
       "4            16.74 cm (6.59 inch) Display  5000 mAh Battery  ₹18,198   \n",
       "5            17.07 cm (6.72 inch) Display  5000 mAh Battery  ₹21,280   \n",
       "6            16.74 cm (6.59 inch) Display  5000 mAh Battery  ₹17,804   \n",
       "7            17.07 cm (6.72 inch) Display  5000 mAh Battery  ₹21,199   \n",
       "8                                      NA                NA  ₹19,903   \n",
       "9                                      NA                NA  ₹19,400   \n",
       "10            17.02 cm (6.7 inch) Display  5000 mAh Battery  ₹24,579   \n",
       "11            17.02 cm (6.7 inch) Display  5000 mAh Battery  ₹28,217   \n",
       "12           17.12 cm (6.74 inch) Display  5000 mAh Battery  ₹28,158   \n",
       "13                                     NA                NA  ₹21,335   \n",
       "14            17.02 cm (6.7 inch) Display  5000 mAh Battery  ₹24,450   \n",
       "15           17.12 cm (6.74 inch) Display  5000 mAh Battery  ₹36,000   \n",
       "16                                     NA                NA  ₹21,490   \n",
       "17           17.12 cm (6.74 inch) Display  5000 mAh Battery  ₹37,630   \n",
       "18  17.12 cm (6.74 inch) Full HD+ Display  5000 mAh Battery  ₹29,097   \n",
       "19                                     NA                NA  ₹19,701   \n",
       "20                                     NA                NA  ₹21,886   \n",
       "21                                     NA                NA  ₹22,995   \n",
       "22                                     NA                NA  ₹21,395   \n",
       "23                                     NA                NA  ₹28,990   \n",
       "\n",
       "                                                LINKS  \n",
       "0   https://www.flipkart.com/oneplus-nord-ce-3-lit...  \n",
       "1   https://www.flipkart.com/oneplus-nord-ce-3-lit...  \n",
       "2   https://www.flipkart.com/oneplus-nord-ce-3-lit...  \n",
       "3   https://www.flipkart.com/oneplus-nord-ce-3-lit...  \n",
       "4   https://www.flipkart.com/oneplus-nord-ce-2-lit...  \n",
       "5   https://www.flipkart.com/oneplus-nord-ce-3-lit...  \n",
       "6   https://www.flipkart.com/oneplus-nord-ce-2-lit...  \n",
       "7   https://www.flipkart.com/oneplus-nord-ce-3-lit...  \n",
       "8   https://www.flipkart.com/oneplus-nord-ce-3-lit...  \n",
       "9   https://www.flipkart.com/oneplus-nord-ce-3-lit...  \n",
       "10  https://www.flipkart.com/oneplus-nord-ce3-5g-a...  \n",
       "11  https://www.flipkart.com/oneplus-nord-ce3-5g-a...  \n",
       "12  https://www.flipkart.com/oneplus-nord-3-5g-mis...  \n",
       "13  https://www.flipkart.com/oneplus-nord-ce-3-lit...  \n",
       "14  https://www.flipkart.com/oneplus-nord-ce3-5g-g...  \n",
       "15  https://www.flipkart.com/oneplus-nord-3-5g-tem...  \n",
       "16  https://www.flipkart.com/oneplus-nord-ce-3-lit...  \n",
       "17  https://www.flipkart.com/oneplus-nord-3-5g-mis...  \n",
       "18  https://www.flipkart.com/oneplus-nord-3-5g-tem...  \n",
       "19  https://www.flipkart.com/oneplus-nord-ce-3-lit...  \n",
       "20  https://www.flipkart.com/oneplus-nord-ce-2-5g-...  \n",
       "21  https://www.flipkart.com/oneplus-nord-ce-2-5g-...  \n",
       "22  https://www.flipkart.com/oneplus-nord-ce-2-5g-...  \n",
       "23  https://www.flipkart.com/oneplus-nord-2t-5g-ja...  "
      ]
     },
     "execution_count": 57,
     "metadata": {},
     "output_type": "execute_result"
    }
   ],
   "source": [
    "df"
   ]
  },
  {
   "cell_type": "markdown",
   "id": "028b431f",
   "metadata": {},
   "source": [
    "# 5"
   ]
  },
  {
   "cell_type": "raw",
   "id": "a4a5e2d5",
   "metadata": {},
   "source": [
    "Write a program to scrap geospatial coordinates (latitude, longitude) of a city searched on google maps."
   ]
  },
  {
   "cell_type": "code",
   "execution_count": 23,
   "id": "706a63dc",
   "metadata": {},
   "outputs": [],
   "source": [
    "def coordinates(loc):\n",
    "    maps=webdriver.Chrome()\n",
    "\n",
    "    maps.get(\"https://www.google.co.in/maps/@13.0474733,80.0441982,11z?entry=ttu\")\n",
    "    \n",
    "    maps.maximize_window()\n",
    "    \n",
    "    place=maps.find_element(By.XPATH,'/html/body/div[1]/div[3]/div[8]/div[3]/div[1]/div[1]/div/div[2]/form/input')\n",
    "    place.send_keys(loc)\n",
    "    \n",
    "    search=maps.find_element(By.XPATH,'/html/body/div[1]/div[3]/div[8]/div[3]/div[1]/div[1]/div/div[2]/div[1]/button')\n",
    "    search.click()\n",
    "    \n",
    "    url = maps.current_url\n",
    "    \n",
    "    coordinates_start_index = url.index(\"@\") + 1\n",
    "    coordinates_end_index = url.index(\",\", coordinates_start_index)\n",
    "    latitude = url[coordinates_start_index:coordinates_end_index]\n",
    "    longitude = url[coordinates_end_index + 1:url.index(\",\", coordinates_end_index + 1)]\n",
    "    \n",
    "    print(\"Latitude :\",latitude)\n",
    "    print(\"Longitude :\",longitude)"
   ]
  },
  {
   "cell_type": "code",
   "execution_count": 24,
   "id": "29e9f48a",
   "metadata": {},
   "outputs": [
    {
     "name": "stdout",
     "output_type": "stream",
     "text": [
      "Latitude : 13.0474733\n",
      "Longitude : 80.0441982\n"
     ]
    }
   ],
   "source": [
    "coordinates(\"rajam\")"
   ]
  },
  {
   "cell_type": "markdown",
   "id": "95a2b89a",
   "metadata": {},
   "source": [
    "# 6"
   ]
  },
  {
   "cell_type": "raw",
   "id": "4d742a0c",
   "metadata": {},
   "source": [
    "Write a program to scrap all the available details of best gaming laptops from digit.in."
   ]
  },
  {
   "cell_type": "code",
   "execution_count": 120,
   "id": "346d654b",
   "metadata": {},
   "outputs": [],
   "source": [
    "digit=webdriver.Chrome()"
   ]
  },
  {
   "cell_type": "code",
   "execution_count": 121,
   "id": "144b1b3f",
   "metadata": {},
   "outputs": [],
   "source": [
    "digit.get('https://www.digit.in/#')\n",
    "digit.maximize_window()"
   ]
  },
  {
   "cell_type": "code",
   "execution_count": 122,
   "id": "8c8863ee",
   "metadata": {},
   "outputs": [],
   "source": [
    "laptops=digit.find_element(By.XPATH,\"/html/body/div[1]/header/div/div[2]/div/nav/ul/li[2]/a\")\n",
    "laptops.click()"
   ]
  },
  {
   "cell_type": "code",
   "execution_count": 123,
   "id": "7f68808b",
   "metadata": {},
   "outputs": [],
   "source": [
    "links=[]"
   ]
  },
  {
   "cell_type": "code",
   "execution_count": 124,
   "id": "80d6e7cc",
   "metadata": {},
   "outputs": [],
   "source": [
    "element1=digit.find_element(By.XPATH,'/html/body/div[1]/header/div/div[2]/div/nav/ul/li[2]/ul/li[3]/ul/li[1]/a')\n",
    "links.append(element1.get_attribute('href'))\n",
    "element2=digit.find_element(By.XPATH,'/html/body/div[1]/header/div/div[2]/div/nav/ul/li[2]/ul/li[3]/ul/li[2]/a')\n",
    "links.append(element2.get_attribute('href'))\n",
    "element3=digit.find_element(By.XPATH,'/html/body/div[1]/header/div/div[2]/div/nav/ul/li[2]/ul/li[3]/ul/li[3]/a')\n",
    "links.append(element3.get_attribute('href'))\n",
    "element4=digit.find_element(By.XPATH,'/html/body/div[1]/header/div/div[2]/div/nav/ul/li[2]/ul/li[3]/ul/li[4]/a')\n",
    "links.append(element4.get_attribute('href'))"
   ]
  },
  {
   "cell_type": "code",
   "execution_count": 125,
   "id": "bcc0ea11",
   "metadata": {},
   "outputs": [
    {
     "data": {
      "text/plain": [
       "['https://www.digit.in/top-products/best-amd-gaming-laptops-with-nvidia-geforce-rtx-3050-4073.html',\n",
       " 'https://www.digit.in/top-products/best-amd-gaming-laptop-with-16gb-ram-4072.html',\n",
       " 'https://www.digit.in/top-products/best-amd-gaming-laptops-for-students-4071.html',\n",
       " 'https://www.digit.in/top-products/best-amd-gaming-laptop-with-nvidia-geforce-rtx-3060-4070.html']"
      ]
     },
     "execution_count": 125,
     "metadata": {},
     "output_type": "execute_result"
    }
   ],
   "source": [
    "links"
   ]
  },
  {
   "cell_type": "code",
   "execution_count": 126,
   "id": "8c28479a",
   "metadata": {},
   "outputs": [],
   "source": [
    "name_of_product=[] #//h3[@class=\"font130 mt0 mb10 mobilesblockdisplay \"]\n",
    "operating_sys=[] #//div[@class=\"rh_grid_image_3_col\"]/div[3]/div[2]/div[1]/div/span[2]\n",
    "display=[]   # //div[@class=\"rh_grid_image_3_col\"]/div[3]/div[2]/div[2]/div/span[2]\n",
    "resolution=[]  # //div[@class=\"rh_grid_image_3_col\"]/div[3]/div[2]/div[3]/div/span[2]\n",
    "processor=[] #  //div[@class=\"rh_grid_image_3_col\"]/div[3]/div[2]/div[4]/div/span[2]\n"
   ]
  },
  {
   "cell_type": "code",
   "execution_count": 139,
   "id": "fa96e8e7",
   "metadata": {},
   "outputs": [
    {
     "name": "stdout",
     "output_type": "stream",
     "text": [
      "1st product data extracted\n",
      "2st product data extracted\n",
      "3st product data extracted\n",
      "4st product data extracted\n"
     ]
    }
   ],
   "source": [
    "for x in range(len(links)):\n",
    "    \n",
    "        digit.get(links[x])\n",
    "    \n",
    "        time.sleep(7)\n",
    "    \n",
    "\n",
    "\n",
    "        name_of_p=digit.find_elements(By.XPATH,'//h3[@class=\"font130 mt0 mb10 mobilesblockdisplay \"]')\n",
    "        for i in name_of_p:\n",
    "            name_of_product.append(i.text)\n",
    "        \n",
    "        os=digit.find_elements(By.XPATH,'//div[@class=\"rh_grid_image_3_col\"]/div[3]/div[2]/div[1]/div/span[2]')\n",
    "        for i in os:\n",
    "            operating_sys.append(i.text)\n",
    "        \n",
    "        dis=digit.find_elements(By.XPATH,'//div[@class=\"rh_grid_image_3_col\"]/div[3]/div[2]/div[2]/div/span[2]')\n",
    "        for i in dis:\n",
    "            display.append(i.text)\n",
    "        \n",
    "        res=digit.find_elements(By.XPATH,'//div[@class=\"rh_grid_image_3_col\"]/div[3]/div[2]/div[3]/div/span[2]')\n",
    "        for i in res:\n",
    "            resolution.append(i.text)\n",
    "        \n",
    "        pro=digit.find_elements(By.XPATH,'//div[@class=\"rh_grid_image_3_col\"]/div[3]/div[2]/div[4]/div/span[2]')\n",
    "        for i in pro:\n",
    "            processor.append(i.text)\n",
    "\n",
    "        print(f'{x+1}st product data extracted')"
   ]
  },
  {
   "cell_type": "code",
   "execution_count": 143,
   "id": "fa16c629",
   "metadata": {},
   "outputs": [
    {
     "data": {
      "text/html": [
       "<div>\n",
       "<style scoped>\n",
       "    .dataframe tbody tr th:only-of-type {\n",
       "        vertical-align: middle;\n",
       "    }\n",
       "\n",
       "    .dataframe tbody tr th {\n",
       "        vertical-align: top;\n",
       "    }\n",
       "\n",
       "    .dataframe thead th {\n",
       "        text-align: right;\n",
       "    }\n",
       "</style>\n",
       "<table border=\"1\" class=\"dataframe\">\n",
       "  <thead>\n",
       "    <tr style=\"text-align: right;\">\n",
       "      <th></th>\n",
       "      <th>NAME</th>\n",
       "      <th>OS</th>\n",
       "      <th>DISPLAY</th>\n",
       "      <th>RESOLUTION</th>\n",
       "      <th>PROCESSOR</th>\n",
       "    </tr>\n",
       "  </thead>\n",
       "  <tbody>\n",
       "    <tr>\n",
       "      <th>0</th>\n",
       "      <td>Lenovo IdeaPad Gaming 3 82K200X3IN Ryzen 7-580...</td>\n",
       "      <td>Windows 11 Home</td>\n",
       "      <td>15.6</td>\n",
       "      <td>1920 x 1080</td>\n",
       "      <td>5th Gen AMD Ryzen 7-5800</td>\n",
       "    </tr>\n",
       "    <tr>\n",
       "      <th>1</th>\n",
       "      <td>Dell New G15-5515 D560805WIN9W Ryzen 5-5600H (...</td>\n",
       "      <td>Windows 10</td>\n",
       "      <td>15.6</td>\n",
       "      <td>1920 x 1080</td>\n",
       "      <td>AMD Ryzen 5-5600H</td>\n",
       "    </tr>\n",
       "    <tr>\n",
       "      <th>2</th>\n",
       "      <td>HP Pavilion Gaming 15-ec2145AX Ryzen 5-5600H (...</td>\n",
       "      <td>Windows 11 Home</td>\n",
       "      <td>15.6</td>\n",
       "      <td>1920 x 1080</td>\n",
       "      <td>AMD Ryzen 5 5600H</td>\n",
       "    </tr>\n",
       "    <tr>\n",
       "      <th>3</th>\n",
       "      <td>Lenovo IdeaPad Gaming 3 15ACH6 Ryzen 5-5600H (...</td>\n",
       "      <td>Windows 11 Home</td>\n",
       "      <td>15.6</td>\n",
       "      <td>1920 x 1080</td>\n",
       "      <td>AMD Ryzen 5-5600H</td>\n",
       "    </tr>\n",
       "    <tr>\n",
       "      <th>4</th>\n",
       "      <td>HP OMEN 15-en1037AX 5th Gen Ryzen 7-5800H (2021)</td>\n",
       "      <td>Windows 10 Home</td>\n",
       "      <td>15.6</td>\n",
       "      <td>2560 x 1440</td>\n",
       "      <td>5th Gen AMD Ryzen 7-5800H</td>\n",
       "    </tr>\n",
       "    <tr>\n",
       "      <th>5</th>\n",
       "      <td>Acer Nitro 5 AN515-45-R3TC Ryzen 5-5600H (2021)</td>\n",
       "      <td>Windows 10 Home</td>\n",
       "      <td>15.6</td>\n",
       "      <td>1920 x 1080</td>\n",
       "      <td>AMD Ryzen 5 Hexa Core 5600H</td>\n",
       "    </tr>\n",
       "    <tr>\n",
       "      <th>6</th>\n",
       "      <td>Dell New G15-5515 D560730WIN9W Ryzen 7-5800H</td>\n",
       "      <td>Windows 11 Home</td>\n",
       "      <td>15.6</td>\n",
       "      <td>1920 x 1080</td>\n",
       "      <td>AMD Ryzen R7-5800H</td>\n",
       "    </tr>\n",
       "    <tr>\n",
       "      <th>7</th>\n",
       "      <td>Lenovo Ideapad Gaming 3 82K200X2IN Ryzen 7-580...</td>\n",
       "      <td>Windows 11 Home</td>\n",
       "      <td>15.6</td>\n",
       "      <td>1920 x 1080</td>\n",
       "      <td>AMD Ryzen 7-5800H</td>\n",
       "    </tr>\n",
       "    <tr>\n",
       "      <th>8</th>\n",
       "      <td>HP Victus 16-e0362ax 5th Gen Ryzen 7-5800H (2022)</td>\n",
       "      <td>Windows 11 Home</td>\n",
       "      <td>16.1</td>\n",
       "      <td>2560 x 1440</td>\n",
       "      <td>5th Gen AMD Ryzen 7-5800H</td>\n",
       "    </tr>\n",
       "    <tr>\n",
       "      <th>9</th>\n",
       "      <td>Acer Nitro 5 AN515-45-R3TC Ryzen 5-5600H (2021)</td>\n",
       "      <td>Windows 10 Home</td>\n",
       "      <td>15.6</td>\n",
       "      <td>1920 x 1080</td>\n",
       "      <td>AMD Ryzen 5 Hexa Core 5600H</td>\n",
       "    </tr>\n",
       "    <tr>\n",
       "      <th>10</th>\n",
       "      <td>Dell New G15-5515 D560804WIN9W Ryzen 5-5600H (...</td>\n",
       "      <td>Windows 11 Home</td>\n",
       "      <td>15.6</td>\n",
       "      <td>1920 x 1080</td>\n",
       "      <td>AMD Ryzen 5-5600H</td>\n",
       "    </tr>\n",
       "    <tr>\n",
       "      <th>11</th>\n",
       "      <td>HP Pavilion Gaming 15-EC2048AX Ryzen 5-5600X</td>\n",
       "      <td>Windows 10 Home</td>\n",
       "      <td>15.6</td>\n",
       "      <td>1920 x 1080</td>\n",
       "      <td>AMD Ryzen 5-5600X</td>\n",
       "    </tr>\n",
       "    <tr>\n",
       "      <th>12</th>\n",
       "      <td>Lenovo Ideapad Gaming 3 82K201RRIN AMD Ryzen 5...</td>\n",
       "      <td>Windows 11 Home</td>\n",
       "      <td>15.6</td>\n",
       "      <td>1920 x 1080</td>\n",
       "      <td>AMD Ryzen 5-5600H</td>\n",
       "    </tr>\n",
       "    <tr>\n",
       "      <th>13</th>\n",
       "      <td>Acer Nitro 5 AN515-45 NH.QBCSI.002 Ryzen 7-580...</td>\n",
       "      <td>Windows 10 Home</td>\n",
       "      <td>15.6</td>\n",
       "      <td>1920 x 1080</td>\n",
       "      <td>AMD Ryzen 7-5800H</td>\n",
       "    </tr>\n",
       "    <tr>\n",
       "      <th>14</th>\n",
       "      <td>HP Victus 16-e0362ax 5th Gen Ryzen 7-5800H (2022)</td>\n",
       "      <td>Windows 11 Home</td>\n",
       "      <td>16.1</td>\n",
       "      <td>2560 x 1440</td>\n",
       "      <td>5th Gen AMD Ryzen 7-5800H</td>\n",
       "    </tr>\n",
       "    <tr>\n",
       "      <th>15</th>\n",
       "      <td>Lenovo Legion 5 82JU010NIN 5th Gen Ryzen 7-5800H</td>\n",
       "      <td>Windows 10 Home</td>\n",
       "      <td>15.6</td>\n",
       "      <td>1920 x 1080</td>\n",
       "      <td>5th Gen AMD Ryzen 7-5800H</td>\n",
       "    </tr>\n",
       "    <tr>\n",
       "      <th>16</th>\n",
       "      <td>DELL ALIENWARE M15 R5 GAMING Ryzen R7-5800H (2...</td>\n",
       "      <td>Windows 11 Home</td>\n",
       "      <td>15.6</td>\n",
       "      <td>1920 x 1080</td>\n",
       "      <td>AMD Ryzen R7-5800H</td>\n",
       "    </tr>\n",
       "  </tbody>\n",
       "</table>\n",
       "</div>"
      ],
      "text/plain": [
       "                                                 NAME               OS  \\\n",
       "0   Lenovo IdeaPad Gaming 3 82K200X3IN Ryzen 7-580...  Windows 11 Home   \n",
       "1   Dell New G15-5515 D560805WIN9W Ryzen 5-5600H (...       Windows 10   \n",
       "2   HP Pavilion Gaming 15-ec2145AX Ryzen 5-5600H (...  Windows 11 Home   \n",
       "3   Lenovo IdeaPad Gaming 3 15ACH6 Ryzen 5-5600H (...  Windows 11 Home   \n",
       "4    HP OMEN 15-en1037AX 5th Gen Ryzen 7-5800H (2021)  Windows 10 Home   \n",
       "5     Acer Nitro 5 AN515-45-R3TC Ryzen 5-5600H (2021)  Windows 10 Home   \n",
       "6        Dell New G15-5515 D560730WIN9W Ryzen 7-5800H  Windows 11 Home   \n",
       "7   Lenovo Ideapad Gaming 3 82K200X2IN Ryzen 7-580...  Windows 11 Home   \n",
       "8   HP Victus 16-e0362ax 5th Gen Ryzen 7-5800H (2022)  Windows 11 Home   \n",
       "9     Acer Nitro 5 AN515-45-R3TC Ryzen 5-5600H (2021)  Windows 10 Home   \n",
       "10  Dell New G15-5515 D560804WIN9W Ryzen 5-5600H (...  Windows 11 Home   \n",
       "11       HP Pavilion Gaming 15-EC2048AX Ryzen 5-5600X  Windows 10 Home   \n",
       "12  Lenovo Ideapad Gaming 3 82K201RRIN AMD Ryzen 5...  Windows 11 Home   \n",
       "13  Acer Nitro 5 AN515-45 NH.QBCSI.002 Ryzen 7-580...  Windows 10 Home   \n",
       "14  HP Victus 16-e0362ax 5th Gen Ryzen 7-5800H (2022)  Windows 11 Home   \n",
       "15   Lenovo Legion 5 82JU010NIN 5th Gen Ryzen 7-5800H  Windows 10 Home   \n",
       "16  DELL ALIENWARE M15 R5 GAMING Ryzen R7-5800H (2...  Windows 11 Home   \n",
       "\n",
       "   DISPLAY   RESOLUTION                    PROCESSOR  \n",
       "0     15.6  1920 x 1080     5th Gen AMD Ryzen 7-5800  \n",
       "1     15.6  1920 x 1080            AMD Ryzen 5-5600H  \n",
       "2     15.6  1920 x 1080            AMD Ryzen 5 5600H  \n",
       "3     15.6  1920 x 1080            AMD Ryzen 5-5600H  \n",
       "4     15.6  2560 x 1440    5th Gen AMD Ryzen 7-5800H  \n",
       "5     15.6  1920 x 1080  AMD Ryzen 5 Hexa Core 5600H  \n",
       "6     15.6  1920 x 1080           AMD Ryzen R7-5800H  \n",
       "7     15.6  1920 x 1080            AMD Ryzen 7-5800H  \n",
       "8     16.1  2560 x 1440    5th Gen AMD Ryzen 7-5800H  \n",
       "9     15.6  1920 x 1080  AMD Ryzen 5 Hexa Core 5600H  \n",
       "10    15.6  1920 x 1080            AMD Ryzen 5-5600H  \n",
       "11    15.6  1920 x 1080            AMD Ryzen 5-5600X  \n",
       "12    15.6  1920 x 1080            AMD Ryzen 5-5600H  \n",
       "13    15.6  1920 x 1080            AMD Ryzen 7-5800H  \n",
       "14    16.1  2560 x 1440    5th Gen AMD Ryzen 7-5800H  \n",
       "15    15.6  1920 x 1080    5th Gen AMD Ryzen 7-5800H  \n",
       "16    15.6  1920 x 1080           AMD Ryzen R7-5800H  "
      ]
     },
     "execution_count": 143,
     "metadata": {},
     "output_type": "execute_result"
    }
   ],
   "source": [
    "df=pd.DataFrame({'NAME':name_of_product,'OS':operating_sys,'DISPLAY':display,'RESOLUTION':resolution,'PROCESSOR':processor})\n",
    "df"
   ]
  },
  {
   "cell_type": "markdown",
   "id": "7fa7a45b",
   "metadata": {},
   "source": [
    "# 7"
   ]
  },
  {
   "cell_type": "raw",
   "id": "601827b2",
   "metadata": {},
   "source": [
    " Write a python program to scrape the details for all billionaires from www.forbes.com. Details to be scrapped: \n",
    "“Rank”, “Name”, “Net worth”, “Age”, “Citizenship”, “Source”, “Industry”."
   ]
  },
  {
   "cell_type": "code",
   "execution_count": 24,
   "id": "8a99734f",
   "metadata": {},
   "outputs": [],
   "source": [
    "forbes=webdriver.Chrome()"
   ]
  },
  {
   "cell_type": "code",
   "execution_count": 20,
   "id": "0c3f349f",
   "metadata": {},
   "outputs": [],
   "source": [
    "forbes.get(\"https://www.forbes.com/?sh=740f1ebb2254\")"
   ]
  },
  {
   "cell_type": "code",
   "execution_count": 25,
   "id": "a5c2dce1",
   "metadata": {},
   "outputs": [],
   "source": [
    "forbes.maximize_window()\n"
   ]
  },
  {
   "cell_type": "code",
   "execution_count": 22,
   "id": "01e1c9de",
   "metadata": {},
   "outputs": [],
   "source": [
    "ham=forbes.find_element(By.XPATH,'//div[@class=\"_69hVhdY4\"]')\n",
    "ham.click()"
   ]
  },
  {
   "cell_type": "code",
   "execution_count": 26,
   "id": "014a873c",
   "metadata": {},
   "outputs": [],
   "source": [
    "forbes.get(\"https://www.forbes.com/billionaires/\")"
   ]
  },
  {
   "cell_type": "code",
   "execution_count": null,
   "id": "48e5bf31",
   "metadata": {},
   "outputs": [],
   "source": [
    "name=[]      #//div[@class=\"TableRow_row__L-0Km\"]/div[2] \n",
    "rank=[]      #//div[@class=\"TableRow_row__L-0Km\"]/div[1] \n",
    "net_worth=[] #//div[@class=\"TableRow_row__L-0Km\"]/div[3] \n",
    "age=[]       #\n",
    "citizen=[]   #\n",
    "source= []   #\n",
    "industry=[]  #"
   ]
  },
  {
   "cell_type": "code",
   "execution_count": null,
   "id": "d1f27e1b",
   "metadata": {},
   "outputs": [],
   "source": []
  },
  {
   "cell_type": "code",
   "execution_count": null,
   "id": "aa8103bc",
   "metadata": {},
   "outputs": [],
   "source": []
  },
  {
   "cell_type": "code",
   "execution_count": null,
   "id": "47335e5d",
   "metadata": {},
   "outputs": [],
   "source": []
  },
  {
   "cell_type": "code",
   "execution_count": null,
   "id": "65eccef3",
   "metadata": {},
   "outputs": [],
   "source": []
  },
  {
   "cell_type": "code",
   "execution_count": null,
   "id": "39df109f",
   "metadata": {},
   "outputs": [],
   "source": []
  },
  {
   "cell_type": "code",
   "execution_count": null,
   "id": "c0cb4519",
   "metadata": {},
   "outputs": [],
   "source": []
  },
  {
   "cell_type": "code",
   "execution_count": null,
   "id": "7ec4ea5a",
   "metadata": {},
   "outputs": [],
   "source": []
  },
  {
   "cell_type": "code",
   "execution_count": 23,
   "id": "07599faa",
   "metadata": {},
   "outputs": [
    {
     "ename": "NoSuchElementException",
     "evalue": "Message: no such element: Unable to locate element: {\"method\":\"xpath\",\"selector\":\"/html/body/div[1]/header/nav/div[1]/div[1]/div/div[2]/ul/li[2]/div[1]/span/svg/path\"}\n  (Session info: chrome=121.0.6167.161); For documentation on this error, please visit: https://www.selenium.dev/documentation/webdriver/troubleshooting/errors#no-such-element-exception\nStacktrace:\n\tGetHandleVerifier [0x00007FF79E675E42+3538674]\n\t(No symbol) [0x00007FF79E294C02]\n\t(No symbol) [0x00007FF79E145AEB]\n\t(No symbol) [0x00007FF79E18BF4E]\n\t(No symbol) [0x00007FF79E18C0CC]\n\t(No symbol) [0x00007FF79E1CE477]\n\t(No symbol) [0x00007FF79E1AF0EF]\n\t(No symbol) [0x00007FF79E1CBDE3]\n\t(No symbol) [0x00007FF79E1AEE53]\n\t(No symbol) [0x00007FF79E17F514]\n\t(No symbol) [0x00007FF79E180631]\n\tGetHandleVerifier [0x00007FF79E6A6CAD+3738973]\n\tGetHandleVerifier [0x00007FF79E6FC506+4089270]\n\tGetHandleVerifier [0x00007FF79E6F4823+4057299]\n\tGetHandleVerifier [0x00007FF79E3C5C49+720121]\n\t(No symbol) [0x00007FF79E2A126F]\n\t(No symbol) [0x00007FF79E29C304]\n\t(No symbol) [0x00007FF79E29C432]\n\t(No symbol) [0x00007FF79E28BD04]\n\tBaseThreadInitThunk [0x00007FFCECC1257D+29]\n\tRtlUserThreadStart [0x00007FFCEDA4AA58+40]\n",
     "output_type": "error",
     "traceback": [
      "\u001b[1;31m---------------------------------------------------------------------------\u001b[0m",
      "\u001b[1;31mNoSuchElementException\u001b[0m                    Traceback (most recent call last)",
      "Cell \u001b[1;32mIn[23], line 1\u001b[0m\n\u001b[1;32m----> 1\u001b[0m billion\u001b[38;5;241m=\u001b[39mforbes\u001b[38;5;241m.\u001b[39mfind_element(By\u001b[38;5;241m.\u001b[39mXPATH,\u001b[38;5;124m'\u001b[39m\u001b[38;5;124m/html/body/div[1]/header/nav/div[1]/div[1]/div/div[2]/ul/li[2]/div[1]/span/svg/path\u001b[39m\u001b[38;5;124m'\u001b[39m)\n\u001b[0;32m      2\u001b[0m billion\u001b[38;5;241m.\u001b[39mclick()\n",
      "File \u001b[1;32m~\\anaconda3\\Lib\\site-packages\\selenium\\webdriver\\remote\\webdriver.py:742\u001b[0m, in \u001b[0;36mWebDriver.find_element\u001b[1;34m(self, by, value)\u001b[0m\n\u001b[0;32m    739\u001b[0m     by \u001b[38;5;241m=\u001b[39m By\u001b[38;5;241m.\u001b[39mCSS_SELECTOR\n\u001b[0;32m    740\u001b[0m     value \u001b[38;5;241m=\u001b[39m \u001b[38;5;124mf\u001b[39m\u001b[38;5;124m'\u001b[39m\u001b[38;5;124m[name=\u001b[39m\u001b[38;5;124m\"\u001b[39m\u001b[38;5;132;01m{\u001b[39;00mvalue\u001b[38;5;132;01m}\u001b[39;00m\u001b[38;5;124m\"\u001b[39m\u001b[38;5;124m]\u001b[39m\u001b[38;5;124m'\u001b[39m\n\u001b[1;32m--> 742\u001b[0m \u001b[38;5;28;01mreturn\u001b[39;00m \u001b[38;5;28mself\u001b[39m\u001b[38;5;241m.\u001b[39mexecute(Command\u001b[38;5;241m.\u001b[39mFIND_ELEMENT, {\u001b[38;5;124m\"\u001b[39m\u001b[38;5;124musing\u001b[39m\u001b[38;5;124m\"\u001b[39m: by, \u001b[38;5;124m\"\u001b[39m\u001b[38;5;124mvalue\u001b[39m\u001b[38;5;124m\"\u001b[39m: value})[\u001b[38;5;124m\"\u001b[39m\u001b[38;5;124mvalue\u001b[39m\u001b[38;5;124m\"\u001b[39m]\n",
      "File \u001b[1;32m~\\anaconda3\\Lib\\site-packages\\selenium\\webdriver\\remote\\webdriver.py:348\u001b[0m, in \u001b[0;36mWebDriver.execute\u001b[1;34m(self, driver_command, params)\u001b[0m\n\u001b[0;32m    346\u001b[0m response \u001b[38;5;241m=\u001b[39m \u001b[38;5;28mself\u001b[39m\u001b[38;5;241m.\u001b[39mcommand_executor\u001b[38;5;241m.\u001b[39mexecute(driver_command, params)\n\u001b[0;32m    347\u001b[0m \u001b[38;5;28;01mif\u001b[39;00m response:\n\u001b[1;32m--> 348\u001b[0m     \u001b[38;5;28mself\u001b[39m\u001b[38;5;241m.\u001b[39merror_handler\u001b[38;5;241m.\u001b[39mcheck_response(response)\n\u001b[0;32m    349\u001b[0m     response[\u001b[38;5;124m\"\u001b[39m\u001b[38;5;124mvalue\u001b[39m\u001b[38;5;124m\"\u001b[39m] \u001b[38;5;241m=\u001b[39m \u001b[38;5;28mself\u001b[39m\u001b[38;5;241m.\u001b[39m_unwrap_value(response\u001b[38;5;241m.\u001b[39mget(\u001b[38;5;124m\"\u001b[39m\u001b[38;5;124mvalue\u001b[39m\u001b[38;5;124m\"\u001b[39m, \u001b[38;5;28;01mNone\u001b[39;00m))\n\u001b[0;32m    350\u001b[0m     \u001b[38;5;28;01mreturn\u001b[39;00m response\n",
      "File \u001b[1;32m~\\anaconda3\\Lib\\site-packages\\selenium\\webdriver\\remote\\errorhandler.py:229\u001b[0m, in \u001b[0;36mErrorHandler.check_response\u001b[1;34m(self, response)\u001b[0m\n\u001b[0;32m    227\u001b[0m         alert_text \u001b[38;5;241m=\u001b[39m value[\u001b[38;5;124m\"\u001b[39m\u001b[38;5;124malert\u001b[39m\u001b[38;5;124m\"\u001b[39m]\u001b[38;5;241m.\u001b[39mget(\u001b[38;5;124m\"\u001b[39m\u001b[38;5;124mtext\u001b[39m\u001b[38;5;124m\"\u001b[39m)\n\u001b[0;32m    228\u001b[0m     \u001b[38;5;28;01mraise\u001b[39;00m exception_class(message, screen, stacktrace, alert_text)  \u001b[38;5;66;03m# type: ignore[call-arg]  # mypy is not smart enough here\u001b[39;00m\n\u001b[1;32m--> 229\u001b[0m \u001b[38;5;28;01mraise\u001b[39;00m exception_class(message, screen, stacktrace)\n",
      "\u001b[1;31mNoSuchElementException\u001b[0m: Message: no such element: Unable to locate element: {\"method\":\"xpath\",\"selector\":\"/html/body/div[1]/header/nav/div[1]/div[1]/div/div[2]/ul/li[2]/div[1]/span/svg/path\"}\n  (Session info: chrome=121.0.6167.161); For documentation on this error, please visit: https://www.selenium.dev/documentation/webdriver/troubleshooting/errors#no-such-element-exception\nStacktrace:\n\tGetHandleVerifier [0x00007FF79E675E42+3538674]\n\t(No symbol) [0x00007FF79E294C02]\n\t(No symbol) [0x00007FF79E145AEB]\n\t(No symbol) [0x00007FF79E18BF4E]\n\t(No symbol) [0x00007FF79E18C0CC]\n\t(No symbol) [0x00007FF79E1CE477]\n\t(No symbol) [0x00007FF79E1AF0EF]\n\t(No symbol) [0x00007FF79E1CBDE3]\n\t(No symbol) [0x00007FF79E1AEE53]\n\t(No symbol) [0x00007FF79E17F514]\n\t(No symbol) [0x00007FF79E180631]\n\tGetHandleVerifier [0x00007FF79E6A6CAD+3738973]\n\tGetHandleVerifier [0x00007FF79E6FC506+4089270]\n\tGetHandleVerifier [0x00007FF79E6F4823+4057299]\n\tGetHandleVerifier [0x00007FF79E3C5C49+720121]\n\t(No symbol) [0x00007FF79E2A126F]\n\t(No symbol) [0x00007FF79E29C304]\n\t(No symbol) [0x00007FF79E29C432]\n\t(No symbol) [0x00007FF79E28BD04]\n\tBaseThreadInitThunk [0x00007FFCECC1257D+29]\n\tRtlUserThreadStart [0x00007FFCEDA4AA58+40]\n"
     ]
    }
   ],
   "source": [
    "billion=forbes.find_element(By.XPATH,'/html/body/div[1]/header/nav/div[1]/div[1]/div/div[2]/ul/li[2]/div[1]/span/svg/path')\n",
    "billion.click()"
   ]
  },
  {
   "cell_type": "code",
   "execution_count": null,
   "id": "15a08de0",
   "metadata": {},
   "outputs": [],
   "source": []
  },
  {
   "cell_type": "code",
   "execution_count": 17,
   "id": "8a78c0e3",
   "metadata": {},
   "outputs": [
    {
     "ename": "NoSuchElementException",
     "evalue": "Message: no such element: Unable to locate element: {\"method\":\"xpath\",\"selector\":\"/html/body/div[1]/header/nav/div[1]/div[1]/div/div[2]/ul/li[2]/div[2]/div[3]/ul/li[1]/a\"}\n  (Session info: chrome=121.0.6167.161); For documentation on this error, please visit: https://www.selenium.dev/documentation/webdriver/troubleshooting/errors#no-such-element-exception\nStacktrace:\n\tGetHandleVerifier [0x00007FF79E675E42+3538674]\n\t(No symbol) [0x00007FF79E294C02]\n\t(No symbol) [0x00007FF79E145AEB]\n\t(No symbol) [0x00007FF79E18BF4E]\n\t(No symbol) [0x00007FF79E18C0CC]\n\t(No symbol) [0x00007FF79E1CE477]\n\t(No symbol) [0x00007FF79E1AF0EF]\n\t(No symbol) [0x00007FF79E1CBDE3]\n\t(No symbol) [0x00007FF79E1AEE53]\n\t(No symbol) [0x00007FF79E17F514]\n\t(No symbol) [0x00007FF79E180631]\n\tGetHandleVerifier [0x00007FF79E6A6CAD+3738973]\n\tGetHandleVerifier [0x00007FF79E6FC506+4089270]\n\tGetHandleVerifier [0x00007FF79E6F4823+4057299]\n\tGetHandleVerifier [0x00007FF79E3C5C49+720121]\n\t(No symbol) [0x00007FF79E2A126F]\n\t(No symbol) [0x00007FF79E29C304]\n\t(No symbol) [0x00007FF79E29C432]\n\t(No symbol) [0x00007FF79E28BD04]\n\tBaseThreadInitThunk [0x00007FFCECC1257D+29]\n\tRtlUserThreadStart [0x00007FFCEDA4AA58+40]\n",
     "output_type": "error",
     "traceback": [
      "\u001b[1;31m---------------------------------------------------------------------------\u001b[0m",
      "\u001b[1;31mNoSuchElementException\u001b[0m                    Traceback (most recent call last)",
      "Cell \u001b[1;32mIn[17], line 1\u001b[0m\n\u001b[1;32m----> 1\u001b[0m world_billion\u001b[38;5;241m=\u001b[39mforbes\u001b[38;5;241m.\u001b[39mfind_element(By\u001b[38;5;241m.\u001b[39mXPATH,\u001b[38;5;124m'\u001b[39m\u001b[38;5;124m/html/body/div[1]/header/nav/div[1]/div[1]/div/div[2]/ul/li[2]/div[2]/div[3]/ul/li[1]/a\u001b[39m\u001b[38;5;124m'\u001b[39m)\n\u001b[0;32m      2\u001b[0m world_billion\u001b[38;5;241m.\u001b[39mclick()\n",
      "File \u001b[1;32m~\\anaconda3\\Lib\\site-packages\\selenium\\webdriver\\remote\\webdriver.py:742\u001b[0m, in \u001b[0;36mWebDriver.find_element\u001b[1;34m(self, by, value)\u001b[0m\n\u001b[0;32m    739\u001b[0m     by \u001b[38;5;241m=\u001b[39m By\u001b[38;5;241m.\u001b[39mCSS_SELECTOR\n\u001b[0;32m    740\u001b[0m     value \u001b[38;5;241m=\u001b[39m \u001b[38;5;124mf\u001b[39m\u001b[38;5;124m'\u001b[39m\u001b[38;5;124m[name=\u001b[39m\u001b[38;5;124m\"\u001b[39m\u001b[38;5;132;01m{\u001b[39;00mvalue\u001b[38;5;132;01m}\u001b[39;00m\u001b[38;5;124m\"\u001b[39m\u001b[38;5;124m]\u001b[39m\u001b[38;5;124m'\u001b[39m\n\u001b[1;32m--> 742\u001b[0m \u001b[38;5;28;01mreturn\u001b[39;00m \u001b[38;5;28mself\u001b[39m\u001b[38;5;241m.\u001b[39mexecute(Command\u001b[38;5;241m.\u001b[39mFIND_ELEMENT, {\u001b[38;5;124m\"\u001b[39m\u001b[38;5;124musing\u001b[39m\u001b[38;5;124m\"\u001b[39m: by, \u001b[38;5;124m\"\u001b[39m\u001b[38;5;124mvalue\u001b[39m\u001b[38;5;124m\"\u001b[39m: value})[\u001b[38;5;124m\"\u001b[39m\u001b[38;5;124mvalue\u001b[39m\u001b[38;5;124m\"\u001b[39m]\n",
      "File \u001b[1;32m~\\anaconda3\\Lib\\site-packages\\selenium\\webdriver\\remote\\webdriver.py:348\u001b[0m, in \u001b[0;36mWebDriver.execute\u001b[1;34m(self, driver_command, params)\u001b[0m\n\u001b[0;32m    346\u001b[0m response \u001b[38;5;241m=\u001b[39m \u001b[38;5;28mself\u001b[39m\u001b[38;5;241m.\u001b[39mcommand_executor\u001b[38;5;241m.\u001b[39mexecute(driver_command, params)\n\u001b[0;32m    347\u001b[0m \u001b[38;5;28;01mif\u001b[39;00m response:\n\u001b[1;32m--> 348\u001b[0m     \u001b[38;5;28mself\u001b[39m\u001b[38;5;241m.\u001b[39merror_handler\u001b[38;5;241m.\u001b[39mcheck_response(response)\n\u001b[0;32m    349\u001b[0m     response[\u001b[38;5;124m\"\u001b[39m\u001b[38;5;124mvalue\u001b[39m\u001b[38;5;124m\"\u001b[39m] \u001b[38;5;241m=\u001b[39m \u001b[38;5;28mself\u001b[39m\u001b[38;5;241m.\u001b[39m_unwrap_value(response\u001b[38;5;241m.\u001b[39mget(\u001b[38;5;124m\"\u001b[39m\u001b[38;5;124mvalue\u001b[39m\u001b[38;5;124m\"\u001b[39m, \u001b[38;5;28;01mNone\u001b[39;00m))\n\u001b[0;32m    350\u001b[0m     \u001b[38;5;28;01mreturn\u001b[39;00m response\n",
      "File \u001b[1;32m~\\anaconda3\\Lib\\site-packages\\selenium\\webdriver\\remote\\errorhandler.py:229\u001b[0m, in \u001b[0;36mErrorHandler.check_response\u001b[1;34m(self, response)\u001b[0m\n\u001b[0;32m    227\u001b[0m         alert_text \u001b[38;5;241m=\u001b[39m value[\u001b[38;5;124m\"\u001b[39m\u001b[38;5;124malert\u001b[39m\u001b[38;5;124m\"\u001b[39m]\u001b[38;5;241m.\u001b[39mget(\u001b[38;5;124m\"\u001b[39m\u001b[38;5;124mtext\u001b[39m\u001b[38;5;124m\"\u001b[39m)\n\u001b[0;32m    228\u001b[0m     \u001b[38;5;28;01mraise\u001b[39;00m exception_class(message, screen, stacktrace, alert_text)  \u001b[38;5;66;03m# type: ignore[call-arg]  # mypy is not smart enough here\u001b[39;00m\n\u001b[1;32m--> 229\u001b[0m \u001b[38;5;28;01mraise\u001b[39;00m exception_class(message, screen, stacktrace)\n",
      "\u001b[1;31mNoSuchElementException\u001b[0m: Message: no such element: Unable to locate element: {\"method\":\"xpath\",\"selector\":\"/html/body/div[1]/header/nav/div[1]/div[1]/div/div[2]/ul/li[2]/div[2]/div[3]/ul/li[1]/a\"}\n  (Session info: chrome=121.0.6167.161); For documentation on this error, please visit: https://www.selenium.dev/documentation/webdriver/troubleshooting/errors#no-such-element-exception\nStacktrace:\n\tGetHandleVerifier [0x00007FF79E675E42+3538674]\n\t(No symbol) [0x00007FF79E294C02]\n\t(No symbol) [0x00007FF79E145AEB]\n\t(No symbol) [0x00007FF79E18BF4E]\n\t(No symbol) [0x00007FF79E18C0CC]\n\t(No symbol) [0x00007FF79E1CE477]\n\t(No symbol) [0x00007FF79E1AF0EF]\n\t(No symbol) [0x00007FF79E1CBDE3]\n\t(No symbol) [0x00007FF79E1AEE53]\n\t(No symbol) [0x00007FF79E17F514]\n\t(No symbol) [0x00007FF79E180631]\n\tGetHandleVerifier [0x00007FF79E6A6CAD+3738973]\n\tGetHandleVerifier [0x00007FF79E6FC506+4089270]\n\tGetHandleVerifier [0x00007FF79E6F4823+4057299]\n\tGetHandleVerifier [0x00007FF79E3C5C49+720121]\n\t(No symbol) [0x00007FF79E2A126F]\n\t(No symbol) [0x00007FF79E29C304]\n\t(No symbol) [0x00007FF79E29C432]\n\t(No symbol) [0x00007FF79E28BD04]\n\tBaseThreadInitThunk [0x00007FFCECC1257D+29]\n\tRtlUserThreadStart [0x00007FFCEDA4AA58+40]\n"
     ]
    }
   ],
   "source": [
    "world_billion=forbes.find_element(By.XPATH,'/html/body/div[1]/header/nav/div[1]/div[1]/div/div[2]/ul/li[2]/div[2]/div[3]/ul/li[1]/a')\n",
    "world_billion.click()"
   ]
  },
  {
   "cell_type": "code",
   "execution_count": null,
   "id": "37a2e738",
   "metadata": {},
   "outputs": [],
   "source": [
    "//*[@id=\"__next\"]/div[2]/div[3]/div[2]/div[2]/div[2]/div[1]/div[1]/div[1]/div[2]"
   ]
  },
  {
   "cell_type": "markdown",
   "id": "004525ac",
   "metadata": {},
   "source": [
    "# 8"
   ]
  },
  {
   "cell_type": "raw",
   "id": "008e2023",
   "metadata": {},
   "source": [
    "# Write a program to extract at least 500 Comments, Comment upvote and time when comment was posted \n",
    "from any YouTube Video. "
   ]
  },
  {
   "cell_type": "code",
   "execution_count": 137,
   "id": "9b6b5d3b",
   "metadata": {},
   "outputs": [],
   "source": [
    "comment=[]\n",
    "times=[]\n",
    "upvote=[]"
   ]
  },
  {
   "cell_type": "code",
   "execution_count": 130,
   "id": "3d37dbf2",
   "metadata": {},
   "outputs": [],
   "source": [
    "youtube=webdriver.Chrome()"
   ]
  },
  {
   "cell_type": "code",
   "execution_count": 131,
   "id": "9a97fe19",
   "metadata": {},
   "outputs": [],
   "source": [
    "youtube.get(\"https://www.youtube.com/watch?v=Joo_jE8kMDg\")\n",
    "\n",
    "youtube.maximize_window()"
   ]
  },
  {
   "cell_type": "code",
   "execution_count": 132,
   "id": "650ee538",
   "metadata": {},
   "outputs": [],
   "source": [
    "wait=WebDriverWait(youtube,10)"
   ]
  },
  {
   "cell_type": "code",
   "execution_count": 133,
   "id": "fc4cb4d5",
   "metadata": {},
   "outputs": [],
   "source": [
    "for item in range(80):\n",
    "    wait.until(EC.visibility_of_element_located((By.TAG_NAME,\"body\"))).send_keys(Keys.END)"
   ]
  },
  {
   "cell_type": "code",
   "execution_count": 104,
   "id": "271918d5",
   "metadata": {},
   "outputs": [],
   "source": [
    "comments=youtube.find_elements(By.ID,\"content-text\")\n",
    "for i in comments:\n",
    "    comment.append(i.text)\n",
    "\n",
    "ti=youtube.find_elements(By.XPATH,'//yt-formatted-string[@class=\"published-time-text style-scope ytd-comment-renderer\"]/a')\n",
    "for i in ti:\n",
    "    time.append(i.text)\n",
    "    \n",
    "\n",
    "up=youtube.find_elements(By.ID,\"vote-count-middle\")\n",
    "for i in up:\n",
    "    upvote.append(i.text)"
   ]
  },
  {
   "cell_type": "code",
   "execution_count": 105,
   "id": "4d211214",
   "metadata": {},
   "outputs": [
    {
     "name": "stdout",
     "output_type": "stream",
     "text": [
      "                                               COMMENT                  TIME  \\\n",
      "0                            Goosebumps is small word            1 month ago   \n",
      "1    How many liked the 2nd trailer more than the f...  1 month ago (edited)   \n",
      "2    I just saw this INCREDIBLE MOVIE!! On Netflix…...           2 weeks ago   \n",
      "3                           a very well invested movie           1 month ago   \n",
      "4    I feel this trailer is good compared to the fi...  1 month ago (edited)   \n",
      "..                                                 ...                   ...   \n",
      "495                                   2000 cross pakka           1 month ago   \n",
      "496        Trailer shows some parts of \\nAmazing work            1 month ago   \n",
      "497         0:21  to 0:24 what if he if Rocky  sultan   1 month ago (edited)   \n",
      "498   It's not just a trailer, it's purely Goosebumps            1 month ago   \n",
      "499                The goosebumps BGM starts from 0:46           1 month ago   \n",
      "\n",
      "    UPVOTE  \n",
      "0      16K  \n",
      "1     1.5K  \n",
      "2       32  \n",
      "3        3  \n",
      "4      298  \n",
      "..     ...  \n",
      "495         \n",
      "496         \n",
      "497         \n",
      "498    176  \n",
      "499         \n",
      "\n",
      "[500 rows x 3 columns]\n"
     ]
    }
   ],
   "source": [
    "df=pd.DataFrame({'COMMENT':comment,'TIME':time,'UPVOTE':upvote})\n",
    "df=df.head(500)\n",
    "print(df)"
   ]
  },
  {
   "cell_type": "markdown",
   "id": "6d9b6669",
   "metadata": {},
   "source": [
    "# 9"
   ]
  },
  {
   "cell_type": "code",
   "execution_count": null,
   "id": "e0fd47fb",
   "metadata": {},
   "outputs": [],
   "source": [
    "Write a python program to scrape a data for all available Hostels from https://www.hostelworld.com/ in \n",
    "“London” location. You have to scrape hostel name, distance from city centre, ratings, total reviews, overall \n",
    "reviews, privates from price, dorms from price, facilities and property description."
   ]
  },
  {
   "cell_type": "code",
   "execution_count": 1,
   "id": "11fa1e59",
   "metadata": {},
   "outputs": [
    {
     "ename": "NameError",
     "evalue": "name 'webdriver' is not defined",
     "output_type": "error",
     "traceback": [
      "\u001b[1;31m---------------------------------------------------------------------------\u001b[0m",
      "\u001b[1;31mNameError\u001b[0m                                 Traceback (most recent call last)",
      "Cell \u001b[1;32mIn[1], line 1\u001b[0m\n\u001b[1;32m----> 1\u001b[0m hostel\u001b[38;5;241m=\u001b[39mwebdriver\u001b[38;5;241m.\u001b[39mChrome()\n",
      "\u001b[1;31mNameError\u001b[0m: name 'webdriver' is not defined"
     ]
    }
   ],
   "source": [
    "hostel=webdriver.Chrome()"
   ]
  },
  {
   "cell_type": "code",
   "execution_count": 42,
   "id": "01389862",
   "metadata": {},
   "outputs": [],
   "source": [
    "hostel.get(\"https://www.hostelworld.com/\")"
   ]
  },
  {
   "cell_type": "code",
   "execution_count": 43,
   "id": "e0e6dda7",
   "metadata": {},
   "outputs": [],
   "source": [
    "hostel.maximize_window()"
   ]
  },
  {
   "cell_type": "code",
   "execution_count": 44,
   "id": "141f011b",
   "metadata": {},
   "outputs": [],
   "source": [
    "place=hostel.find_element(By.XPATH,'/html/body/div[3]/div/div/div[2]/div[2]/div[2]/div/div/div/div[1]/div[1]/div/div[2]/input')\n",
    "\n",
    "place.send_keys(\"London\")"
   ]
  },
  {
   "cell_type": "code",
   "execution_count": 46,
   "id": "d558528f",
   "metadata": {},
   "outputs": [],
   "source": [
    "lon=hostel.find_element(By.XPATH,'//button[@class=\"item-content\"]')\n",
    "lon.click()"
   ]
  },
  {
   "cell_type": "code",
   "execution_count": 47,
   "id": "65f927cb",
   "metadata": {},
   "outputs": [],
   "source": [
    "search=hostel.find_element(By.XPATH,'/html/body/div[3]/div/div/div[2]/div[2]/div[2]/div/div/div/div[5]/button[2]')\n",
    "search.click()\n"
   ]
  },
  {
   "cell_type": "code",
   "execution_count": null,
   "id": "cb8c37ba",
   "metadata": {},
   "outputs": [],
   "source": [
    "//*[@id=\"__layout\"]/div/div[2]/div[2]/div[1]/div/div/div[1]/div[2]/div/div[1]/a/a/div[2]"
   ]
  },
  {
   "cell_type": "code",
   "execution_count": 48,
   "id": "e25bac12",
   "metadata": {},
   "outputs": [],
   "source": [
    "hostel_name=[]\n",
    "\n",
    "d_o_c=[]\n",
    "\n",
    "ratings=[]\n",
    "\n",
    "total_reviews=[]\n",
    "\n",
    "pri_price=[]\n",
    "\n",
    "dor_price=[]\n",
    "\n",
    "fac=[]\n",
    "\n",
    "desc=[]\n"
   ]
  },
  {
   "cell_type": "code",
   "execution_count": 38,
   "id": "66282263",
   "metadata": {},
   "outputs": [
    {
     "ename": "SyntaxError",
     "evalue": "invalid syntax (2634765088.py, line 1)",
     "output_type": "error",
     "traceback": [
      "\u001b[1;36m  Cell \u001b[1;32mIn[38], line 1\u001b[1;36m\u001b[0m\n\u001b[1;33m    [class=\"property-accommodation-price\"]\u001b[0m\n\u001b[1;37m     ^\u001b[0m\n\u001b[1;31mSyntaxError\u001b[0m\u001b[1;31m:\u001b[0m invalid syntax\n"
     ]
    }
   ],
   "source": [
    "[class=\"property-accommodation-price\"]"
   ]
  },
  {
   "cell_type": "code",
   "execution_count": 49,
   "id": "9f1490a3",
   "metadata": {},
   "outputs": [],
   "source": [
    "elements=hostel.find_elements(By.XPATH,'//div[@class=\"property-accommodation-price\"]')\n",
    "\n",
    "for i in elements:\n",
    "    desc.append(i.text)"
   ]
  },
  {
   "cell_type": "code",
   "execution_count": 50,
   "id": "0f897ac2",
   "metadata": {},
   "outputs": [
    {
     "data": {
      "text/plain": [
       "[]"
      ]
     },
     "execution_count": 50,
     "metadata": {},
     "output_type": "execute_result"
    }
   ],
   "source": [
    "desc"
   ]
  }
 ],
 "metadata": {
  "kernelspec": {
   "display_name": "Python 3 (ipykernel)",
   "language": "python",
   "name": "python3"
  },
  "language_info": {
   "codemirror_mode": {
    "name": "ipython",
    "version": 3
   },
   "file_extension": ".py",
   "mimetype": "text/x-python",
   "name": "python",
   "nbconvert_exporter": "python",
   "pygments_lexer": "ipython3",
   "version": "3.11.5"
  }
 },
 "nbformat": 4,
 "nbformat_minor": 5
}
