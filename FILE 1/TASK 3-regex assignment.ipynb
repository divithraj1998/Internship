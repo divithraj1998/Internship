{
 "cells": [
  {
   "cell_type": "code",
   "execution_count": 1,
   "id": "1dddef04",
   "metadata": {},
   "outputs": [],
   "source": [
    "import regex as re\n",
    "import pandas as pd"
   ]
  },
  {
   "cell_type": "markdown",
   "id": "2a978526",
   "metadata": {},
   "source": [
    "1"
   ]
  },
  {
   "cell_type": "raw",
   "id": "0856a9a9",
   "metadata": {},
   "source": [
    "Write a Python program to replace all occurrences of a space, comma, or dot with a colon.\n",
    "Sample Text-'Python Exercises, PHP exercises.'\n",
    "Expected Output:Python:Exercises::PHP:exercises:\n"
   ]
  },
  {
   "cell_type": "code",
   "execution_count": 2,
   "id": "c005f64a",
   "metadata": {},
   "outputs": [
    {
     "name": "stdout",
     "output_type": "stream",
     "text": [
      "Python:Exercises::PHP:exercises:\n"
     ]
    }
   ],
   "source": [
    "string='Python Exercises, PHP exercises.'\n",
    "\n",
    "result=re.sub(r'[\\s,\\.]',':',string)\n",
    "print(result)"
   ]
  },
  {
   "cell_type": "markdown",
   "id": "d6d3b580",
   "metadata": {},
   "source": [
    "2"
   ]
  },
  {
   "cell_type": "raw",
   "id": "ca41be3f",
   "metadata": {},
   "source": [
    "Create a dataframe using the dictionary below and remove everything (commas (,), !, XXXX, ;, etc.) from the columns except words.\n",
    "Dictionary-{'SUMMARY' : ['hello, world!', 'XXXXX test', '123four, five:; six...']}\n",
    "Expected output-\n",
    "0      hello world\n",
    "1             test\n",
    "2    four five six\n"
   ]
  },
  {
   "cell_type": "code",
   "execution_count": 3,
   "id": "1ef8885e",
   "metadata": {},
   "outputs": [],
   "source": [
    "dict={'SUMMARY' : ['hello, world!', 'XXXXX test', '123four, five:; six...']}\n",
    "df=pd.DataFrame(dict)"
   ]
  },
  {
   "cell_type": "code",
   "execution_count": 4,
   "id": "f58e1d4f",
   "metadata": {},
   "outputs": [
    {
     "data": {
      "text/html": [
       "<div>\n",
       "<style scoped>\n",
       "    .dataframe tbody tr th:only-of-type {\n",
       "        vertical-align: middle;\n",
       "    }\n",
       "\n",
       "    .dataframe tbody tr th {\n",
       "        vertical-align: top;\n",
       "    }\n",
       "\n",
       "    .dataframe thead th {\n",
       "        text-align: right;\n",
       "    }\n",
       "</style>\n",
       "<table border=\"1\" class=\"dataframe\">\n",
       "  <thead>\n",
       "    <tr style=\"text-align: right;\">\n",
       "      <th></th>\n",
       "      <th>SUMMARY</th>\n",
       "    </tr>\n",
       "  </thead>\n",
       "  <tbody>\n",
       "    <tr>\n",
       "      <th>0</th>\n",
       "      <td>hello, world!</td>\n",
       "    </tr>\n",
       "    <tr>\n",
       "      <th>1</th>\n",
       "      <td>XXXXX test</td>\n",
       "    </tr>\n",
       "    <tr>\n",
       "      <th>2</th>\n",
       "      <td>123four, five:; six...</td>\n",
       "    </tr>\n",
       "  </tbody>\n",
       "</table>\n",
       "</div>"
      ],
      "text/plain": [
       "                  SUMMARY\n",
       "0           hello, world!\n",
       "1              XXXXX test\n",
       "2  123four, five:; six..."
      ]
     },
     "execution_count": 4,
     "metadata": {},
     "output_type": "execute_result"
    }
   ],
   "source": [
    "df"
   ]
  },
  {
   "cell_type": "code",
   "execution_count": 5,
   "id": "13165bf7",
   "metadata": {},
   "outputs": [
    {
     "data": {
      "text/plain": [
       "0      hello world\n",
       "1             test\n",
       "2    four five six\n",
       "Name: SUMMARY, dtype: object"
      ]
     },
     "execution_count": 5,
     "metadata": {},
     "output_type": "execute_result"
    }
   ],
   "source": [
    "df['SUMMARY'].str.replace(r'[,X:;\\.!\\d]',\"\",regex=True)"
   ]
  },
  {
   "cell_type": "markdown",
   "id": "955ec98f",
   "metadata": {},
   "source": [
    "3"
   ]
  },
  {
   "cell_type": "raw",
   "id": "5ea3519a",
   "metadata": {},
   "source": [
    "Create a function inpython to find all words that are at least 4 characters long in a string.\n",
    "The use of the re.compile() method is mandatory."
   ]
  },
  {
   "cell_type": "code",
   "execution_count": 6,
   "id": "cbeb3ebd",
   "metadata": {},
   "outputs": [
    {
     "name": "stdout",
     "output_type": "stream",
     "text": [
      "['hello', 'world', 'divith', 'from', 'vizag']\n"
     ]
    }
   ],
   "source": [
    "string=\"hello world , i am divith from vizag \"\n",
    "\n",
    "def filter_4(str):\n",
    "    four=re.compile(r'[\\w]{4,}')\n",
    "    result=four.findall(string)\n",
    "    print(result)\n",
    "\n",
    "filter_4(string)"
   ]
  },
  {
   "cell_type": "markdown",
   "id": "a26b7a90",
   "metadata": {},
   "source": [
    "4"
   ]
  },
  {
   "cell_type": "raw",
   "id": "209ee4e8",
   "metadata": {},
   "source": [
    "Create a function in python to find all three, four, and five character words in a string. \n",
    "The use of the re.compile() method is mandatory."
   ]
  },
  {
   "cell_type": "code",
   "execution_count": 7,
   "id": "ebac5ef7",
   "metadata": {},
   "outputs": [
    {
     "name": "stdout",
     "output_type": "stream",
     "text": [
      "['hello', 'world', 'from', 'vizag', 'and']\n"
     ]
    }
   ],
   "source": [
    "string=\"hello world , i am divith from vizag and mumbai\"\n",
    "\n",
    "def filter_4(str):\n",
    "    extract=re.compile(r'\\b[\\w]{3,5}\\b')\n",
    "    result=extract.findall(string)\n",
    "    print(result)\n",
    "\n",
    "filter_4(string)"
   ]
  },
  {
   "cell_type": "markdown",
   "id": "850d02d2",
   "metadata": {},
   "source": [
    "5"
   ]
  },
  {
   "cell_type": "raw",
   "id": "80e4f60d",
   "metadata": {},
   "source": [
    "Create a function in Python to remove the parenthesis in a list of strings.\n",
    "The use of the re.compile() method is mandatory.\n",
    "Sample Text:[\"example (.com)\", \"hr@fliprobo (.com)\", \"github (.com)\", \"Hello (Data Science World)\", \"Data (Scientist)\"]"
   ]
  },
  {
   "cell_type": "code",
   "execution_count": 8,
   "id": "1d1bb728",
   "metadata": {},
   "outputs": [
    {
     "name": "stdout",
     "output_type": "stream",
     "text": [
      "example.com\n",
      "hr@fliprobo.com\n",
      "github.com\n",
      "Hello Data Science World\n",
      "Data Scientist\n"
     ]
    }
   ],
   "source": [
    "def rem_paranthesis(list):\n",
    "    extract=re.compile(r'[\\(\\)]')\n",
    "    for i in list:\n",
    "        result=extract.sub(\"\",i)\n",
    "        print(result)\n",
    "        \n",
    "sample_text=[\"example(.com)\", \"hr@fliprobo(.com)\", \"github(.com)\", \"Hello (Data Science World)\", \"Data (Scientist)\"]\n",
    "\n",
    "rem_paranthesis(sample_text)"
   ]
  },
  {
   "cell_type": "markdown",
   "id": "6fe43c0d",
   "metadata": {},
   "source": [
    "6"
   ]
  },
  {
   "cell_type": "raw",
   "id": "e1f453ca",
   "metadata": {},
   "source": [
    "Write a python program to remove the parenthesis area from the text stored in the text file using Regular Expression."
   ]
  },
  {
   "cell_type": "code",
   "execution_count": 9,
   "id": "d37ad440",
   "metadata": {},
   "outputs": [
    {
     "name": "stdout",
     "output_type": "stream",
     "text": [
      "[\"example\", \"hr@fliprobo\", \"github\", \"Hello\", \"Data\"]\n"
     ]
    }
   ],
   "source": [
    "file_name='rem_paranthesis.txt'\n",
    "def rem_paranthesis(file):\n",
    "    \n",
    "    paranthesis=open(file)\n",
    "    \n",
    "    par=paranthesis.read()\n",
    "    \n",
    "    extract=re.compile(r'\\([\\.\\w\\s]*\\)')\n",
    "    \n",
    "    result=extract.sub(\"\",par)\n",
    "    \n",
    "    print(result)\n",
    "        \n",
    "\n",
    "rem_paranthesis(file_name)"
   ]
  },
  {
   "cell_type": "markdown",
   "id": "5600c831",
   "metadata": {},
   "source": [
    "7"
   ]
  },
  {
   "cell_type": "raw",
   "id": "b958d7c0",
   "metadata": {},
   "source": [
    "Write a regular expression in Python to split a string into uppercase letters.\n",
    "Sample text: “ImportanceOfRegularExpressionsInPython”\n"
   ]
  },
  {
   "cell_type": "code",
   "execution_count": 10,
   "id": "797cbc79",
   "metadata": {},
   "outputs": [
    {
     "data": {
      "text/plain": [
       "['Importance', 'Of', 'Regular', 'Expressions', 'In', 'Python']"
      ]
     },
     "execution_count": 10,
     "metadata": {},
     "output_type": "execute_result"
    }
   ],
   "source": [
    "string=\"ImportanceOfRegularExpressionsInPython\"\n",
    "result=re.findall(r'[A-Z][a-z]+',string)\n",
    "result"
   ]
  },
  {
   "cell_type": "markdown",
   "id": "935063ec",
   "metadata": {},
   "source": [
    "8"
   ]
  },
  {
   "cell_type": "raw",
   "id": "c4a10412",
   "metadata": {},
   "source": [
    "Create a function in python to insert spaces between words starting with numbers.\n",
    "Sample Text: “RegularExpression1IsAn2ImportantTopic3InPython\"\n"
   ]
  },
  {
   "cell_type": "code",
   "execution_count": 11,
   "id": "e9f5a262",
   "metadata": {},
   "outputs": [],
   "source": [
    "string=\"RegularExpression1IsAn2ImportantTopic3InPython\"\n",
    "def insert_space_type1(str):\n",
    "    \n",
    "    result=re.sub(r'([A-Z][a-z]+)(\\d[A-Z][a-z]+)',r'\\1 \\2',str)\n",
    "    print(result)"
   ]
  },
  {
   "cell_type": "code",
   "execution_count": 12,
   "id": "0b62a546",
   "metadata": {},
   "outputs": [
    {
     "name": "stdout",
     "output_type": "stream",
     "text": [
      "RegularExpression 1IsAn 2ImportantTopic 3InPython\n"
     ]
    }
   ],
   "source": [
    "insert_space_type1(string)"
   ]
  },
  {
   "cell_type": "markdown",
   "id": "01e3837e",
   "metadata": {},
   "source": [
    "9"
   ]
  },
  {
   "cell_type": "raw",
   "id": "45c4039c",
   "metadata": {},
   "source": [
    "Create a function in python to insert spaces between words starting with capital letters or with numbers.\n",
    "Sample Text: “RegularExpression1IsAn2ImportantTopic3InPython\"\n"
   ]
  },
  {
   "cell_type": "code",
   "execution_count": 13,
   "id": "d3323199",
   "metadata": {},
   "outputs": [
    {
     "name": "stdout",
     "output_type": "stream",
     "text": [
      "RegularExpression 1 IsAn 2 ImportantTopic 3 InPython\n"
     ]
    }
   ],
   "source": [
    "string=\"RegularExpression1IsAn2ImportantTopic3InPython\"\n",
    "def insert_space_type1(str):\n",
    "    result=re.sub(r'([A-Z][a-z]+)(\\d+)',r'\\1 \\2 ',string)\n",
    "    print(result)\n",
    "    \n",
    "insert_space_type1(string)"
   ]
  },
  {
   "cell_type": "markdown",
   "id": "78ad7c7e",
   "metadata": {},
   "source": [
    "10"
   ]
  },
  {
   "cell_type": "raw",
   "id": "40d29e5c",
   "metadata": {},
   "source": [
    "Use the github link below to read the data and create a dataframe. \n",
    "After creating the dataframe extract the first 6 letters of each country and store in the \n",
    "dataframe under a new column called first_five_letters."
   ]
  },
  {
   "cell_type": "code",
   "execution_count": 14,
   "id": "83eaf6fd",
   "metadata": {},
   "outputs": [],
   "source": [
    "df=pd.read_csv('happiness.csv')"
   ]
  },
  {
   "cell_type": "code",
   "execution_count": 21,
   "id": "12c08905",
   "metadata": {},
   "outputs": [
    {
     "data": {
      "text/html": [
       "<div>\n",
       "<style scoped>\n",
       "    .dataframe tbody tr th:only-of-type {\n",
       "        vertical-align: middle;\n",
       "    }\n",
       "\n",
       "    .dataframe tbody tr th {\n",
       "        vertical-align: top;\n",
       "    }\n",
       "\n",
       "    .dataframe thead th {\n",
       "        text-align: right;\n",
       "    }\n",
       "</style>\n",
       "<table border=\"1\" class=\"dataframe\">\n",
       "  <thead>\n",
       "    <tr style=\"text-align: right;\">\n",
       "      <th></th>\n",
       "      <th>Country</th>\n",
       "      <th>Region</th>\n",
       "      <th>Happiness Rank</th>\n",
       "      <th>Happiness Score</th>\n",
       "      <th>Standard Error</th>\n",
       "      <th>Economy (GDP per Capita)</th>\n",
       "      <th>Family</th>\n",
       "      <th>Health (Life Expectancy)</th>\n",
       "      <th>Freedom</th>\n",
       "      <th>Trust (Government Corruption)</th>\n",
       "      <th>Generosity</th>\n",
       "      <th>Dystopia Residual</th>\n",
       "      <th>first_five_letters</th>\n",
       "    </tr>\n",
       "  </thead>\n",
       "  <tbody>\n",
       "    <tr>\n",
       "      <th>0</th>\n",
       "      <td>Switzerland</td>\n",
       "      <td>Western Europe</td>\n",
       "      <td>1</td>\n",
       "      <td>7.587</td>\n",
       "      <td>0.03411</td>\n",
       "      <td>1.39651</td>\n",
       "      <td>1.34951</td>\n",
       "      <td>0.94143</td>\n",
       "      <td>0.66557</td>\n",
       "      <td>0.41978</td>\n",
       "      <td>0.29678</td>\n",
       "      <td>2.51738</td>\n",
       "      <td>Switze</td>\n",
       "    </tr>\n",
       "    <tr>\n",
       "      <th>1</th>\n",
       "      <td>Iceland</td>\n",
       "      <td>Western Europe</td>\n",
       "      <td>2</td>\n",
       "      <td>7.561</td>\n",
       "      <td>0.04884</td>\n",
       "      <td>1.30232</td>\n",
       "      <td>1.40223</td>\n",
       "      <td>0.94784</td>\n",
       "      <td>0.62877</td>\n",
       "      <td>0.14145</td>\n",
       "      <td>0.43630</td>\n",
       "      <td>2.70201</td>\n",
       "      <td>Icelan</td>\n",
       "    </tr>\n",
       "    <tr>\n",
       "      <th>2</th>\n",
       "      <td>Denmark</td>\n",
       "      <td>Western Europe</td>\n",
       "      <td>3</td>\n",
       "      <td>7.527</td>\n",
       "      <td>0.03328</td>\n",
       "      <td>1.32548</td>\n",
       "      <td>1.36058</td>\n",
       "      <td>0.87464</td>\n",
       "      <td>0.64938</td>\n",
       "      <td>0.48357</td>\n",
       "      <td>0.34139</td>\n",
       "      <td>2.49204</td>\n",
       "      <td>Denmar</td>\n",
       "    </tr>\n",
       "    <tr>\n",
       "      <th>3</th>\n",
       "      <td>Norway</td>\n",
       "      <td>Western Europe</td>\n",
       "      <td>4</td>\n",
       "      <td>7.522</td>\n",
       "      <td>0.03880</td>\n",
       "      <td>1.45900</td>\n",
       "      <td>1.33095</td>\n",
       "      <td>0.88521</td>\n",
       "      <td>0.66973</td>\n",
       "      <td>0.36503</td>\n",
       "      <td>0.34699</td>\n",
       "      <td>2.46531</td>\n",
       "      <td>Norway</td>\n",
       "    </tr>\n",
       "    <tr>\n",
       "      <th>4</th>\n",
       "      <td>Canada</td>\n",
       "      <td>North America</td>\n",
       "      <td>5</td>\n",
       "      <td>7.427</td>\n",
       "      <td>0.03553</td>\n",
       "      <td>1.32629</td>\n",
       "      <td>1.32261</td>\n",
       "      <td>0.90563</td>\n",
       "      <td>0.63297</td>\n",
       "      <td>0.32957</td>\n",
       "      <td>0.45811</td>\n",
       "      <td>2.45176</td>\n",
       "      <td>Canada</td>\n",
       "    </tr>\n",
       "    <tr>\n",
       "      <th>...</th>\n",
       "      <td>...</td>\n",
       "      <td>...</td>\n",
       "      <td>...</td>\n",
       "      <td>...</td>\n",
       "      <td>...</td>\n",
       "      <td>...</td>\n",
       "      <td>...</td>\n",
       "      <td>...</td>\n",
       "      <td>...</td>\n",
       "      <td>...</td>\n",
       "      <td>...</td>\n",
       "      <td>...</td>\n",
       "      <td>...</td>\n",
       "    </tr>\n",
       "    <tr>\n",
       "      <th>153</th>\n",
       "      <td>Rwanda</td>\n",
       "      <td>Sub-Saharan Africa</td>\n",
       "      <td>154</td>\n",
       "      <td>3.465</td>\n",
       "      <td>0.03464</td>\n",
       "      <td>0.22208</td>\n",
       "      <td>0.77370</td>\n",
       "      <td>0.42864</td>\n",
       "      <td>0.59201</td>\n",
       "      <td>0.55191</td>\n",
       "      <td>0.22628</td>\n",
       "      <td>0.67042</td>\n",
       "      <td>Rwanda</td>\n",
       "    </tr>\n",
       "    <tr>\n",
       "      <th>154</th>\n",
       "      <td>Benin</td>\n",
       "      <td>Sub-Saharan Africa</td>\n",
       "      <td>155</td>\n",
       "      <td>3.340</td>\n",
       "      <td>0.03656</td>\n",
       "      <td>0.28665</td>\n",
       "      <td>0.35386</td>\n",
       "      <td>0.31910</td>\n",
       "      <td>0.48450</td>\n",
       "      <td>0.08010</td>\n",
       "      <td>0.18260</td>\n",
       "      <td>1.63328</td>\n",
       "      <td>Benin</td>\n",
       "    </tr>\n",
       "    <tr>\n",
       "      <th>155</th>\n",
       "      <td>Syria</td>\n",
       "      <td>Middle East and Northern Africa</td>\n",
       "      <td>156</td>\n",
       "      <td>3.006</td>\n",
       "      <td>0.05015</td>\n",
       "      <td>0.66320</td>\n",
       "      <td>0.47489</td>\n",
       "      <td>0.72193</td>\n",
       "      <td>0.15684</td>\n",
       "      <td>0.18906</td>\n",
       "      <td>0.47179</td>\n",
       "      <td>0.32858</td>\n",
       "      <td>Syria</td>\n",
       "    </tr>\n",
       "    <tr>\n",
       "      <th>156</th>\n",
       "      <td>Burundi</td>\n",
       "      <td>Sub-Saharan Africa</td>\n",
       "      <td>157</td>\n",
       "      <td>2.905</td>\n",
       "      <td>0.08658</td>\n",
       "      <td>0.01530</td>\n",
       "      <td>0.41587</td>\n",
       "      <td>0.22396</td>\n",
       "      <td>0.11850</td>\n",
       "      <td>0.10062</td>\n",
       "      <td>0.19727</td>\n",
       "      <td>1.83302</td>\n",
       "      <td>Burund</td>\n",
       "    </tr>\n",
       "    <tr>\n",
       "      <th>157</th>\n",
       "      <td>Togo</td>\n",
       "      <td>Sub-Saharan Africa</td>\n",
       "      <td>158</td>\n",
       "      <td>2.839</td>\n",
       "      <td>0.06727</td>\n",
       "      <td>0.20868</td>\n",
       "      <td>0.13995</td>\n",
       "      <td>0.28443</td>\n",
       "      <td>0.36453</td>\n",
       "      <td>0.10731</td>\n",
       "      <td>0.16681</td>\n",
       "      <td>1.56726</td>\n",
       "      <td>Togo</td>\n",
       "    </tr>\n",
       "  </tbody>\n",
       "</table>\n",
       "<p>158 rows × 13 columns</p>\n",
       "</div>"
      ],
      "text/plain": [
       "         Country                           Region  Happiness Rank  \\\n",
       "0    Switzerland                   Western Europe               1   \n",
       "1        Iceland                   Western Europe               2   \n",
       "2        Denmark                   Western Europe               3   \n",
       "3         Norway                   Western Europe               4   \n",
       "4         Canada                    North America               5   \n",
       "..           ...                              ...             ...   \n",
       "153       Rwanda               Sub-Saharan Africa             154   \n",
       "154        Benin               Sub-Saharan Africa             155   \n",
       "155        Syria  Middle East and Northern Africa             156   \n",
       "156      Burundi               Sub-Saharan Africa             157   \n",
       "157         Togo               Sub-Saharan Africa             158   \n",
       "\n",
       "     Happiness Score  Standard Error  Economy (GDP per Capita)   Family  \\\n",
       "0              7.587         0.03411                   1.39651  1.34951   \n",
       "1              7.561         0.04884                   1.30232  1.40223   \n",
       "2              7.527         0.03328                   1.32548  1.36058   \n",
       "3              7.522         0.03880                   1.45900  1.33095   \n",
       "4              7.427         0.03553                   1.32629  1.32261   \n",
       "..               ...             ...                       ...      ...   \n",
       "153            3.465         0.03464                   0.22208  0.77370   \n",
       "154            3.340         0.03656                   0.28665  0.35386   \n",
       "155            3.006         0.05015                   0.66320  0.47489   \n",
       "156            2.905         0.08658                   0.01530  0.41587   \n",
       "157            2.839         0.06727                   0.20868  0.13995   \n",
       "\n",
       "     Health (Life Expectancy)  Freedom  Trust (Government Corruption)  \\\n",
       "0                     0.94143  0.66557                        0.41978   \n",
       "1                     0.94784  0.62877                        0.14145   \n",
       "2                     0.87464  0.64938                        0.48357   \n",
       "3                     0.88521  0.66973                        0.36503   \n",
       "4                     0.90563  0.63297                        0.32957   \n",
       "..                        ...      ...                            ...   \n",
       "153                   0.42864  0.59201                        0.55191   \n",
       "154                   0.31910  0.48450                        0.08010   \n",
       "155                   0.72193  0.15684                        0.18906   \n",
       "156                   0.22396  0.11850                        0.10062   \n",
       "157                   0.28443  0.36453                        0.10731   \n",
       "\n",
       "     Generosity  Dystopia Residual first_five_letters  \n",
       "0       0.29678            2.51738             Switze  \n",
       "1       0.43630            2.70201             Icelan  \n",
       "2       0.34139            2.49204             Denmar  \n",
       "3       0.34699            2.46531             Norway  \n",
       "4       0.45811            2.45176             Canada  \n",
       "..          ...                ...                ...  \n",
       "153     0.22628            0.67042             Rwanda  \n",
       "154     0.18260            1.63328              Benin  \n",
       "155     0.47179            0.32858              Syria  \n",
       "156     0.19727            1.83302             Burund  \n",
       "157     0.16681            1.56726               Togo  \n",
       "\n",
       "[158 rows x 13 columns]"
      ]
     },
     "execution_count": 21,
     "metadata": {},
     "output_type": "execute_result"
    }
   ],
   "source": [
    "df"
   ]
  },
  {
   "cell_type": "code",
   "execution_count": 22,
   "id": "2e1e2667",
   "metadata": {},
   "outputs": [
    {
     "data": {
      "text/plain": [
       "0      Switze\n",
       "1      Icelan\n",
       "2      Denmar\n",
       "3      Norway\n",
       "4      Canada\n",
       "        ...  \n",
       "153    Rwanda\n",
       "154     Benin\n",
       "155     Syria\n",
       "156    Burund\n",
       "157      Togo\n",
       "Name: first_five_letters, Length: 158, dtype: object"
      ]
     },
     "execution_count": 22,
     "metadata": {},
     "output_type": "execute_result"
    }
   ],
   "source": [
    "df['first_five_letters']=df['Country'].str.extract(r'(^[A-Za-z]{,6})') #\n",
    "df['first_five_letters']"
   ]
  },
  {
   "cell_type": "code",
   "execution_count": 23,
   "id": "ad464976",
   "metadata": {},
   "outputs": [
    {
     "data": {
      "text/html": [
       "<div>\n",
       "<style scoped>\n",
       "    .dataframe tbody tr th:only-of-type {\n",
       "        vertical-align: middle;\n",
       "    }\n",
       "\n",
       "    .dataframe tbody tr th {\n",
       "        vertical-align: top;\n",
       "    }\n",
       "\n",
       "    .dataframe thead th {\n",
       "        text-align: right;\n",
       "    }\n",
       "</style>\n",
       "<table border=\"1\" class=\"dataframe\">\n",
       "  <thead>\n",
       "    <tr style=\"text-align: right;\">\n",
       "      <th></th>\n",
       "      <th>Country</th>\n",
       "      <th>Region</th>\n",
       "      <th>Happiness Rank</th>\n",
       "      <th>Happiness Score</th>\n",
       "      <th>Standard Error</th>\n",
       "      <th>Economy (GDP per Capita)</th>\n",
       "      <th>Family</th>\n",
       "      <th>Health (Life Expectancy)</th>\n",
       "      <th>Freedom</th>\n",
       "      <th>Trust (Government Corruption)</th>\n",
       "      <th>Generosity</th>\n",
       "      <th>Dystopia Residual</th>\n",
       "      <th>first_five_letters</th>\n",
       "    </tr>\n",
       "  </thead>\n",
       "  <tbody>\n",
       "    <tr>\n",
       "      <th>0</th>\n",
       "      <td>Switzerland</td>\n",
       "      <td>Western Europe</td>\n",
       "      <td>1</td>\n",
       "      <td>7.587</td>\n",
       "      <td>0.03411</td>\n",
       "      <td>1.39651</td>\n",
       "      <td>1.34951</td>\n",
       "      <td>0.94143</td>\n",
       "      <td>0.66557</td>\n",
       "      <td>0.41978</td>\n",
       "      <td>0.29678</td>\n",
       "      <td>2.51738</td>\n",
       "      <td>Switze</td>\n",
       "    </tr>\n",
       "    <tr>\n",
       "      <th>1</th>\n",
       "      <td>Iceland</td>\n",
       "      <td>Western Europe</td>\n",
       "      <td>2</td>\n",
       "      <td>7.561</td>\n",
       "      <td>0.04884</td>\n",
       "      <td>1.30232</td>\n",
       "      <td>1.40223</td>\n",
       "      <td>0.94784</td>\n",
       "      <td>0.62877</td>\n",
       "      <td>0.14145</td>\n",
       "      <td>0.43630</td>\n",
       "      <td>2.70201</td>\n",
       "      <td>Icelan</td>\n",
       "    </tr>\n",
       "    <tr>\n",
       "      <th>2</th>\n",
       "      <td>Denmark</td>\n",
       "      <td>Western Europe</td>\n",
       "      <td>3</td>\n",
       "      <td>7.527</td>\n",
       "      <td>0.03328</td>\n",
       "      <td>1.32548</td>\n",
       "      <td>1.36058</td>\n",
       "      <td>0.87464</td>\n",
       "      <td>0.64938</td>\n",
       "      <td>0.48357</td>\n",
       "      <td>0.34139</td>\n",
       "      <td>2.49204</td>\n",
       "      <td>Denmar</td>\n",
       "    </tr>\n",
       "    <tr>\n",
       "      <th>3</th>\n",
       "      <td>Norway</td>\n",
       "      <td>Western Europe</td>\n",
       "      <td>4</td>\n",
       "      <td>7.522</td>\n",
       "      <td>0.03880</td>\n",
       "      <td>1.45900</td>\n",
       "      <td>1.33095</td>\n",
       "      <td>0.88521</td>\n",
       "      <td>0.66973</td>\n",
       "      <td>0.36503</td>\n",
       "      <td>0.34699</td>\n",
       "      <td>2.46531</td>\n",
       "      <td>Norway</td>\n",
       "    </tr>\n",
       "    <tr>\n",
       "      <th>4</th>\n",
       "      <td>Canada</td>\n",
       "      <td>North America</td>\n",
       "      <td>5</td>\n",
       "      <td>7.427</td>\n",
       "      <td>0.03553</td>\n",
       "      <td>1.32629</td>\n",
       "      <td>1.32261</td>\n",
       "      <td>0.90563</td>\n",
       "      <td>0.63297</td>\n",
       "      <td>0.32957</td>\n",
       "      <td>0.45811</td>\n",
       "      <td>2.45176</td>\n",
       "      <td>Canada</td>\n",
       "    </tr>\n",
       "    <tr>\n",
       "      <th>...</th>\n",
       "      <td>...</td>\n",
       "      <td>...</td>\n",
       "      <td>...</td>\n",
       "      <td>...</td>\n",
       "      <td>...</td>\n",
       "      <td>...</td>\n",
       "      <td>...</td>\n",
       "      <td>...</td>\n",
       "      <td>...</td>\n",
       "      <td>...</td>\n",
       "      <td>...</td>\n",
       "      <td>...</td>\n",
       "      <td>...</td>\n",
       "    </tr>\n",
       "    <tr>\n",
       "      <th>153</th>\n",
       "      <td>Rwanda</td>\n",
       "      <td>Sub-Saharan Africa</td>\n",
       "      <td>154</td>\n",
       "      <td>3.465</td>\n",
       "      <td>0.03464</td>\n",
       "      <td>0.22208</td>\n",
       "      <td>0.77370</td>\n",
       "      <td>0.42864</td>\n",
       "      <td>0.59201</td>\n",
       "      <td>0.55191</td>\n",
       "      <td>0.22628</td>\n",
       "      <td>0.67042</td>\n",
       "      <td>Rwanda</td>\n",
       "    </tr>\n",
       "    <tr>\n",
       "      <th>154</th>\n",
       "      <td>Benin</td>\n",
       "      <td>Sub-Saharan Africa</td>\n",
       "      <td>155</td>\n",
       "      <td>3.340</td>\n",
       "      <td>0.03656</td>\n",
       "      <td>0.28665</td>\n",
       "      <td>0.35386</td>\n",
       "      <td>0.31910</td>\n",
       "      <td>0.48450</td>\n",
       "      <td>0.08010</td>\n",
       "      <td>0.18260</td>\n",
       "      <td>1.63328</td>\n",
       "      <td>Benin</td>\n",
       "    </tr>\n",
       "    <tr>\n",
       "      <th>155</th>\n",
       "      <td>Syria</td>\n",
       "      <td>Middle East and Northern Africa</td>\n",
       "      <td>156</td>\n",
       "      <td>3.006</td>\n",
       "      <td>0.05015</td>\n",
       "      <td>0.66320</td>\n",
       "      <td>0.47489</td>\n",
       "      <td>0.72193</td>\n",
       "      <td>0.15684</td>\n",
       "      <td>0.18906</td>\n",
       "      <td>0.47179</td>\n",
       "      <td>0.32858</td>\n",
       "      <td>Syria</td>\n",
       "    </tr>\n",
       "    <tr>\n",
       "      <th>156</th>\n",
       "      <td>Burundi</td>\n",
       "      <td>Sub-Saharan Africa</td>\n",
       "      <td>157</td>\n",
       "      <td>2.905</td>\n",
       "      <td>0.08658</td>\n",
       "      <td>0.01530</td>\n",
       "      <td>0.41587</td>\n",
       "      <td>0.22396</td>\n",
       "      <td>0.11850</td>\n",
       "      <td>0.10062</td>\n",
       "      <td>0.19727</td>\n",
       "      <td>1.83302</td>\n",
       "      <td>Burund</td>\n",
       "    </tr>\n",
       "    <tr>\n",
       "      <th>157</th>\n",
       "      <td>Togo</td>\n",
       "      <td>Sub-Saharan Africa</td>\n",
       "      <td>158</td>\n",
       "      <td>2.839</td>\n",
       "      <td>0.06727</td>\n",
       "      <td>0.20868</td>\n",
       "      <td>0.13995</td>\n",
       "      <td>0.28443</td>\n",
       "      <td>0.36453</td>\n",
       "      <td>0.10731</td>\n",
       "      <td>0.16681</td>\n",
       "      <td>1.56726</td>\n",
       "      <td>Togo</td>\n",
       "    </tr>\n",
       "  </tbody>\n",
       "</table>\n",
       "<p>158 rows × 13 columns</p>\n",
       "</div>"
      ],
      "text/plain": [
       "         Country                           Region  Happiness Rank  \\\n",
       "0    Switzerland                   Western Europe               1   \n",
       "1        Iceland                   Western Europe               2   \n",
       "2        Denmark                   Western Europe               3   \n",
       "3         Norway                   Western Europe               4   \n",
       "4         Canada                    North America               5   \n",
       "..           ...                              ...             ...   \n",
       "153       Rwanda               Sub-Saharan Africa             154   \n",
       "154        Benin               Sub-Saharan Africa             155   \n",
       "155        Syria  Middle East and Northern Africa             156   \n",
       "156      Burundi               Sub-Saharan Africa             157   \n",
       "157         Togo               Sub-Saharan Africa             158   \n",
       "\n",
       "     Happiness Score  Standard Error  Economy (GDP per Capita)   Family  \\\n",
       "0              7.587         0.03411                   1.39651  1.34951   \n",
       "1              7.561         0.04884                   1.30232  1.40223   \n",
       "2              7.527         0.03328                   1.32548  1.36058   \n",
       "3              7.522         0.03880                   1.45900  1.33095   \n",
       "4              7.427         0.03553                   1.32629  1.32261   \n",
       "..               ...             ...                       ...      ...   \n",
       "153            3.465         0.03464                   0.22208  0.77370   \n",
       "154            3.340         0.03656                   0.28665  0.35386   \n",
       "155            3.006         0.05015                   0.66320  0.47489   \n",
       "156            2.905         0.08658                   0.01530  0.41587   \n",
       "157            2.839         0.06727                   0.20868  0.13995   \n",
       "\n",
       "     Health (Life Expectancy)  Freedom  Trust (Government Corruption)  \\\n",
       "0                     0.94143  0.66557                        0.41978   \n",
       "1                     0.94784  0.62877                        0.14145   \n",
       "2                     0.87464  0.64938                        0.48357   \n",
       "3                     0.88521  0.66973                        0.36503   \n",
       "4                     0.90563  0.63297                        0.32957   \n",
       "..                        ...      ...                            ...   \n",
       "153                   0.42864  0.59201                        0.55191   \n",
       "154                   0.31910  0.48450                        0.08010   \n",
       "155                   0.72193  0.15684                        0.18906   \n",
       "156                   0.22396  0.11850                        0.10062   \n",
       "157                   0.28443  0.36453                        0.10731   \n",
       "\n",
       "     Generosity  Dystopia Residual first_five_letters  \n",
       "0       0.29678            2.51738             Switze  \n",
       "1       0.43630            2.70201             Icelan  \n",
       "2       0.34139            2.49204             Denmar  \n",
       "3       0.34699            2.46531             Norway  \n",
       "4       0.45811            2.45176             Canada  \n",
       "..          ...                ...                ...  \n",
       "153     0.22628            0.67042             Rwanda  \n",
       "154     0.18260            1.63328              Benin  \n",
       "155     0.47179            0.32858              Syria  \n",
       "156     0.19727            1.83302             Burund  \n",
       "157     0.16681            1.56726               Togo  \n",
       "\n",
       "[158 rows x 13 columns]"
      ]
     },
     "execution_count": 23,
     "metadata": {},
     "output_type": "execute_result"
    }
   ],
   "source": [
    "df"
   ]
  },
  {
   "cell_type": "markdown",
   "id": "f8cf40bb",
   "metadata": {},
   "source": [
    "11"
   ]
  },
  {
   "cell_type": "raw",
   "id": "c1eb7c83",
   "metadata": {},
   "source": [
    "Write a Python program to match a string that contains only upper and lowercase letters, numbers, and underscores."
   ]
  },
  {
   "cell_type": "code",
   "execution_count": 24,
   "id": "42ec2085",
   "metadata": {},
   "outputs": [
    {
     "name": "stdout",
     "output_type": "stream",
     "text": [
      "<regex.Match object; span=(0, 5), match='hello'>\n",
      "<regex.Match object; span=(0, 5), match='Hello'>\n",
      "<regex.Match object; span=(0, 8), match='Hello123'>\n",
      "<regex.Match object; span=(0, 9), match='hello_123'>\n",
      "None\n",
      "None\n"
     ]
    }
   ],
   "source": [
    "list=[\"hello\",\"Hello\",\"Hello123\",\"hello_123\",\"hello@123\",\"Hello.123\"]\n",
    "for i in list:\n",
    "    result=re.match(r'(^[\\w]+$)',i)\n",
    "    print(result)\n",
    "\n"
   ]
  },
  {
   "cell_type": "markdown",
   "id": "04778784",
   "metadata": {},
   "source": [
    "12"
   ]
  },
  {
   "cell_type": "raw",
   "id": "7e132a0c",
   "metadata": {},
   "source": [
    "Write a Python program where a string will start with a specific number. "
   ]
  },
  {
   "cell_type": "code",
   "execution_count": 25,
   "id": "d2c1a580",
   "metadata": {},
   "outputs": [],
   "source": [
    "def search(pat,list):\n",
    "    for i in list:\n",
    "        result=re.match(pat,i)\n",
    "        print(result)\n"
   ]
  },
  {
   "cell_type": "code",
   "execution_count": 26,
   "id": "98e60a8c",
   "metadata": {},
   "outputs": [
    {
     "name": "stdout",
     "output_type": "stream",
     "text": [
      "Enter the number :12\n",
      "<regex.Match object; span=(0, 2), match='12'>\n",
      "None\n",
      "<regex.Match object; span=(0, 2), match='12'>\n",
      "None\n"
     ]
    }
   ],
   "source": [
    "pattern=input(\"Enter the number :\")\n",
    "data=['123456 I Am ready','456 Go','123 fix it','76 why not']\n",
    "search(pattern,data)"
   ]
  },
  {
   "cell_type": "markdown",
   "id": "cd9b09d0",
   "metadata": {},
   "source": [
    "13"
   ]
  },
  {
   "cell_type": "raw",
   "id": "3e2f0c15",
   "metadata": {},
   "source": [
    "Write a Python program to remove leading zeros from an IP address."
   ]
  },
  {
   "cell_type": "code",
   "execution_count": 27,
   "id": "d7eba2fc",
   "metadata": {},
   "outputs": [],
   "source": [
    "def Lead_zero(list):\n",
    "    pattern1=r'\\.[0]{1,2}'\n",
    "    list2=[]\n",
    "    for i in list:\n",
    "        result=re.sub(pattern1,'.',i)\n",
    "        list2.append(result)\n",
    "    list3=[]\n",
    "    pattern2=r'^[0]{0,2}'\n",
    "    for i in list2:\n",
    "        result=re.sub(pattern2,'',i)\n",
    "        list3.append(result)\n",
    "    print(list3)"
   ]
  },
  {
   "cell_type": "code",
   "execution_count": 28,
   "id": "f22c9c13",
   "metadata": {},
   "outputs": [
    {
     "name": "stdout",
     "output_type": "stream",
     "text": [
      "['192.168.1.1', '10.10.10.10', '3.3.3.3', '25.25.25.25', '7.7.7.7', '4.4.4.4', '1.10.100.1']\n"
     ]
    }
   ],
   "source": [
    "ip_address=[\"192.168.001.001\",\n",
    "\"010.010.010.010\",\n",
    "\"003.003.003.003\",\n",
    "\"025.025.025.025\",      \n",
    "\"007.007.007.007\",\n",
    "\"004.004.004.004\",\n",
    "\"001.010.100.001\"]\n",
    "\n",
    "Lead_zero(ip_address)"
   ]
  },
  {
   "cell_type": "markdown",
   "id": "a12a7ced",
   "metadata": {},
   "source": [
    "14"
   ]
  },
  {
   "cell_type": "raw",
   "id": "3694f8fb",
   "metadata": {},
   "source": [
    "Write a regular expression in python to match a date string in the form of Month name \n",
    "followed by day number and year stored in a text file.\n",
    "Sample text :  'On August 15th 1947 that India was declared independent from British colonialism, \n",
    "    and the reins of control were handed over to the leaders of the Country’.\n"
   ]
  },
  {
   "cell_type": "code",
   "execution_count": 29,
   "id": "aca648b4",
   "metadata": {},
   "outputs": [
    {
     "name": "stdout",
     "output_type": "stream",
     "text": [
      "['August 15th 1947']\n",
      "[]\n"
     ]
    }
   ],
   "source": [
    "pattern=r'\\bJan[\\w]+\\s[\\w]+\\s\\d{4}\\b|\\bFeb[\\w]+\\s[\\w]+\\s\\d{4}\\b|\\bMar[\\w]+\\s[\\w]+\\s\\d{4}\\b|\\bApr[\\w]+\\s[\\w]+\\s\\d{4}\\b|\\bMay[\\w]*\\s[\\w]*\\s\\d{4}\\b|\\bJune[\\w]*\\s[\\w]*\\s\\d{4}\\b|\\bJuly[\\w]*\\s[\\w]*\\s\\d{4}\\b|\\bAug[\\w]+\\s[\\w]+\\s\\d{4}\\b|\\bSep[\\w]+\\s[\\w]+\\s\\d{4}\\b|\\bOct[\\w]+\\s[\\w]+\\s\\d{4}\\b|\\bNov[\\w]+\\s[\\w]+\\s\\d{4}\\b|\\bDec[\\w]+\\s[\\w]+\\s\\d{4}\\b'\n",
    "with open('Date_ext.txt') as file:\n",
    "    for line in file :\n",
    "        dates=re.findall(pattern,line,re.IGNORECASE)\n",
    "        print(dates)\n",
    "    "
   ]
  },
  {
   "cell_type": "raw",
   "id": "01925b0d",
   "metadata": {},
   "source": [
    "Note: (?:)--->This indicates a non capturing group"
   ]
  },
  {
   "cell_type": "markdown",
   "id": "3cc5edb9",
   "metadata": {},
   "source": [
    "15"
   ]
  },
  {
   "cell_type": "raw",
   "id": "eb781415",
   "metadata": {},
   "source": [
    "Write a Python program to search some literals strings in a string. "
   ]
  },
  {
   "cell_type": "code",
   "execution_count": 30,
   "id": "cd1d386c",
   "metadata": {},
   "outputs": [],
   "source": [
    "string='The quick brown fox jumps over the lazy dog.'\n",
    "\n",
    "list_search=['fox', 'dog', 'horse']\n",
    "\n",
    "def literal(string,list):\n",
    "    \n",
    "        for i in list:\n",
    "            match=re.finditer(i,string)\n",
    "            for matches in match:\n",
    "                print(f'The literal \"{matches.group()}\" is found')\n",
    "            "
   ]
  },
  {
   "cell_type": "code",
   "execution_count": 31,
   "id": "b1b4818d",
   "metadata": {},
   "outputs": [
    {
     "name": "stdout",
     "output_type": "stream",
     "text": [
      "The literal \"fox\" is found\n",
      "The literal \"dog\" is found\n"
     ]
    }
   ],
   "source": [
    "literal(string,list_search)"
   ]
  },
  {
   "cell_type": "markdown",
   "id": "e1656a56",
   "metadata": {},
   "source": [
    "16"
   ]
  },
  {
   "cell_type": "raw",
   "id": "1c6b4678",
   "metadata": {},
   "source": [
    "Write a Python program to search a literals string in a string and \n",
    "also find the location within the original string where the pattern occurs\n",
    "Sample text : 'The quick brown fox jumps over the lazy dog.'\n"
   ]
  },
  {
   "cell_type": "code",
   "execution_count": 32,
   "id": "062e4039",
   "metadata": {},
   "outputs": [],
   "source": [
    "string='The quick brown fox jumps over the lazy dog.'\n",
    "\n",
    "list_search=['dog']\n",
    "\n",
    "def literal(string,list):\n",
    "    \n",
    "        for i in list:\n",
    "            match=re.finditer(i,string)\n",
    "            for matches in match:\n",
    "                print(f'The literal \"{matches.group()}\" is found starts at \"{matches.start()}\" ends at \"{matches.end()}\"')"
   ]
  },
  {
   "cell_type": "code",
   "execution_count": 33,
   "id": "2f9ca79a",
   "metadata": {},
   "outputs": [
    {
     "name": "stdout",
     "output_type": "stream",
     "text": [
      "The literal \"dog\" is found starts at \"40\" ends at \"43\"\n"
     ]
    }
   ],
   "source": [
    "literal(string,list_search)"
   ]
  },
  {
   "cell_type": "markdown",
   "id": "29b540b3",
   "metadata": {},
   "source": [
    "17"
   ]
  },
  {
   "cell_type": "raw",
   "id": "6c998a54",
   "metadata": {},
   "source": [
    "Write a Python program to find the substrings within a string.\n",
    "Sample text : 'Python exercises, PHP exercises, C# exercises'"
   ]
  },
  {
   "cell_type": "code",
   "execution_count": 34,
   "id": "ba7ac535",
   "metadata": {},
   "outputs": [],
   "source": [
    "string=\"Python exercises, PHP exercises, C# exercises\"\n",
    "pattern=\"exercises\""
   ]
  },
  {
   "cell_type": "code",
   "execution_count": 35,
   "id": "a6fd8fe8",
   "metadata": {},
   "outputs": [],
   "source": [
    "def find_substr(pattern,string):\n",
    "    \n",
    "    substring=re.finditer(pattern,string)\n",
    "    \n",
    "    for substr in substring:\n",
    "        print(substr.group())"
   ]
  },
  {
   "cell_type": "code",
   "execution_count": 36,
   "id": "954f1699",
   "metadata": {},
   "outputs": [
    {
     "name": "stdout",
     "output_type": "stream",
     "text": [
      "exercises\n",
      "exercises\n",
      "exercises\n"
     ]
    }
   ],
   "source": [
    "find_substr(pattern,string)"
   ]
  },
  {
   "cell_type": "markdown",
   "id": "2ed4b324",
   "metadata": {},
   "source": [
    "18"
   ]
  },
  {
   "cell_type": "raw",
   "id": "de488152",
   "metadata": {},
   "source": [
    " Write a Python program to find the occurrence and position of the substrings within a string."
   ]
  },
  {
   "cell_type": "code",
   "execution_count": 37,
   "id": "841868dc",
   "metadata": {},
   "outputs": [],
   "source": [
    "string=\"Python exercises, PHP exercises, C# exercises\"\n",
    "pattern=\"exercises\""
   ]
  },
  {
   "cell_type": "code",
   "execution_count": 38,
   "id": "b7299d2e",
   "metadata": {},
   "outputs": [],
   "source": [
    "def find_substr(pattern,string):\n",
    "    \n",
    "    substring=re.finditer(pattern,string)\n",
    "    \n",
    "    for substr in substring:\n",
    "        print(f'The substring \"{substr.group()}\"  starts at \"{substr.start()}\" and end at \"{substr.end()-1}\" index respectively')"
   ]
  },
  {
   "cell_type": "code",
   "execution_count": 39,
   "id": "d49d96b1",
   "metadata": {},
   "outputs": [
    {
     "name": "stdout",
     "output_type": "stream",
     "text": [
      "The substring \"exercises\"  starts at \"7\" and end at \"15\" index respectively\n",
      "The substring \"exercises\"  starts at \"22\" and end at \"30\" index respectively\n",
      "The substring \"exercises\"  starts at \"36\" and end at \"44\" index respectively\n"
     ]
    }
   ],
   "source": [
    "find_substr(pattern,string)"
   ]
  },
  {
   "cell_type": "markdown",
   "id": "5cd90d4c",
   "metadata": {},
   "source": [
    "19"
   ]
  },
  {
   "cell_type": "raw",
   "id": "f5f9265f",
   "metadata": {},
   "source": [
    "Write a Python program to convert a date of yyyy-mm-dd format to dd-mm-yyyy format."
   ]
  },
  {
   "cell_type": "code",
   "execution_count": 40,
   "id": "b2764c1f",
   "metadata": {},
   "outputs": [],
   "source": [
    "string=\"Ron was born on 12-09-1992 and he was admitted to school 15-12-1999.\"\n",
    "\n",
    "def format_date(string):\n",
    "    date=re.sub(r'([\\d]{2})-([\\d]{2})-([\\d]{4})',r'\\3-\\2-\\1',string)\n",
    "    print(date)"
   ]
  },
  {
   "cell_type": "code",
   "execution_count": 41,
   "id": "4649a576",
   "metadata": {},
   "outputs": [
    {
     "name": "stdout",
     "output_type": "stream",
     "text": [
      "Ron was born on 1992-09-12 and he was admitted to school 1999-12-15.\n"
     ]
    }
   ],
   "source": [
    "format_date(string)"
   ]
  },
  {
   "cell_type": "markdown",
   "id": "ad40c183",
   "metadata": {},
   "source": [
    "20"
   ]
  },
  {
   "cell_type": "raw",
   "id": "05c7f7ca",
   "metadata": {},
   "source": [
    "Create a function in python to find all decimal numbers with a precision of 1 or 2 in a string.\n",
    "The use of the re.compile() method is mandatory."
   ]
  },
  {
   "cell_type": "code",
   "execution_count": 42,
   "id": "c5ecacb6",
   "metadata": {},
   "outputs": [],
   "source": [
    "text=\"01.12 0132.123 2.31875 145.8 3.01 27.25 0.25\""
   ]
  },
  {
   "cell_type": "code",
   "execution_count": 43,
   "id": "514ec65f",
   "metadata": {},
   "outputs": [],
   "source": [
    "def precision(str):\n",
    "    pat=re.compile(r'\\d+\\.[\\d]{1,2}\\b')\n",
    "    result=pat.findall(str)\n",
    "    print(result)"
   ]
  },
  {
   "cell_type": "code",
   "execution_count": 44,
   "id": "6f7a5970",
   "metadata": {},
   "outputs": [
    {
     "name": "stdout",
     "output_type": "stream",
     "text": [
      "['01.12', '145.8', '3.01', '27.25', '0.25']\n"
     ]
    }
   ],
   "source": [
    "precision(text)"
   ]
  },
  {
   "cell_type": "markdown",
   "id": "f177c43e",
   "metadata": {},
   "source": [
    "21"
   ]
  },
  {
   "cell_type": "raw",
   "id": "bd110abd",
   "metadata": {},
   "source": [
    "Write a Python program to separate and print the numbers and their position of a given string."
   ]
  },
  {
   "cell_type": "code",
   "execution_count": 45,
   "id": "96002490",
   "metadata": {},
   "outputs": [],
   "source": [
    "string=\"Hello guys,my age is 21 with 8 years of experience adnd 120000 per month salary.\""
   ]
  },
  {
   "cell_type": "code",
   "execution_count": 46,
   "id": "35ff7b70",
   "metadata": {},
   "outputs": [],
   "source": [
    "str=re.finditer(r'(\\d+)',string)"
   ]
  },
  {
   "cell_type": "code",
   "execution_count": 47,
   "id": "724f2079",
   "metadata": {},
   "outputs": [
    {
     "name": "stdout",
     "output_type": "stream",
     "text": [
      "The number \"21\" is starts at \"21\" and end at \"22\" index respectively\n",
      "The number \"8\" is starts at \"29\" and end at \"29\" index respectively\n",
      "The number \"120000\" is starts at \"56\" and end at \"61\" index respectively\n"
     ]
    }
   ],
   "source": [
    "for num in str:\n",
    "    print(f'The number \"{num.group()}\" is starts at \"{num.start()}\" and end at \"{num.end()-1}\" index respectively')"
   ]
  },
  {
   "cell_type": "markdown",
   "id": "ec760198",
   "metadata": {},
   "source": [
    "22"
   ]
  },
  {
   "cell_type": "raw",
   "id": "b17ef9c5",
   "metadata": {},
   "source": [
    "Write a regular expression in python program to extract maximum/largest numeric value from a string.\n",
    "Sample Text: 'My marks in each semester are: 947, 896, 926, 524, 734, 950, 642'\n"
   ]
  },
  {
   "cell_type": "code",
   "execution_count": 48,
   "id": "2006961a",
   "metadata": {},
   "outputs": [],
   "source": [
    "Sample_Text= \"My marks in each semester are: 947, 896, 926, 524, 734, 950, 642\"\n",
    "def find_max(text):\n",
    "    result=re.findall(r'\\d+',text)\n",
    "    result1=[]\n",
    "    for i in result:\n",
    "        result1.append(int(i))\n",
    "    print(\"The maximum value is\",max(result1))\n",
    "    print(\"The minimum value is\",min(result1))\n"
   ]
  },
  {
   "cell_type": "code",
   "execution_count": 49,
   "id": "c588991f",
   "metadata": {},
   "outputs": [
    {
     "name": "stdout",
     "output_type": "stream",
     "text": [
      "The maximum value is 950\n",
      "The minimum value is 524\n"
     ]
    }
   ],
   "source": [
    "find_max(Sample_Text)"
   ]
  },
  {
   "cell_type": "markdown",
   "id": "abe69e5d",
   "metadata": {},
   "source": [
    "23"
   ]
  },
  {
   "cell_type": "raw",
   "id": "0ac51b50",
   "metadata": {},
   "source": [
    "Create a function in python to insert spaces between words starting with capital letters.\n",
    "Sample Text: “RegularExpressionIsAnImportantTopicInPython\"\n"
   ]
  },
  {
   "cell_type": "code",
   "execution_count": 50,
   "id": "0fb1f4d2",
   "metadata": {},
   "outputs": [
    {
     "name": "stdout",
     "output_type": "stream",
     "text": [
      "Regular Expression Is An Important Topic In Python\n"
     ]
    }
   ],
   "source": [
    "sample=\"RegularExpressionIsAnImportantTopicInPython\"\n",
    "def space(string):\n",
    "    result=re.sub(r'([a-z])([A-Z])',r'\\1 \\2',string)\n",
    "    print(result)\n",
    "\n",
    "space(sample)"
   ]
  },
  {
   "cell_type": "markdown",
   "id": "dc67f3cf",
   "metadata": {},
   "source": [
    "24"
   ]
  },
  {
   "cell_type": "raw",
   "id": "b1398706",
   "metadata": {},
   "source": [
    "Python regex to find sequences of one upper case letter followed by lower case letters"
   ]
  },
  {
   "cell_type": "code",
   "execution_count": 51,
   "id": "7fbfdbbb",
   "metadata": {},
   "outputs": [
    {
     "name": "stdout",
     "output_type": "stream",
     "text": [
      "['Regular', 'Expression', 'Is', 'An', 'Important', 'Topic', 'In', 'Python']\n"
     ]
    }
   ],
   "source": [
    "sample=\"RegularExpressionIsAnImportantTopicInPython\"\n",
    "def space(string):\n",
    "    result=re.findall(r'[A-Z][a-z]+',string)\n",
    "    print(result)\n",
    "\n",
    "space(sample)"
   ]
  },
  {
   "cell_type": "markdown",
   "id": "5405d3e9",
   "metadata": {},
   "source": [
    "25"
   ]
  },
  {
   "cell_type": "raw",
   "id": "9efcc201",
   "metadata": {},
   "source": [
    "Write a Python program to remove continuous duplicate words from Sentence using Regular Expression."
   ]
  },
  {
   "cell_type": "code",
   "execution_count": 52,
   "id": "166880f3",
   "metadata": {},
   "outputs": [
    {
     "data": {
      "text/plain": [
       "'Hello hello world'"
      ]
     },
     "execution_count": 52,
     "metadata": {},
     "output_type": "execute_result"
    }
   ],
   "source": [
    "sample=\"Hello hello world world\"\n",
    "result=re.sub(r'([a-z][a-z]+)(\\s\\1)',r'\\1',sample)\n",
    "result"
   ]
  },
  {
   "cell_type": "markdown",
   "id": "1c305d65",
   "metadata": {},
   "source": [
    "26 "
   ]
  },
  {
   "cell_type": "raw",
   "id": "5829df95",
   "metadata": {},
   "source": [
    "Write a python program using RegEx to accept string ending with alphanumeric character."
   ]
  },
  {
   "cell_type": "code",
   "execution_count": 53,
   "id": "fa346416",
   "metadata": {},
   "outputs": [],
   "source": [
    "def alpha_num_end(string):\n",
    "        result=re.findall(r'^.+[a-zA-Z\\d@#\\*]$',i)\n",
    "        if len(result)==1:\n",
    "            print(\"accepted\")\n",
    "        else:\n",
    "            print(\"Not accepted\")"
   ]
  },
  {
   "cell_type": "code",
   "execution_count": 54,
   "id": "295a74a2",
   "metadata": {},
   "outputs": [
    {
     "name": "stdout",
     "output_type": "stream",
     "text": [
      "Enter the password : Divith@4041\n",
      "accepted\n"
     ]
    }
   ],
   "source": [
    "alpha_num_end(input(\"Enter the password : \"))"
   ]
  },
  {
   "cell_type": "markdown",
   "id": "4943c796",
   "metadata": {},
   "source": [
    "27"
   ]
  },
  {
   "cell_type": "raw",
   "id": "47f3af4c",
   "metadata": {},
   "source": [
    "Write a python program using RegEx to extract the hashtags.\n",
    "Sample Text: \"\"\"RT @kapil_kausik: #Doltiwal I mean #xyzabc is \"hurt\" by #Demonetization as the same \n",
    "has rendered USELESS <ed><U+00A0><U+00BD><ed><U+00B1><U+0089> \"acquired funds\" No wo\"\"\"\n"
   ]
  },
  {
   "cell_type": "code",
   "execution_count": 55,
   "id": "1c6982ab",
   "metadata": {},
   "outputs": [],
   "source": [
    "string='''RT @kapil_kausik: #Doltiwal I mean #xyzabc is \"hurt\" by \n",
    "#Demonetization as the same has rendered USELESS <ed><U+00A0><U+00BD><ed><U+00B1><U+0089> \"acquired funds\" No wo\"'''"
   ]
  },
  {
   "cell_type": "code",
   "execution_count": 56,
   "id": "1da99515",
   "metadata": {},
   "outputs": [],
   "source": [
    "def extract_hashtag(str):\n",
    "        result=re.findall(r'#[\\w]+',str)\n",
    "        print(result)\n",
    "    "
   ]
  },
  {
   "cell_type": "code",
   "execution_count": 57,
   "id": "cb7c5b27",
   "metadata": {},
   "outputs": [
    {
     "name": "stdout",
     "output_type": "stream",
     "text": [
      "['#Doltiwal', '#xyzabc', '#Demonetization']\n"
     ]
    }
   ],
   "source": [
    "extract_hashtag(string)"
   ]
  },
  {
   "cell_type": "markdown",
   "id": "3a2030e3",
   "metadata": {},
   "source": [
    "28"
   ]
  },
  {
   "cell_type": "raw",
   "id": "133b9d38",
   "metadata": {},
   "source": [
    "Write a python program using RegEx to remove <U+..> like symbols\n",
    "Check the below sample text, there are strange symbols something of the sort <U+..> all over the place.\n",
    "You need to come up with a general Regex expression that will cover all such symbols.\n"
   ]
  },
  {
   "cell_type": "code",
   "execution_count": 58,
   "id": "bffc5522",
   "metadata": {},
   "outputs": [],
   "source": [
    "string=\"@Jags123456 Bharat band on 28??<ed><U+00A0><U+00BD><ed><U+00B8><U+0082>Those who  are protesting #demonetization  are all different party leaders\""
   ]
  },
  {
   "cell_type": "code",
   "execution_count": 59,
   "id": "b9569f0a",
   "metadata": {},
   "outputs": [],
   "source": [
    "def remove(str):\n",
    "        result=re.sub(r'<[A-Z\\+\\d]+>','',str)\n",
    "        print(result)"
   ]
  },
  {
   "cell_type": "code",
   "execution_count": 60,
   "id": "26fc4e4c",
   "metadata": {},
   "outputs": [
    {
     "name": "stdout",
     "output_type": "stream",
     "text": [
      "@Jags123456 Bharat band on 28??<ed><ed>Those who  are protesting #demonetization  are all different party leaders\n"
     ]
    }
   ],
   "source": [
    "remove(string)"
   ]
  },
  {
   "cell_type": "markdown",
   "id": "7c98603b",
   "metadata": {},
   "source": [
    "29"
   ]
  },
  {
   "cell_type": "raw",
   "id": "88b7395f",
   "metadata": {},
   "source": [
    "Write a python program to extract dates from the text stored in the text file."
   ]
  },
  {
   "cell_type": "code",
   "execution_count": 61,
   "id": "c1779885",
   "metadata": {},
   "outputs": [],
   "source": [
    "def ext_date(filename):\n",
    "    \n",
    "    df=open(filename)\n",
    "    \n",
    "    string=df.read()\n",
    "    df.close()\n",
    "    \n",
    "    dates=re.findall(r'[\\d]{2}-[\\d]{2}-[\\d]{4}',string)\n",
    "    print(dates)"
   ]
  },
  {
   "cell_type": "code",
   "execution_count": 62,
   "id": "d162ff6b",
   "metadata": {},
   "outputs": [
    {
     "name": "stdout",
     "output_type": "stream",
     "text": [
      "['12-09-1992', '15-12-1999']\n"
     ]
    }
   ],
   "source": [
    "ext_date('Date_ext.txt')"
   ]
  },
  {
   "cell_type": "markdown",
   "id": "09965b9a",
   "metadata": {},
   "source": [
    "30"
   ]
  },
  {
   "cell_type": "raw",
   "id": "81838d46",
   "metadata": {},
   "source": [
    "Create a function inpython to remove all words from a string of length between 2 and 4."
   ]
  },
  {
   "cell_type": "code",
   "execution_count": 63,
   "id": "aa488946",
   "metadata": {},
   "outputs": [],
   "source": [
    "string=\"The following example creates an ArrayList with a capacity of 50 elements. 4 elements are then added to the ArrayList and the ArrayList is trimmed accordingly.\""
   ]
  },
  {
   "cell_type": "code",
   "execution_count": 64,
   "id": "bd263cdf",
   "metadata": {},
   "outputs": [
    {
     "name": "stdout",
     "output_type": "stream",
     "text": [
      " following example creates  ArrayList  a capacity   elements. 4 elements   added   ArrayList   ArrayList  trimmed accordingly.\n"
     ]
    }
   ],
   "source": [
    "def remove(str):\n",
    "    result=re.sub(r'\\b[\\w]{2,4}\\b','',str)\n",
    "    print(result)\n",
    "remove(string)"
   ]
  },
  {
   "cell_type": "code",
   "execution_count": null,
   "id": "fc78a4eb",
   "metadata": {},
   "outputs": [],
   "source": []
  }
 ],
 "metadata": {
  "kernelspec": {
   "display_name": "Python 3 (ipykernel)",
   "language": "python",
   "name": "python3"
  },
  "language_info": {
   "codemirror_mode": {
    "name": "ipython",
    "version": 3
   },
   "file_extension": ".py",
   "mimetype": "text/x-python",
   "name": "python",
   "nbconvert_exporter": "python",
   "pygments_lexer": "ipython3",
   "version": "3.11.5"
  }
 },
 "nbformat": 4,
 "nbformat_minor": 5
}
