{
 "cells": [
  {
   "cell_type": "code",
   "execution_count": 1,
   "id": "78b81a01",
   "metadata": {},
   "outputs": [],
   "source": [
    "import pandas as pd\n",
    "import seaborn as sns\n",
    "from matplotlib import pyplot as plt\n",
    "import numpy as np\n",
    "import sklearn"
   ]
  },
  {
   "cell_type": "code",
   "execution_count": 2,
   "id": "d161ca0e",
   "metadata": {},
   "outputs": [],
   "source": [
    "from sklearn.preprocessing import StandardScaler\n",
    "from sklearn.model_selection import train_test_split\n",
    "\n",
    "import warnings\n",
    "warnings.filterwarnings('ignore')"
   ]
  },
  {
   "cell_type": "code",
   "execution_count": 3,
   "id": "e5e15490",
   "metadata": {},
   "outputs": [
    {
     "data": {
      "text/html": [
       "<div>\n",
       "<style scoped>\n",
       "    .dataframe tbody tr th:only-of-type {\n",
       "        vertical-align: middle;\n",
       "    }\n",
       "\n",
       "    .dataframe tbody tr th {\n",
       "        vertical-align: top;\n",
       "    }\n",
       "\n",
       "    .dataframe thead th {\n",
       "        text-align: right;\n",
       "    }\n",
       "</style>\n",
       "<table border=\"1\" class=\"dataframe\">\n",
       "  <thead>\n",
       "    <tr style=\"text-align: right;\">\n",
       "      <th></th>\n",
       "      <th>Id number</th>\n",
       "      <th>Refractive index</th>\n",
       "      <th>Na</th>\n",
       "      <th>Mg</th>\n",
       "      <th>Si</th>\n",
       "      <th>K</th>\n",
       "      <th>Ca</th>\n",
       "      <th>Ba</th>\n",
       "      <th>Fe</th>\n",
       "      <th>Target</th>\n",
       "    </tr>\n",
       "  </thead>\n",
       "  <tbody>\n",
       "    <tr>\n",
       "      <th>1</th>\n",
       "      <td>1.52101</td>\n",
       "      <td>13.64</td>\n",
       "      <td>4.49</td>\n",
       "      <td>1.10</td>\n",
       "      <td>71.78</td>\n",
       "      <td>0.06</td>\n",
       "      <td>8.75</td>\n",
       "      <td>0.0</td>\n",
       "      <td>0.0</td>\n",
       "      <td>1</td>\n",
       "    </tr>\n",
       "    <tr>\n",
       "      <th>2</th>\n",
       "      <td>1.51761</td>\n",
       "      <td>13.89</td>\n",
       "      <td>3.60</td>\n",
       "      <td>1.36</td>\n",
       "      <td>72.73</td>\n",
       "      <td>0.48</td>\n",
       "      <td>7.83</td>\n",
       "      <td>0.0</td>\n",
       "      <td>0.0</td>\n",
       "      <td>1</td>\n",
       "    </tr>\n",
       "    <tr>\n",
       "      <th>3</th>\n",
       "      <td>1.51618</td>\n",
       "      <td>13.53</td>\n",
       "      <td>3.55</td>\n",
       "      <td>1.54</td>\n",
       "      <td>72.99</td>\n",
       "      <td>0.39</td>\n",
       "      <td>7.78</td>\n",
       "      <td>0.0</td>\n",
       "      <td>0.0</td>\n",
       "      <td>1</td>\n",
       "    </tr>\n",
       "    <tr>\n",
       "      <th>4</th>\n",
       "      <td>1.51766</td>\n",
       "      <td>13.21</td>\n",
       "      <td>3.69</td>\n",
       "      <td>1.29</td>\n",
       "      <td>72.61</td>\n",
       "      <td>0.57</td>\n",
       "      <td>8.22</td>\n",
       "      <td>0.0</td>\n",
       "      <td>0.0</td>\n",
       "      <td>1</td>\n",
       "    </tr>\n",
       "    <tr>\n",
       "      <th>5</th>\n",
       "      <td>1.51742</td>\n",
       "      <td>13.27</td>\n",
       "      <td>3.62</td>\n",
       "      <td>1.24</td>\n",
       "      <td>73.08</td>\n",
       "      <td>0.55</td>\n",
       "      <td>8.07</td>\n",
       "      <td>0.0</td>\n",
       "      <td>0.0</td>\n",
       "      <td>1</td>\n",
       "    </tr>\n",
       "  </tbody>\n",
       "</table>\n",
       "</div>"
      ],
      "text/plain": [
       "   Id number  Refractive index    Na    Mg     Si     K    Ca   Ba   Fe  \\\n",
       "1    1.52101             13.64  4.49  1.10  71.78  0.06  8.75  0.0  0.0   \n",
       "2    1.51761             13.89  3.60  1.36  72.73  0.48  7.83  0.0  0.0   \n",
       "3    1.51618             13.53  3.55  1.54  72.99  0.39  7.78  0.0  0.0   \n",
       "4    1.51766             13.21  3.69  1.29  72.61  0.57  8.22  0.0  0.0   \n",
       "5    1.51742             13.27  3.62  1.24  73.08  0.55  8.07  0.0  0.0   \n",
       "\n",
       "   Target  \n",
       "1       1  \n",
       "2       1  \n",
       "3       1  \n",
       "4       1  \n",
       "5       1  "
      ]
     },
     "execution_count": 3,
     "metadata": {},
     "output_type": "execute_result"
    }
   ],
   "source": [
    "df=pd.read_csv('glass_identify.csv')\n",
    "df.head()"
   ]
  },
  {
   "cell_type": "code",
   "execution_count": 4,
   "id": "d5927172",
   "metadata": {},
   "outputs": [
    {
     "data": {
      "text/plain": [
       "(214, 10)"
      ]
     },
     "execution_count": 4,
     "metadata": {},
     "output_type": "execute_result"
    }
   ],
   "source": [
    "df.shape"
   ]
  },
  {
   "cell_type": "code",
   "execution_count": 5,
   "id": "c017c7b7",
   "metadata": {},
   "outputs": [
    {
     "data": {
      "text/html": [
       "<div>\n",
       "<style scoped>\n",
       "    .dataframe tbody tr th:only-of-type {\n",
       "        vertical-align: middle;\n",
       "    }\n",
       "\n",
       "    .dataframe tbody tr th {\n",
       "        vertical-align: top;\n",
       "    }\n",
       "\n",
       "    .dataframe thead th {\n",
       "        text-align: right;\n",
       "    }\n",
       "</style>\n",
       "<table border=\"1\" class=\"dataframe\">\n",
       "  <thead>\n",
       "    <tr style=\"text-align: right;\">\n",
       "      <th></th>\n",
       "      <th>Id number</th>\n",
       "      <th>Refractive index</th>\n",
       "      <th>Na</th>\n",
       "      <th>Mg</th>\n",
       "      <th>Si</th>\n",
       "      <th>K</th>\n",
       "      <th>Ca</th>\n",
       "      <th>Ba</th>\n",
       "      <th>Fe</th>\n",
       "      <th>Target</th>\n",
       "    </tr>\n",
       "  </thead>\n",
       "  <tbody>\n",
       "    <tr>\n",
       "      <th>count</th>\n",
       "      <td>214.000000</td>\n",
       "      <td>214.000000</td>\n",
       "      <td>214.000000</td>\n",
       "      <td>214.000000</td>\n",
       "      <td>214.000000</td>\n",
       "      <td>214.000000</td>\n",
       "      <td>214.000000</td>\n",
       "      <td>214.000000</td>\n",
       "      <td>214.000000</td>\n",
       "      <td>214.000000</td>\n",
       "    </tr>\n",
       "    <tr>\n",
       "      <th>mean</th>\n",
       "      <td>1.518365</td>\n",
       "      <td>13.407850</td>\n",
       "      <td>2.684533</td>\n",
       "      <td>1.444907</td>\n",
       "      <td>72.650935</td>\n",
       "      <td>0.497056</td>\n",
       "      <td>8.956963</td>\n",
       "      <td>0.175047</td>\n",
       "      <td>0.057009</td>\n",
       "      <td>2.780374</td>\n",
       "    </tr>\n",
       "    <tr>\n",
       "      <th>std</th>\n",
       "      <td>0.003037</td>\n",
       "      <td>0.816604</td>\n",
       "      <td>1.442408</td>\n",
       "      <td>0.499270</td>\n",
       "      <td>0.774546</td>\n",
       "      <td>0.652192</td>\n",
       "      <td>1.423153</td>\n",
       "      <td>0.497219</td>\n",
       "      <td>0.097439</td>\n",
       "      <td>2.103739</td>\n",
       "    </tr>\n",
       "    <tr>\n",
       "      <th>min</th>\n",
       "      <td>1.511150</td>\n",
       "      <td>10.730000</td>\n",
       "      <td>0.000000</td>\n",
       "      <td>0.290000</td>\n",
       "      <td>69.810000</td>\n",
       "      <td>0.000000</td>\n",
       "      <td>5.430000</td>\n",
       "      <td>0.000000</td>\n",
       "      <td>0.000000</td>\n",
       "      <td>1.000000</td>\n",
       "    </tr>\n",
       "    <tr>\n",
       "      <th>25%</th>\n",
       "      <td>1.516522</td>\n",
       "      <td>12.907500</td>\n",
       "      <td>2.115000</td>\n",
       "      <td>1.190000</td>\n",
       "      <td>72.280000</td>\n",
       "      <td>0.122500</td>\n",
       "      <td>8.240000</td>\n",
       "      <td>0.000000</td>\n",
       "      <td>0.000000</td>\n",
       "      <td>1.000000</td>\n",
       "    </tr>\n",
       "    <tr>\n",
       "      <th>50%</th>\n",
       "      <td>1.517680</td>\n",
       "      <td>13.300000</td>\n",
       "      <td>3.480000</td>\n",
       "      <td>1.360000</td>\n",
       "      <td>72.790000</td>\n",
       "      <td>0.555000</td>\n",
       "      <td>8.600000</td>\n",
       "      <td>0.000000</td>\n",
       "      <td>0.000000</td>\n",
       "      <td>2.000000</td>\n",
       "    </tr>\n",
       "    <tr>\n",
       "      <th>75%</th>\n",
       "      <td>1.519157</td>\n",
       "      <td>13.825000</td>\n",
       "      <td>3.600000</td>\n",
       "      <td>1.630000</td>\n",
       "      <td>73.087500</td>\n",
       "      <td>0.610000</td>\n",
       "      <td>9.172500</td>\n",
       "      <td>0.000000</td>\n",
       "      <td>0.100000</td>\n",
       "      <td>3.000000</td>\n",
       "    </tr>\n",
       "    <tr>\n",
       "      <th>max</th>\n",
       "      <td>1.533930</td>\n",
       "      <td>17.380000</td>\n",
       "      <td>4.490000</td>\n",
       "      <td>3.500000</td>\n",
       "      <td>75.410000</td>\n",
       "      <td>6.210000</td>\n",
       "      <td>16.190000</td>\n",
       "      <td>3.150000</td>\n",
       "      <td>0.510000</td>\n",
       "      <td>7.000000</td>\n",
       "    </tr>\n",
       "  </tbody>\n",
       "</table>\n",
       "</div>"
      ],
      "text/plain": [
       "        Id number  Refractive index          Na          Mg          Si  \\\n",
       "count  214.000000        214.000000  214.000000  214.000000  214.000000   \n",
       "mean     1.518365         13.407850    2.684533    1.444907   72.650935   \n",
       "std      0.003037          0.816604    1.442408    0.499270    0.774546   \n",
       "min      1.511150         10.730000    0.000000    0.290000   69.810000   \n",
       "25%      1.516522         12.907500    2.115000    1.190000   72.280000   \n",
       "50%      1.517680         13.300000    3.480000    1.360000   72.790000   \n",
       "75%      1.519157         13.825000    3.600000    1.630000   73.087500   \n",
       "max      1.533930         17.380000    4.490000    3.500000   75.410000   \n",
       "\n",
       "                K          Ca          Ba          Fe      Target  \n",
       "count  214.000000  214.000000  214.000000  214.000000  214.000000  \n",
       "mean     0.497056    8.956963    0.175047    0.057009    2.780374  \n",
       "std      0.652192    1.423153    0.497219    0.097439    2.103739  \n",
       "min      0.000000    5.430000    0.000000    0.000000    1.000000  \n",
       "25%      0.122500    8.240000    0.000000    0.000000    1.000000  \n",
       "50%      0.555000    8.600000    0.000000    0.000000    2.000000  \n",
       "75%      0.610000    9.172500    0.000000    0.100000    3.000000  \n",
       "max      6.210000   16.190000    3.150000    0.510000    7.000000  "
      ]
     },
     "execution_count": 5,
     "metadata": {},
     "output_type": "execute_result"
    }
   ],
   "source": [
    "df.describe()"
   ]
  },
  {
   "cell_type": "markdown",
   "id": "15664e93",
   "metadata": {},
   "source": [
    "EDA"
   ]
  },
  {
   "cell_type": "code",
   "execution_count": 6,
   "id": "e632f00c",
   "metadata": {},
   "outputs": [],
   "source": [
    "df=df.drop_duplicates()"
   ]
  },
  {
   "cell_type": "code",
   "execution_count": 7,
   "id": "caa1beb6",
   "metadata": {},
   "outputs": [
    {
     "data": {
      "text/plain": [
       "(213, 10)"
      ]
     },
     "execution_count": 7,
     "metadata": {},
     "output_type": "execute_result"
    }
   ],
   "source": [
    "df.shape"
   ]
  },
  {
   "cell_type": "markdown",
   "id": "cc8d9e95",
   "metadata": {},
   "source": [
    "One duplicate is there and its been removed"
   ]
  },
  {
   "cell_type": "code",
   "execution_count": 8,
   "id": "7803f19b",
   "metadata": {},
   "outputs": [
    {
     "name": "stdout",
     "output_type": "stream",
     "text": [
      "<class 'pandas.core.frame.DataFrame'>\n",
      "Index: 213 entries, 1 to 214\n",
      "Data columns (total 10 columns):\n",
      " #   Column            Non-Null Count  Dtype  \n",
      "---  ------            --------------  -----  \n",
      " 0   Id number         213 non-null    float64\n",
      " 1   Refractive index  213 non-null    float64\n",
      " 2   Na                213 non-null    float64\n",
      " 3   Mg                213 non-null    float64\n",
      " 4   Si                213 non-null    float64\n",
      " 5   K                 213 non-null    float64\n",
      " 6   Ca                213 non-null    float64\n",
      " 7   Ba                213 non-null    float64\n",
      " 8   Fe                213 non-null    float64\n",
      " 9   Target            213 non-null    int64  \n",
      "dtypes: float64(9), int64(1)\n",
      "memory usage: 18.3 KB\n"
     ]
    }
   ],
   "source": [
    "df.info()"
   ]
  },
  {
   "cell_type": "markdown",
   "id": "460eb27f",
   "metadata": {},
   "source": [
    "check for null values"
   ]
  },
  {
   "cell_type": "code",
   "execution_count": 9,
   "id": "07bc86d8",
   "metadata": {},
   "outputs": [
    {
     "data": {
      "text/plain": [
       "Id number           0\n",
       "Refractive index    0\n",
       "Na                  0\n",
       "Mg                  0\n",
       "Si                  0\n",
       "K                   0\n",
       "Ca                  0\n",
       "Ba                  0\n",
       "Fe                  0\n",
       "Target              0\n",
       "dtype: int64"
      ]
     },
     "execution_count": 9,
     "metadata": {},
     "output_type": "execute_result"
    }
   ],
   "source": [
    "df.isnull().sum()"
   ]
  },
  {
   "cell_type": "markdown",
   "id": "d241ebf5",
   "metadata": {},
   "source": [
    "There are no null values"
   ]
  },
  {
   "cell_type": "code",
   "execution_count": 10,
   "id": "b57dff77",
   "metadata": {},
   "outputs": [],
   "source": [
    "df.drop(\"Id number\",axis=1,inplace=True)"
   ]
  },
  {
   "cell_type": "code",
   "execution_count": 11,
   "id": "0606bd48",
   "metadata": {},
   "outputs": [],
   "source": [
    "df1=df.drop(\"Target\",axis=1)"
   ]
  },
  {
   "cell_type": "markdown",
   "id": "8128e4bf",
   "metadata": {},
   "source": [
    "Outliers"
   ]
  },
  {
   "cell_type": "code",
   "execution_count": 12,
   "id": "907cef08",
   "metadata": {},
   "outputs": [
    {
     "data": {
      "text/plain": [
       "Refractive index       Axes(0.125,0.712609;0.227941x0.167391)\n",
       "Na                  Axes(0.398529,0.712609;0.227941x0.167391)\n",
       "Mg                  Axes(0.672059,0.712609;0.227941x0.167391)\n",
       "Si                     Axes(0.125,0.511739;0.227941x0.167391)\n",
       "K                   Axes(0.398529,0.511739;0.227941x0.167391)\n",
       "Ca                  Axes(0.672059,0.511739;0.227941x0.167391)\n",
       "Ba                      Axes(0.125,0.31087;0.227941x0.167391)\n",
       "Fe                   Axes(0.398529,0.31087;0.227941x0.167391)\n",
       "Target               Axes(0.672059,0.31087;0.227941x0.167391)\n",
       "dtype: object"
      ]
     },
     "execution_count": 12,
     "metadata": {},
     "output_type": "execute_result"
    },
    {
     "data": {
      "image/png": "[encoded data removed]",
      "text/plain": [
       "<Figure size 1000x1000 with 12 Axes>"
      ]
     },
     "metadata": {},
     "output_type": "display_data"
    }
   ],
   "source": [
    "df.plot(kind='box',subplots=True,layout=(4,3),figsize=(10,10))"
   ]
  },
  {
   "cell_type": "markdown",
   "id": "13bb2c8d",
   "metadata": {},
   "source": [
    "So there are outliers in every feature"
   ]
  },
  {
   "cell_type": "markdown",
   "id": "091ace24",
   "metadata": {},
   "source": [
    "Outliers removal"
   ]
  },
  {
   "cell_type": "code",
   "execution_count": 13,
   "id": "377276f1",
   "metadata": {},
   "outputs": [
    {
     "name": "stdout",
     "output_type": "stream",
     "text": [
      "11.535\n",
      "15.175\n",
      "-0.1750000000000007\n",
      "5.865\n",
      "0.53\n",
      "2.29\n",
      "71.065\n",
      "74.305\n",
      "-0.59\n",
      "1.33\n",
      "6.875\n",
      "10.515\n",
      "0.0\n",
      "0.0\n",
      "-0.15000000000000002\n",
      "0.25\n"
     ]
    }
   ],
   "source": [
    "for i in df1.columns:\n",
    "    IQR=df[i].quantile(0.75)-df[i].quantile(0.25)\n",
    "\n",
    "    Q1=df[i].quantile(0.25)\n",
    "\n",
    "    Q2=df[i].quantile(0.75)\n",
    "\n",
    "    lowl=Q1-1.5*IQR\n",
    "    print(lowl)\n",
    "    upperl=Q2+1.5*IQR\n",
    "    print(upperl)\n",
    "    \n",
    "    new_df=df[i].copy()\n",
    "    \n",
    "    new_df=np.where(new_df > upperl , upperl ,\n",
    "                           np.where(new_df <lowl, lowl ,new_df\n",
    "                                   )\n",
    "                           )\n",
    "    df[i]=new_df"
   ]
  },
  {
   "cell_type": "code",
   "execution_count": 14,
   "id": "09af19c8",
   "metadata": {},
   "outputs": [
    {
     "data": {
      "text/plain": [
       "Refractive index       Axes(0.125,0.712609;0.227941x0.167391)\n",
       "Na                  Axes(0.398529,0.712609;0.227941x0.167391)\n",
       "Mg                  Axes(0.672059,0.712609;0.227941x0.167391)\n",
       "Si                     Axes(0.125,0.511739;0.227941x0.167391)\n",
       "K                   Axes(0.398529,0.511739;0.227941x0.167391)\n",
       "Ca                  Axes(0.672059,0.511739;0.227941x0.167391)\n",
       "Ba                      Axes(0.125,0.31087;0.227941x0.167391)\n",
       "Fe                   Axes(0.398529,0.31087;0.227941x0.167391)\n",
       "Target               Axes(0.672059,0.31087;0.227941x0.167391)\n",
       "dtype: object"
      ]
     },
     "execution_count": 14,
     "metadata": {},
     "output_type": "execute_result"
    },
    {
     "data": {
      "image/png": "[encoded data removed]",
      "text/plain": [
       "<Figure size 1000x1000 with 12 Axes>"
      ]
     },
     "metadata": {},
     "output_type": "display_data"
    }
   ],
   "source": [
    "df.plot(kind='box',subplots=True,layout=(4,3),figsize=(10,10))"
   ]
  },
  {
   "cell_type": "markdown",
   "id": "57dd6a58",
   "metadata": {},
   "source": [
    "So all the outliers have been removed"
   ]
  },
  {
   "cell_type": "markdown",
   "id": "6e6160c4",
   "metadata": {},
   "source": [
    "Remove \"Ba\" as it does not have much effect"
   ]
  },
  {
   "cell_type": "code",
   "execution_count": 15,
   "id": "236bee01",
   "metadata": {},
   "outputs": [],
   "source": [
    "df.drop(\"Ba\",axis=1,inplace=True)"
   ]
  },
  {
   "cell_type": "code",
   "execution_count": 16,
   "id": "a584af2d",
   "metadata": {},
   "outputs": [],
   "source": [
    "df['Target'][df['Target']<=4]=0"
   ]
  },
  {
   "cell_type": "code",
   "execution_count": 17,
   "id": "0067ab2b",
   "metadata": {},
   "outputs": [],
   "source": [
    "df['Target'][df['Target']>4]=1"
   ]
  },
  {
   "cell_type": "code",
   "execution_count": 18,
   "id": "e69b96cc",
   "metadata": {},
   "outputs": [
    {
     "data": {
      "text/html": [
       "<div>\n",
       "<style scoped>\n",
       "    .dataframe tbody tr th:only-of-type {\n",
       "        vertical-align: middle;\n",
       "    }\n",
       "\n",
       "    .dataframe tbody tr th {\n",
       "        vertical-align: top;\n",
       "    }\n",
       "\n",
       "    .dataframe thead th {\n",
       "        text-align: right;\n",
       "    }\n",
       "</style>\n",
       "<table border=\"1\" class=\"dataframe\">\n",
       "  <thead>\n",
       "    <tr style=\"text-align: right;\">\n",
       "      <th></th>\n",
       "      <th>Refractive index</th>\n",
       "      <th>Na</th>\n",
       "      <th>Mg</th>\n",
       "      <th>Si</th>\n",
       "      <th>K</th>\n",
       "      <th>Ca</th>\n",
       "      <th>Fe</th>\n",
       "      <th>Target</th>\n",
       "    </tr>\n",
       "  </thead>\n",
       "  <tbody>\n",
       "    <tr>\n",
       "      <th>1</th>\n",
       "      <td>13.64</td>\n",
       "      <td>4.49</td>\n",
       "      <td>1.10</td>\n",
       "      <td>71.78</td>\n",
       "      <td>0.06</td>\n",
       "      <td>8.75</td>\n",
       "      <td>0.0</td>\n",
       "      <td>0</td>\n",
       "    </tr>\n",
       "    <tr>\n",
       "      <th>2</th>\n",
       "      <td>13.89</td>\n",
       "      <td>3.60</td>\n",
       "      <td>1.36</td>\n",
       "      <td>72.73</td>\n",
       "      <td>0.48</td>\n",
       "      <td>7.83</td>\n",
       "      <td>0.0</td>\n",
       "      <td>0</td>\n",
       "    </tr>\n",
       "    <tr>\n",
       "      <th>3</th>\n",
       "      <td>13.53</td>\n",
       "      <td>3.55</td>\n",
       "      <td>1.54</td>\n",
       "      <td>72.99</td>\n",
       "      <td>0.39</td>\n",
       "      <td>7.78</td>\n",
       "      <td>0.0</td>\n",
       "      <td>0</td>\n",
       "    </tr>\n",
       "    <tr>\n",
       "      <th>4</th>\n",
       "      <td>13.21</td>\n",
       "      <td>3.69</td>\n",
       "      <td>1.29</td>\n",
       "      <td>72.61</td>\n",
       "      <td>0.57</td>\n",
       "      <td>8.22</td>\n",
       "      <td>0.0</td>\n",
       "      <td>0</td>\n",
       "    </tr>\n",
       "    <tr>\n",
       "      <th>5</th>\n",
       "      <td>13.27</td>\n",
       "      <td>3.62</td>\n",
       "      <td>1.24</td>\n",
       "      <td>73.08</td>\n",
       "      <td>0.55</td>\n",
       "      <td>8.07</td>\n",
       "      <td>0.0</td>\n",
       "      <td>0</td>\n",
       "    </tr>\n",
       "    <tr>\n",
       "      <th>...</th>\n",
       "      <td>...</td>\n",
       "      <td>...</td>\n",
       "      <td>...</td>\n",
       "      <td>...</td>\n",
       "      <td>...</td>\n",
       "      <td>...</td>\n",
       "      <td>...</td>\n",
       "      <td>...</td>\n",
       "    </tr>\n",
       "    <tr>\n",
       "      <th>210</th>\n",
       "      <td>14.14</td>\n",
       "      <td>0.00</td>\n",
       "      <td>2.29</td>\n",
       "      <td>72.61</td>\n",
       "      <td>0.08</td>\n",
       "      <td>9.18</td>\n",
       "      <td>0.0</td>\n",
       "      <td>1</td>\n",
       "    </tr>\n",
       "    <tr>\n",
       "      <th>211</th>\n",
       "      <td>14.92</td>\n",
       "      <td>0.00</td>\n",
       "      <td>1.99</td>\n",
       "      <td>73.06</td>\n",
       "      <td>0.00</td>\n",
       "      <td>8.40</td>\n",
       "      <td>0.0</td>\n",
       "      <td>1</td>\n",
       "    </tr>\n",
       "    <tr>\n",
       "      <th>212</th>\n",
       "      <td>14.36</td>\n",
       "      <td>0.00</td>\n",
       "      <td>2.02</td>\n",
       "      <td>73.42</td>\n",
       "      <td>0.00</td>\n",
       "      <td>8.44</td>\n",
       "      <td>0.0</td>\n",
       "      <td>1</td>\n",
       "    </tr>\n",
       "    <tr>\n",
       "      <th>213</th>\n",
       "      <td>14.38</td>\n",
       "      <td>0.00</td>\n",
       "      <td>1.94</td>\n",
       "      <td>73.61</td>\n",
       "      <td>0.00</td>\n",
       "      <td>8.48</td>\n",
       "      <td>0.0</td>\n",
       "      <td>1</td>\n",
       "    </tr>\n",
       "    <tr>\n",
       "      <th>214</th>\n",
       "      <td>14.23</td>\n",
       "      <td>0.00</td>\n",
       "      <td>2.08</td>\n",
       "      <td>73.36</td>\n",
       "      <td>0.00</td>\n",
       "      <td>8.62</td>\n",
       "      <td>0.0</td>\n",
       "      <td>1</td>\n",
       "    </tr>\n",
       "  </tbody>\n",
       "</table>\n",
       "<p>213 rows × 8 columns</p>\n",
       "</div>"
      ],
      "text/plain": [
       "     Refractive index    Na    Mg     Si     K    Ca   Fe  Target\n",
       "1               13.64  4.49  1.10  71.78  0.06  8.75  0.0       0\n",
       "2               13.89  3.60  1.36  72.73  0.48  7.83  0.0       0\n",
       "3               13.53  3.55  1.54  72.99  0.39  7.78  0.0       0\n",
       "4               13.21  3.69  1.29  72.61  0.57  8.22  0.0       0\n",
       "5               13.27  3.62  1.24  73.08  0.55  8.07  0.0       0\n",
       "..                ...   ...   ...    ...   ...   ...  ...     ...\n",
       "210             14.14  0.00  2.29  72.61  0.08  9.18  0.0       1\n",
       "211             14.92  0.00  1.99  73.06  0.00  8.40  0.0       1\n",
       "212             14.36  0.00  2.02  73.42  0.00  8.44  0.0       1\n",
       "213             14.38  0.00  1.94  73.61  0.00  8.48  0.0       1\n",
       "214             14.23  0.00  2.08  73.36  0.00  8.62  0.0       1\n",
       "\n",
       "[213 rows x 8 columns]"
      ]
     },
     "execution_count": 18,
     "metadata": {},
     "output_type": "execute_result"
    }
   ],
   "source": [
    "df"
   ]
  },
  {
   "cell_type": "raw",
   "id": "7059b16d",
   "metadata": {},
   "source": [
    "encoded (1-4)\"0\" as windowglass category\n",
    "encode  (5-7)\"1\" as non windowglass category"
   ]
  },
  {
   "cell_type": "code",
   "execution_count": 19,
   "id": "7e184803",
   "metadata": {},
   "outputs": [
    {
     "data": {
      "image/png": "[encoded data removed]",
      "text/plain": [
       "<Figure size 1000x1000 with 2 Axes>"
      ]
     },
     "metadata": {},
     "output_type": "display_data"
    }
   ],
   "source": [
    "plt.figure(figsize=(10,10))\n",
    "sns.heatmap(df.corr(),annot=True,fmt='0.2f',linewidth=0.2,linecolor='black',cmap='Blues')\n",
    "plt.xlabel('figure',fontsize=20)\n",
    "plt.ylabel('feature name',fontsize=20)\n",
    "plt.title('Descriptive graph',fontsize=20)\n",
    "plt.show()"
   ]
  },
  {
   "cell_type": "markdown",
   "id": "1ec05b8a",
   "metadata": {},
   "source": [
    "So by seeing the above figure we can see no feature is highly correlated with other feature"
   ]
  },
  {
   "cell_type": "code",
   "execution_count": 20,
   "id": "e1869b68",
   "metadata": {},
   "outputs": [
    {
     "data": {
      "image/png": "[encoded data removed]",
      "text/plain": [
       "<Figure size 2000x1000 with 1 Axes>"
      ]
     },
     "metadata": {},
     "output_type": "display_data"
    }
   ],
   "source": [
    "plt.figure(figsize=(20,10))\n",
    "df.corr()['Target'].sort_values(ascending = False).drop(['Target']).plot(kind='bar',color='m')\n",
    "plt.xlabel('feature',fontsize=20)\n",
    "plt.ylabel('target',fontsize=20)\n",
    "plt.title('correlation between feature and target',fontsize=20)\n",
    "plt.show()"
   ]
  },
  {
   "cell_type": "markdown",
   "id": "1728e941",
   "metadata": {},
   "source": [
    "This is also okay the Features are correlated with the target in a good manner"
   ]
  },
  {
   "cell_type": "markdown",
   "id": "408e2010",
   "metadata": {},
   "source": [
    "Check if there is any inbalance in Target"
   ]
  },
  {
   "cell_type": "code",
   "execution_count": 21,
   "id": "7d4f78f3",
   "metadata": {},
   "outputs": [
    {
     "data": {
      "image/png": "[encoded data removed]",
      "text/plain": [
       "<Figure size 400x400 with 1 Axes>"
      ]
     },
     "metadata": {},
     "output_type": "display_data"
    }
   ],
   "source": [
    "for i in ['Target']:\n",
    "    plt.figure(figsize=(4,4))\n",
    "    sns.countplot(x=i,data=df)\n",
    "    plt.title(i)\n",
    "    plt.show()"
   ]
  },
  {
   "cell_type": "markdown",
   "id": "e6818986",
   "metadata": {},
   "source": [
    "Split the data"
   ]
  },
  {
   "cell_type": "code",
   "execution_count": 22,
   "id": "af6aca4f",
   "metadata": {},
   "outputs": [],
   "source": [
    "x=df.drop('Target',axis=1)\n",
    "y=df['Target']"
   ]
  },
  {
   "cell_type": "code",
   "execution_count": 23,
   "id": "88c7cc12",
   "metadata": {},
   "outputs": [
    {
     "data": {
      "text/plain": [
       "Target\n",
       "0    162\n",
       "1     51\n",
       "Name: count, dtype: int64"
      ]
     },
     "execution_count": 23,
     "metadata": {},
     "output_type": "execute_result"
    }
   ],
   "source": [
    "y.value_counts()"
   ]
  },
  {
   "cell_type": "markdown",
   "id": "93ef5fd2",
   "metadata": {},
   "source": [
    "So u can see there is imbalance in the Target"
   ]
  },
  {
   "cell_type": "code",
   "execution_count": 24,
   "id": "0204d012",
   "metadata": {},
   "outputs": [],
   "source": [
    "from imblearn.over_sampling import SMOTE\n",
    "sm=SMOTE()"
   ]
  },
  {
   "cell_type": "code",
   "execution_count": 25,
   "id": "4412c9d7",
   "metadata": {},
   "outputs": [],
   "source": [
    "x,y=sm.fit_resample(x,y)"
   ]
  },
  {
   "cell_type": "code",
   "execution_count": 26,
   "id": "122ee88d",
   "metadata": {},
   "outputs": [
    {
     "data": {
      "text/plain": [
       "Target\n",
       "0    162\n",
       "1    162\n",
       "Name: count, dtype: int64"
      ]
     },
     "execution_count": 26,
     "metadata": {},
     "output_type": "execute_result"
    }
   ],
   "source": [
    "y.value_counts()"
   ]
  },
  {
   "cell_type": "markdown",
   "id": "3551d8d2",
   "metadata": {},
   "source": [
    "So now the target in balanced"
   ]
  },
  {
   "cell_type": "code",
   "execution_count": 27,
   "id": "52e4464a",
   "metadata": {},
   "outputs": [
    {
     "data": {
      "text/plain": [
       "array([[ 0.02808581,  1.53931865, -1.06554836, ..., -0.92031027,\n",
       "        -0.13555066, -0.58180512],\n",
       "       [ 0.32854193,  0.99318082, -0.48696693, ...,  0.27298285,\n",
       "        -1.12499248, -0.58180512],\n",
       "       [-0.10411489,  0.96249892, -0.08641055, ...,  0.01727718,\n",
       "        -1.17876649, -0.58180512],\n",
       "       ...,\n",
       "       [ 1.48229345, -1.21591604,  1.58257437, ..., -1.09078072,\n",
       "        -0.25684459,  0.1977111 ],\n",
       "       [ 1.61264641, -1.21591604,  1.58257437, ..., -0.9944804 ,\n",
       "        -0.07376177, -0.20601252],\n",
       "       [ 1.85393944, -1.21591604,  0.07969591, ..., -1.09078072,\n",
       "        -1.15850521, -0.58180512]])"
      ]
     },
     "execution_count": 27,
     "metadata": {},
     "output_type": "execute_result"
    }
   ],
   "source": [
    "scaler=StandardScaler()\n",
    "X=scaler.fit_transform(x)\n",
    "X"
   ]
  },
  {
   "cell_type": "code",
   "execution_count": 28,
   "id": "76072ba3",
   "metadata": {},
   "outputs": [],
   "source": [
    "from sklearn.linear_model import LogisticRegression\n",
    "from sklearn.tree import DecisionTreeClassifier\n",
    "from sklearn.ensemble import RandomForestClassifier\n",
    "from sklearn.ensemble import AdaBoostClassifier\n",
    "from sklearn.ensemble import GradientBoostingClassifier\n",
    "from sklearn.svm import SVC\n",
    "from sklearn.neighbors import KNeighborsClassifier\n",
    "\n",
    "from sklearn.metrics import accuracy_score,confusion_matrix,classification_report\n",
    "from sklearn.model_selection import cross_val_score,GridSearchCV"
   ]
  },
  {
   "cell_type": "markdown",
   "id": "abd041ef",
   "metadata": {},
   "source": [
    "Finding best random state for building our classification models"
   ]
  },
  {
   "cell_type": "code",
   "execution_count": 29,
   "id": "61fdba3e",
   "metadata": {},
   "outputs": [
    {
     "name": "stdout",
     "output_type": "stream",
     "text": [
      "Best score  0.9876543209876543\n",
      "random state  12\n"
     ]
    }
   ],
   "source": [
    "lr=LogisticRegression()\n",
    "maxAcc=0\n",
    "rs=0\n",
    "for i in range(100):\n",
    "    x_train,x_test,y_train,y_test=train_test_split(X,y,test_size=0.25,random_state=i)\n",
    "    lr.fit(x_train,y_train)\n",
    "    pred=lr.predict(x_test)\n",
    "    ac=accuracy_score(y_test,pred)\n",
    "    if ac>maxAcc:\n",
    "        maxAcc=ac\n",
    "        rs=i\n",
    "        \n",
    "print(\"Best score \",maxAcc)\n",
    "print(\"random state \",rs)"
   ]
  },
  {
   "cell_type": "code",
   "execution_count": 30,
   "id": "41ee4b7a",
   "metadata": {},
   "outputs": [],
   "source": [
    "x_train,x_test,y_train,y_test=train_test_split(x,y,test_size=0.25,random_state=12)"
   ]
  },
  {
   "cell_type": "code",
   "execution_count": 31,
   "id": "f42a5c57",
   "metadata": {},
   "outputs": [
    {
     "name": "stdout",
     "output_type": "stream",
     "text": [
      "size of x_train :  (243, 7)\n",
      "size of x_test :  (81, 7)\n",
      "size of y_train :  (243,)\n",
      "size of y_test :  (81,)\n"
     ]
    }
   ],
   "source": [
    "print(\"size of x_train : \",x_train.shape)\n",
    "print(\"size of x_test : \",x_test.shape)\n",
    "print(\"size of y_train : \",y_train.shape)\n",
    "print(\"size of y_test : \",y_test.shape)"
   ]
  },
  {
   "cell_type": "markdown",
   "id": "806dc13b",
   "metadata": {},
   "source": [
    "Checking which model gives better results"
   ]
  },
  {
   "cell_type": "code",
   "execution_count": 32,
   "id": "88676f03",
   "metadata": {},
   "outputs": [],
   "source": [
    "def classify(clf,X,y):\n",
    "        x_train,x_test,y_train,y_test=train_test_split(X,y,test_size=0.25,random_state=12)\n",
    "        \n",
    "        #train the model\n",
    "        clf.fit(x_train,y_train)\n",
    "        \n",
    "        #predicting Ytest\n",
    "        pred=clf.predict(x_test)\n",
    "        \n",
    "        #accuracy score\n",
    "        acc_score=accuracy_score(y_test,pred)\n",
    "        print(\"Accuracy score\",acc_score)\n",
    "        \n",
    "        #confusion matrix\n",
    "        print(\"Confusion matrix :\\n\",confusion_matrix(y_test,pred))\n",
    "        \n",
    "        #classification report\n",
    "        print(\"Classification report :\\n\",classification_report(y_test,pred))\n",
    "        \n",
    "        #cross validation score\n",
    "        cv_score=(cross_val_score(clf,x,y,cv=5).mean())\n",
    "        print(\"cross validation score \",cv_score)\n",
    "        \n",
    "        #Result of accuracy minus cv scores\n",
    "        result=acc_score-cv_score\n",
    "        print(\"The final result of accuracy minus cross validation is \",result)"
   ]
  },
  {
   "cell_type": "code",
   "execution_count": 33,
   "id": "12dc0153",
   "metadata": {},
   "outputs": [
    {
     "name": "stdout",
     "output_type": "stream",
     "text": [
      "Accuracy score 0.9876543209876543\n",
      "Confusion matrix :\n",
      " [[41  0]\n",
      " [ 1 39]]\n",
      "Classification report :\n",
      "               precision    recall  f1-score   support\n",
      "\n",
      "           0       0.98      1.00      0.99        41\n",
      "           1       1.00      0.97      0.99        40\n",
      "\n",
      "    accuracy                           0.99        81\n",
      "   macro avg       0.99      0.99      0.99        81\n",
      "weighted avg       0.99      0.99      0.99        81\n",
      "\n",
      "cross validation score  0.9198557692307693\n",
      "The final result of accuracy minus cross validation is  0.06779855175688498\n"
     ]
    }
   ],
   "source": [
    "clf=LogisticRegression()\n",
    "classify(clf,X,y)"
   ]
  },
  {
   "cell_type": "markdown",
   "id": "2098815f",
   "metadata": {},
   "source": [
    "DesicionTreeClassifier"
   ]
  },
  {
   "cell_type": "code",
   "execution_count": 34,
   "id": "2654543c",
   "metadata": {},
   "outputs": [
    {
     "name": "stdout",
     "output_type": "stream",
     "text": [
      "Accuracy score 0.9506172839506173\n",
      "Confusion matrix :\n",
      " [[39  2]\n",
      " [ 2 38]]\n",
      "Classification report :\n",
      "               precision    recall  f1-score   support\n",
      "\n",
      "           0       0.95      0.95      0.95        41\n",
      "           1       0.95      0.95      0.95        40\n",
      "\n",
      "    accuracy                           0.95        81\n",
      "   macro avg       0.95      0.95      0.95        81\n",
      "weighted avg       0.95      0.95      0.95        81\n",
      "\n",
      "cross validation score  0.9230288461538461\n",
      "The final result of accuracy minus cross validation is  0.027588437796771226\n"
     ]
    }
   ],
   "source": [
    "clf=DecisionTreeClassifier()\n",
    "classify(clf,X,y)"
   ]
  },
  {
   "cell_type": "code",
   "execution_count": 35,
   "id": "da75b465",
   "metadata": {},
   "outputs": [
    {
     "name": "stdout",
     "output_type": "stream",
     "text": [
      "Accuracy score 0.9876543209876543\n",
      "Confusion matrix :\n",
      " [[40  1]\n",
      " [ 0 40]]\n",
      "Classification report :\n",
      "               precision    recall  f1-score   support\n",
      "\n",
      "           0       1.00      0.98      0.99        41\n",
      "           1       0.98      1.00      0.99        40\n",
      "\n",
      "    accuracy                           0.99        81\n",
      "   macro avg       0.99      0.99      0.99        81\n",
      "weighted avg       0.99      0.99      0.99        81\n",
      "\n",
      "cross validation score  0.9476923076923077\n",
      "The final result of accuracy minus cross validation is  0.03996201329534654\n"
     ]
    }
   ],
   "source": [
    "clf=RandomForestClassifier()\n",
    "classify(clf,X,y)"
   ]
  },
  {
   "cell_type": "code",
   "execution_count": 36,
   "id": "6954c031",
   "metadata": {},
   "outputs": [
    {
     "name": "stdout",
     "output_type": "stream",
     "text": [
      "Accuracy score 0.9753086419753086\n",
      "Confusion matrix :\n",
      " [[40  1]\n",
      " [ 1 39]]\n",
      "Classification report :\n",
      "               precision    recall  f1-score   support\n",
      "\n",
      "           0       0.98      0.98      0.98        41\n",
      "           1       0.97      0.97      0.97        40\n",
      "\n",
      "    accuracy                           0.98        81\n",
      "   macro avg       0.98      0.98      0.98        81\n",
      "weighted avg       0.98      0.98      0.98        81\n",
      "\n",
      "cross validation score  0.9199999999999999\n",
      "The final result of accuracy minus cross validation is  0.055308641975308714\n"
     ]
    }
   ],
   "source": [
    "clf=AdaBoostClassifier()\n",
    "classify(clf,X,y)"
   ]
  },
  {
   "cell_type": "code",
   "execution_count": 37,
   "id": "f498185b",
   "metadata": {},
   "outputs": [
    {
     "name": "stdout",
     "output_type": "stream",
     "text": [
      "Accuracy score 0.9753086419753086\n",
      "Confusion matrix :\n",
      " [[40  1]\n",
      " [ 1 39]]\n",
      "Classification report :\n",
      "               precision    recall  f1-score   support\n",
      "\n",
      "           0       0.98      0.98      0.98        41\n",
      "           1       0.97      0.97      0.97        40\n",
      "\n",
      "    accuracy                           0.98        81\n",
      "   macro avg       0.98      0.98      0.98        81\n",
      "weighted avg       0.98      0.98      0.98        81\n",
      "\n",
      "cross validation score  0.9415384615384615\n",
      "The final result of accuracy minus cross validation is  0.0337701804368471\n"
     ]
    }
   ],
   "source": [
    "clf=GradientBoostingClassifier()\n",
    "classify(clf,X,y)"
   ]
  },
  {
   "cell_type": "code",
   "execution_count": 38,
   "id": "6f2b3e47",
   "metadata": {},
   "outputs": [
    {
     "name": "stdout",
     "output_type": "stream",
     "text": [
      "Accuracy score 1.0\n",
      "Confusion matrix :\n",
      " [[41  0]\n",
      " [ 0 40]]\n",
      "Classification report :\n",
      "               precision    recall  f1-score   support\n",
      "\n",
      "           0       1.00      1.00      1.00        41\n",
      "           1       1.00      1.00      1.00        40\n",
      "\n",
      "    accuracy                           1.00        81\n",
      "   macro avg       1.00      1.00      1.00        81\n",
      "weighted avg       1.00      1.00      1.00        81\n",
      "\n",
      "cross validation score  0.5688461538461539\n",
      "The final result of accuracy minus cross validation is  0.4311538461538461\n"
     ]
    }
   ],
   "source": [
    "clf=SVC()\n",
    "classify(clf,X,y)"
   ]
  },
  {
   "cell_type": "code",
   "execution_count": 39,
   "id": "d7609a0d",
   "metadata": {},
   "outputs": [
    {
     "name": "stdout",
     "output_type": "stream",
     "text": [
      "Accuracy score 1.0\n",
      "Confusion matrix :\n",
      " [[41  0]\n",
      " [ 0 40]]\n",
      "Classification report :\n",
      "               precision    recall  f1-score   support\n",
      "\n",
      "           0       1.00      1.00      1.00        41\n",
      "           1       1.00      1.00      1.00        40\n",
      "\n",
      "    accuracy                           1.00        81\n",
      "   macro avg       1.00      1.00      1.00        81\n",
      "weighted avg       1.00      1.00      1.00        81\n",
      "\n",
      "cross validation score  0.9537980769230769\n",
      "The final result of accuracy minus cross validation is  0.04620192307692306\n"
     ]
    }
   ],
   "source": [
    "clf=KNeighborsClassifier()\n",
    "classify(clf,X,y)"
   ]
  },
  {
   "cell_type": "markdown",
   "id": "758c8a90",
   "metadata": {},
   "source": [
    "Hyperparamter tuning"
   ]
  },
  {
   "cell_type": "code",
   "execution_count": 43,
   "id": "bf4125dc",
   "metadata": {},
   "outputs": [],
   "source": [
    "from sklearn.model_selection import GridSearchCV"
   ]
  },
  {
   "cell_type": "code",
   "execution_count": 44,
   "id": "07fae78b",
   "metadata": {},
   "outputs": [
    {
     "name": "stdout",
     "output_type": "stream",
     "text": [
      "Best Parameters: {'max_depth': 30, 'min_samples_leaf': 1, 'min_samples_split': 2, 'n_estimators': 20}\n",
      "Best Score: 0.9630952380952381\n",
      "Test Set Score: 0.9876543209876543\n"
     ]
    }
   ],
   "source": [
    "x_train,x_test,y_train,y_test=train_test_split(X,y,test_size=0.25,random_state=12)\n",
    "\n",
    "model = RandomForestClassifier()\n",
    "\n",
    "param_grid = {\n",
    "    'n_estimators': [1,10,20],  \n",
    "    'max_depth': [None, 10, 20, 30],  \n",
    "    'min_samples_split': [2, 5, 10],  \n",
    "    'min_samples_leaf': [1, 2, 4]  \n",
    "}\n",
    "\n",
    "grid_search = GridSearchCV(estimator=model, param_grid=param_grid, cv=5, scoring='accuracy')\n",
    "\n",
    "grid_search.fit(x_train, y_train)\n",
    "\n",
    "best_params = grid_search.best_params_\n",
    "best_score = grid_search.best_score_\n",
    "\n",
    "print(\"Best Parameters:\", best_params)\n",
    "print(\"Best Score:\", best_score)\n",
    "\n",
    "best_model = grid_search.best_estimator_\n",
    "test_score = best_model.score(x_test, y_test)\n",
    "print(\"Test Set Score:\", test_score)"
   ]
  },
  {
   "cell_type": "code",
   "execution_count": 45,
   "id": "a79e8ee3",
   "metadata": {},
   "outputs": [],
   "source": [
    "from sklearn.metrics import roc_auc_score\n",
    "from sklearn.metrics import roc_curve\n",
    "from sklearn import metrics"
   ]
  },
  {
   "cell_type": "markdown",
   "id": "4c45c04e",
   "metadata": {},
   "source": [
    "save the model using pickle"
   ]
  },
  {
   "cell_type": "markdown",
   "id": "4c1660cc",
   "metadata": {},
   "source": [
    "svc gives the best report so its taken to save as a model"
   ]
  },
  {
   "cell_type": "code",
   "execution_count": 46,
   "id": "311efc5f",
   "metadata": {},
   "outputs": [
    {
     "name": "stdout",
     "output_type": "stream",
     "text": [
      "Accuracy score 1.0\n",
      "Confusion matrix :\n",
      " [[41  0]\n",
      " [ 0 40]]\n",
      "Classification report :\n",
      "               precision    recall  f1-score   support\n",
      "\n",
      "           0       1.00      1.00      1.00        41\n",
      "           1       1.00      1.00      1.00        40\n",
      "\n",
      "    accuracy                           1.00        81\n",
      "   macro avg       1.00      1.00      1.00        81\n",
      "weighted avg       1.00      1.00      1.00        81\n",
      "\n",
      "cross validation score  0.9537980769230769\n",
      "The final result of accuracy minus cross validation is  0.04620192307692306\n"
     ]
    }
   ],
   "source": [
    "svc=SVC()\n",
    "svc.fit(x_train,y_train)\n",
    "        \n",
    "pred=svc.predict(x_test)\n",
    "        \n",
    "acc_score=accuracy_score(y_test,pred)\n",
    "print(\"Accuracy score\",acc_score)\n",
    "        \n",
    "print(\"Confusion matrix :\\n\",confusion_matrix(y_test,pred))\n",
    "        \n",
    "print(\"Classification report :\\n\",classification_report(y_test,pred))\n",
    "        \n",
    "cv_score=(cross_val_score(clf,x,y,cv=5).mean())\n",
    "print(\"cross validation score \",cv_score)\n",
    "        \n",
    "result=acc_score-cv_score\n",
    "print(\"The final result of accuracy minus cross validation is \",result)"
   ]
  },
  {
   "cell_type": "code",
   "execution_count": 47,
   "id": "d18770a1",
   "metadata": {},
   "outputs": [],
   "source": [
    "import pickle"
   ]
  },
  {
   "cell_type": "code",
   "execution_count": 49,
   "id": "980c26ab",
   "metadata": {},
   "outputs": [],
   "source": [
    "filename='glass.pkl'\n",
    "pickle.dump(svc,open(filename,'wb'))"
   ]
  },
  {
   "cell_type": "code",
   "execution_count": 51,
   "id": "d83902f6",
   "metadata": {},
   "outputs": [
    {
     "name": "stdout",
     "output_type": "stream",
     "text": [
      "100.0\n"
     ]
    }
   ],
   "source": [
    "loaded_model=pickle.load(open('glass.pkl','rb'))\n",
    "result=loaded_model.score(x_test,y_test)\n",
    "print(result*100)"
   ]
  },
  {
   "cell_type": "code",
   "execution_count": 52,
   "id": "a151fbb1",
   "metadata": {},
   "outputs": [
    {
     "data": {
      "text/html": [
       "<div>\n",
       "<style scoped>\n",
       "    .dataframe tbody tr th:only-of-type {\n",
       "        vertical-align: middle;\n",
       "    }\n",
       "\n",
       "    .dataframe tbody tr th {\n",
       "        vertical-align: top;\n",
       "    }\n",
       "\n",
       "    .dataframe thead th {\n",
       "        text-align: right;\n",
       "    }\n",
       "</style>\n",
       "<table border=\"1\" class=\"dataframe\">\n",
       "  <thead>\n",
       "    <tr style=\"text-align: right;\">\n",
       "      <th></th>\n",
       "      <th>0</th>\n",
       "      <th>1</th>\n",
       "      <th>2</th>\n",
       "      <th>3</th>\n",
       "      <th>4</th>\n",
       "      <th>5</th>\n",
       "      <th>6</th>\n",
       "      <th>7</th>\n",
       "      <th>8</th>\n",
       "      <th>9</th>\n",
       "      <th>...</th>\n",
       "      <th>71</th>\n",
       "      <th>72</th>\n",
       "      <th>73</th>\n",
       "      <th>74</th>\n",
       "      <th>75</th>\n",
       "      <th>76</th>\n",
       "      <th>77</th>\n",
       "      <th>78</th>\n",
       "      <th>79</th>\n",
       "      <th>80</th>\n",
       "    </tr>\n",
       "  </thead>\n",
       "  <tbody>\n",
       "    <tr>\n",
       "      <th>Predicted</th>\n",
       "      <td>0</td>\n",
       "      <td>0</td>\n",
       "      <td>1</td>\n",
       "      <td>0</td>\n",
       "      <td>1</td>\n",
       "      <td>0</td>\n",
       "      <td>0</td>\n",
       "      <td>1</td>\n",
       "      <td>0</td>\n",
       "      <td>1</td>\n",
       "      <td>...</td>\n",
       "      <td>0</td>\n",
       "      <td>0</td>\n",
       "      <td>0</td>\n",
       "      <td>0</td>\n",
       "      <td>1</td>\n",
       "      <td>0</td>\n",
       "      <td>0</td>\n",
       "      <td>0</td>\n",
       "      <td>0</td>\n",
       "      <td>1</td>\n",
       "    </tr>\n",
       "    <tr>\n",
       "      <th>Original</th>\n",
       "      <td>0</td>\n",
       "      <td>0</td>\n",
       "      <td>1</td>\n",
       "      <td>0</td>\n",
       "      <td>1</td>\n",
       "      <td>0</td>\n",
       "      <td>0</td>\n",
       "      <td>1</td>\n",
       "      <td>0</td>\n",
       "      <td>1</td>\n",
       "      <td>...</td>\n",
       "      <td>0</td>\n",
       "      <td>0</td>\n",
       "      <td>0</td>\n",
       "      <td>0</td>\n",
       "      <td>1</td>\n",
       "      <td>0</td>\n",
       "      <td>0</td>\n",
       "      <td>0</td>\n",
       "      <td>0</td>\n",
       "      <td>1</td>\n",
       "    </tr>\n",
       "  </tbody>\n",
       "</table>\n",
       "<p>2 rows × 81 columns</p>\n",
       "</div>"
      ],
      "text/plain": [
       "           0   1   2   3   4   5   6   7   8   9   ...  71  72  73  74  75  \\\n",
       "Predicted   0   0   1   0   1   0   0   1   0   1  ...   0   0   0   0   1   \n",
       "Original    0   0   1   0   1   0   0   1   0   1  ...   0   0   0   0   1   \n",
       "\n",
       "           76  77  78  79  80  \n",
       "Predicted   0   0   0   0   1  \n",
       "Original    0   0   0   0   1  \n",
       "\n",
       "[2 rows x 81 columns]"
      ]
     },
     "execution_count": 52,
     "metadata": {},
     "output_type": "execute_result"
    }
   ],
   "source": [
    "conclusion=pd.DataFrame([loaded_model.predict(x_test)[:],pred[:]],index=['Predicted','Original'])\n",
    "conclusion"
   ]
  },
  {
   "cell_type": "code",
   "execution_count": null,
   "id": "0b6a45fd",
   "metadata": {},
   "outputs": [],
   "source": []
  }
 ],
 "metadata": {
  "kernelspec": {
   "display_name": "Python 3 (ipykernel)",
   "language": "python",
   "name": "python3"
  },
  "language_info": {
   "codemirror_mode": {
    "name": "ipython",
    "version": 3
   },
   "file_extension": ".py",
   "mimetype": "text/x-python",
   "name": "python",
   "nbconvert_exporter": "python",
   "pygments_lexer": "ipython3",
   "version": "3.11.5"
  }
 },
 "nbformat": 4,
 "nbformat_minor": 5
}
