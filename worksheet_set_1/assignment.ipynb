{
 "cells": [
  {
   "cell_type": "code",
   "execution_count": 19,
   "id": "925f4ccf",
   "metadata": {},
   "outputs": [],
   "source": [
    "import math"
   ]
  },
  {
   "cell_type": "markdown",
   "id": "c714929e",
   "metadata": {},
   "source": [
    "# 1"
   ]
  },
  {
   "cell_type": "code",
   "execution_count": 2,
   "id": "93b2b739",
   "metadata": {},
   "outputs": [],
   "source": [
    "def fact(n):\n",
    "    k=1\n",
    "    for i in range(1,n+1):\n",
    "        k=k*i\n",
    "    return k"
   ]
  },
  {
   "cell_type": "code",
   "execution_count": 3,
   "id": "6798686b",
   "metadata": {},
   "outputs": [
    {
     "name": "stdout",
     "output_type": "stream",
     "text": [
      "Enter the value of n : 4\n",
      "24\n"
     ]
    }
   ],
   "source": [
    "print(fact(int(input(\"Enter the value of n : \"))))"
   ]
  },
  {
   "cell_type": "markdown",
   "id": "f6ae0081",
   "metadata": {},
   "source": [
    "# 2"
   ]
  },
  {
   "cell_type": "code",
   "execution_count": 10,
   "id": "d4c5ce4d",
   "metadata": {},
   "outputs": [],
   "source": [
    "def prime(n):\n",
    "    k=0\n",
    "    for i in range(1,n+1):\n",
    "        if (n%i==0):\n",
    "            k=k+1\n",
    "    if k>2:\n",
    "        print(\"composite\")\n",
    "    else:\n",
    "        print(\"prime\")"
   ]
  },
  {
   "cell_type": "code",
   "execution_count": 11,
   "id": "2690230b",
   "metadata": {},
   "outputs": [
    {
     "name": "stdout",
     "output_type": "stream",
     "text": [
      "Enter the number to check : 4\n",
      "composite\n"
     ]
    }
   ],
   "source": [
    "prime(int(input(\"Enter the number to check : \")))\n"
   ]
  },
  {
   "cell_type": "markdown",
   "id": "99045c17",
   "metadata": {},
   "source": [
    "# 3"
   ]
  },
  {
   "cell_type": "code",
   "execution_count": 16,
   "id": "f34acf85",
   "metadata": {},
   "outputs": [],
   "source": [
    "def hyp(p,b):\n",
    "    h=math.sqrt((p**2)+(b**2))\n",
    "    print(h)\n",
    "    \n",
    "def ppd(h,b):\n",
    "    p=math.sqrt((h**2)-(b**2))\n",
    "    print(p)\n",
    "    \n",
    "def bl(h,p):\n",
    "    b=math.sqrt((h**2)-(p**2))\n",
    "    print(b)\n",
    "    \n",
    "    "
   ]
  },
  {
   "cell_type": "code",
   "execution_count": 21,
   "id": "13373a46",
   "metadata": {},
   "outputs": [
    {
     "name": "stdout",
     "output_type": "stream",
     "text": [
      "enter values you have : \n",
      "if hypotonuse choose 1\n",
      "if perpendicular choose 2\n",
      "if base choose 3 : 1\n",
      "enter 1st side :4\n",
      "enter 2nd side :5\n",
      "6.4031242374328485\n"
     ]
    }
   ],
   "source": [
    "n=int(input('''enter values you have : \n",
    "if hypotonuse choose 1\n",
    "if perpendicular choose 2\n",
    "if base choose 3 : '''))\n",
    "x=int(input(\"enter 1st side :\"))\n",
    "y=int(input(\"enter 2nd side :\"))\n",
    "if n==1:\n",
    "    hyp(x,y)\n",
    "elif n==2:\n",
    "    ppd(x,y)\n",
    "elif n==3: \n",
    "    bl(x,y)"
   ]
  },
  {
   "cell_type": "markdown",
   "id": "2dc3c242",
   "metadata": {},
   "source": [
    "# 4"
   ]
  },
  {
   "cell_type": "code",
   "execution_count": 23,
   "id": "7df4f028",
   "metadata": {},
   "outputs": [],
   "source": [
    "def palindrome(string):\n",
    "    if string == string[::-1]:\n",
    "        print(\"The given string is a palindrome.\")\n",
    "    else:\n",
    "        print(\"The given string is not a palindrome.\")\n"
   ]
  },
  {
   "cell_type": "code",
   "execution_count": 24,
   "id": "db887b0f",
   "metadata": {},
   "outputs": [
    {
     "name": "stdout",
     "output_type": "stream",
     "text": [
      "Enter string: eve\n",
      "The given string is a palindrome.\n"
     ]
    }
   ],
   "source": [
    "str = input(\"Enter string: \")\n",
    "palindrome(str)"
   ]
  },
  {
   "cell_type": "markdown",
   "id": "0e6a96cf",
   "metadata": {},
   "source": [
    "# 5"
   ]
  },
  {
   "cell_type": "code",
   "execution_count": 9,
   "id": "2d0a3afd",
   "metadata": {},
   "outputs": [],
   "source": [
    "def frequency_of_characters(string):\n",
    "    for char in set(string):\n",
    "        print(f'The frequency of {char} is {string.count(char)}')"
   ]
  },
  {
   "cell_type": "code",
   "execution_count": 10,
   "id": "7e086acd",
   "metadata": {},
   "outputs": [
    {
     "name": "stdout",
     "output_type": "stream",
     "text": [
      "Enter the string to be checked :mississippi\n",
      "The frequency of m is 1\n",
      "The frequency of s is 4\n",
      "The frequency of i is 4\n",
      "The frequency of p is 2\n"
     ]
    }
   ],
   "source": [
    "frequency_of_characters(input(\"Enter the string to be checked :\"))"
   ]
  },
  {
   "cell_type": "code",
   "execution_count": null,
   "id": "975f9064",
   "metadata": {},
   "outputs": [],
   "source": []
  }
 ],
 "metadata": {
  "kernelspec": {
   "display_name": "Python 3 (ipykernel)",
   "language": "python",
   "name": "python3"
  },
  "language_info": {
   "codemirror_mode": {
    "name": "ipython",
    "version": 3
   },
   "file_extension": ".py",
   "mimetype": "text/x-python",
   "name": "python",
   "nbconvert_exporter": "python",
   "pygments_lexer": "ipython3",
   "version": "3.11.5"
  }
 },
 "nbformat": 4,
 "nbformat_minor": 5
}
